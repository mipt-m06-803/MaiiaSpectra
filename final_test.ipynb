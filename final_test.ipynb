{
 "cells": [
  {
   "cell_type": "markdown",
   "metadata": {
    "collapsed": true
   },
   "source": [
    "# Итоговый тест\n",
    "\n",
    "| <font size=3>№</font> | <font size=3>Название задачи</font> | <font size=3>Общее число баллов за решение</font> | <font size=3>Оценка времени на решение</font> |\n",
    "| :---: | :---: | :---: | :---: |\n",
    "| <font size=3>1</font> | <font size=3>Ферзь</font> | <font size=3> 1 </font> | 5 мин |\n",
    "| <font size=3>2</font> | <font size=3>Поматрица</font> | <font size=3> 1 </font> | 10 мин |\n",
    "| <font size=3>3</font> | <font size=3>Сортировка</font> | <font size=3> 1 </font> | 5 мин |\n",
    "| <font size=3>4</font> | <font size=3>Добавление элементов в словарь</font> | <font size=3> 1 </font> | 5 мин |\n",
    "| <font size=3>5</font> | <font size=3>Подсчет символов</font> | <font size=3> 2 </font> | 15 мин |\n",
    "| <font size=3>6</font> | <font size=3>Калькулятор множеств</font> | <font size=3> 2 </font> | 20 мин |\n",
    "| <font size=3>7</font> | <font size=3>Средняя траектория</font> | <font size=3> 2 </font> | 25 мин |\n",
    "| <font size=3>8</font> | <font size=3>Удаление комментариев</font> | <font size=3> 4 </font> | 35 мин |\n",
    "| <font size=3>9</font> | <font size=3>Максимальное частное</font> | <font size=3> 5,2 </font> | 50 мин |\n",
    "| <font size=3>10</font> | <font size=3>Числа Фибоначчи</font> | <font size=3> 1 </font> | 5 мин |\n",
    "| <font size=3>ВСЕГО</font> | <font size=3>&nbsp;</font> | <font size=3> 20.2 </font> | 2 ч 55 мин |\n",
    "\n",
    "# <font color=blue> Задача 1. Ферзь</font>\n",
    "\n",
    "Шахматный ферзь перемещается на любое количество клеток по горизонтали, вертикали или диагонали. Даны две различные клетки шахматной доски, определите, может ли ферзь попасть с первой клетки на вторую одним ходом. Программа получает на вход четыре числа в одной строке от 1 до 8 каждое, задающие номер столбца и номер строки сначала для первой клетки, потом для второй клетки. Программа должна вывести YES, если из первой клетки ходом ферзя можно попасть во вторую или NO в противном случае.\n",
    "\n",
    "Для простоты можно не рассматривать случай, когда данные клетки совпадают.\n",
    "\n",
    "### Примеры работы программы\n",
    "\n",
    "| <font size=3>Входные данные</font> | <font size=3>Выходные данные</font> |\n",
    "| :---: | :---: |\n",
    "| <font size=3>1 1 8 8</font> | <font size=3>YES</font> |\n",
    "| <font size=3>1 1 2 3</font> | <font size=3>NO</font> |\n",
    "| <font size=3>4 4 2 2</font> | <font size=3>YES</font> |\n",
    "| <font size=3>4 4 1 4</font> | <font size=3>YES</font> |\n",
    "| <font size=3>4 4 4 1</font> | <font size=3>YES</font> |\n",
    "| <font size=3>5 5 7 5</font> | <font size=3>YES</font> |\n",
    "| <font size=3>5 5 4 3</font> | <font size=3>NO</font> |\n",
    "\n",
    "### Критерии\n",
    "\n",
    "За правильное решение начисляется 1 балл"
   ]
  },
  {
   "cell_type": "code",
   "execution_count": 11,
   "metadata": {},
   "outputs": [
    {
     "name": "stdout",
     "output_type": "stream",
     "text": [
      "5 5 4 3\t\n",
      "NO\n"
     ]
    }
   ],
   "source": [
    "x1, y1, x2, y2 = [int(i) for i in input().split()]\n",
    "if abs(x1-x2)==abs(y1-y2) or abs(x1-x2)==0 or abs(y1-y2)==0:\n",
    "    print('YES')\n",
    "else:\n",
    "    print('NO')"
   ]
  },
  {
   "cell_type": "markdown",
   "metadata": {},
   "source": [
    "# <font color=blue>Задача 2. Подматрица</font>\n",
    "\n",
    "Получите из матрицы $A$ матрицу $B$ путем удаления $i$-й строки и $j$-го столбца (индексация строк и столбцов начинается с нуля, как двумерных массивах Python). Матрица $A$ записана в файле <font color=green face=\"Courier\" size=3>ex2_A.txt</font>. Запишите подматрицу $B$ в файл <font color=green face=\"Courier\" size=3>ex2_B.txt</font>, разделяя числа в строках одной табуляцией.\n",
    "\n",
    "На вход подаются числа $i$, $j$, разделенные пробелами. Проверку принадлежности $i$ и $j$ границам массива можно не выполнять.\n",
    "\n",
    "### Пример работы программы\n",
    "\n",
    "| <font size=3>Путь к файлу с матрицей <font color=red face=\"Monaco\" size=3>A</font></font> | <font size=3>Входные данные</font> | <font size=3>Путь к файлу с матрицей <font color=red face=\"Monaco\" size=3>B</font></font> |\n",
    "| :---: | :---: | :---: |\n",
    "| <font size=3>python-biocad/files/final/ex2_A.txt</font> | <font size=3>1 3</font> | <font size=3>python-biocad/files/final/ex2_B.txt</font> | \n",
    "\n",
    "### Критерии\n",
    "\n",
    "За правильное решение начисляется 1 балл\n",
    "\n",
    "### Команды для скачивания файлов\n",
    "\n",
    "```bash\n",
    "wget https://raw.githubusercontent.com/mipt-cs/python-biocad/master/files/final/ex2_A.txt\n",
    "wget https://raw.githubusercontent.com/mipt-cs/python-biocad/master/files/final/ex2_B.txt\n",
    "```"
   ]
  },
  {
   "cell_type": "code",
   "execution_count": 47,
   "metadata": {},
   "outputs": [
    {
     "name": "stdout",
     "output_type": "stream",
     "text": [
      "1 3\n"
     ]
    }
   ],
   "source": [
    "with open('ex2_A.txt', 'r', encoding='utf-8') as f:\n",
    "    lines=f.readlines()\n",
    "L=[]\n",
    "for line in lines:\n",
    "    L.append(line.split())\n",
    "    n=len(lines) #stroki\n",
    "    m=len(line.split())#stolbci\n",
    "# print(n, m)\n",
    "\n",
    "N, M = [int(i) for i in input().split()]\n",
    "            \n",
    "with open('ex2_B.txt', 'w', encoding='utf-8') as f:\n",
    "    for i in range(n):\n",
    "        if i!=N:\n",
    "            s1='\\t'.join(L[i][:M]) +'\\t'+ '\\t'.join(L[i][M+1:]) + '\\n'\n",
    "            f.write(s1)\n",
    "           "
   ]
  },
  {
   "cell_type": "markdown",
   "metadata": {},
   "source": [
    "# <font color=blue> Задача 3. Сортировка</font>\n",
    "\n",
    "В словаре $D$ содержатся элементы, ключами которых являются строки, а значениями списки. Распечатайте элементы словаря $D[k]$ в порядке уменьшения числа элементов в списках $D[k]$.\n",
    "\n",
    "### Указания\n",
    "\n",
    "1. Примените функцию `sorted()` с именованным аргументом `key`.\n",
    "\n",
    "2. Используйте анонимную функцию.\n",
    "\n",
    "### Пример выходных данных\n",
    "\n",
    "| <font size=3>Выходные данные</font> |\n",
    "| :--- |\n",
    "| <font face=\"Courier\" size=3>XNYDs [2, 5, 7, 8, 3, 5, 1, 3, 1, 3, 7, 7, 1, 7, 6, 10, 4, 0, 1]<br>KhPAE [6, 4, 5, 10, 5, 6, 4, 2, 9, 6, 1, 8, 5, 9, 6, 8, 9, 9]<br>Cjzav [0, 10, 0, 2, 7, 1, 8, 5, 10, 10, 7, 3, 8, 8]<br>UnycV [6, 8, 10, 0, 3, 6, 2, 5, 8, 9, 8]<br>XTVNa [1, 6, 7, 5, 6, 9, 10, 10]<br>kGily [2, 6, 9, 1, 2, 6, 3]<br>bNqZk [7, 7, 8, 1, 8]<br>zmhCB [0, 7, 3, 9]<br>IvXYK [5, 3, 2, 1]<br>zCQBk [8, 0, 5]</font>| \n",
    "\n",
    "### Критерии\n",
    "\n",
    "За правильное решение с применением функции `sorted()` и анонимной функции начисляется 1 балл.\n",
    "<font color=red>3 мин</font>"
   ]
  },
  {
   "cell_type": "code",
   "execution_count": 21,
   "metadata": {},
   "outputs": [
    {
     "name": "stdout",
     "output_type": "stream",
     "text": [
      "HFaMW [8, 3, 2, 5, 8, 4, 6, 5, 10, 6, 5, 3, 5, 5, 2, 10, 2, 6]\n",
      "aHZTR [5, 3, 0, 8, 8, 2, 0, 0, 0, 3, 1, 10, 2, 2, 1, 0, 8, 7]\n",
      "oPsVr [8, 9, 4, 4, 9, 9, 10, 6, 1, 1, 3, 5, 7, 5, 1, 7, 0]\n",
      "SwNez [1, 0, 0, 0, 4, 3, 1, 9, 1, 7, 5, 1, 9, 9, 9, 2, 9]\n",
      "iBDjd [10, 5, 3, 2, 2, 4, 3, 10, 0, 3, 2, 9, 7]\n",
      "YfCWP [5, 1, 7, 1, 10, 4, 7, 8, 4, 3, 1, 3]\n",
      "stJdF [6, 4, 9, 2, 6, 4, 2, 0, 3, 5, 3]\n",
      "PEKTv [0, 0, 5, 4, 2, 6, 3, 6, 6]\n",
      "wGcTo [4, 3, 0, 9, 0, 4, 2, 3, 6]\n",
      "NgWJp [7]\n"
     ]
    }
   ],
   "source": [
    "import random\n",
    "import string\n",
    "letters = string.ascii_letters\n",
    "\n",
    "D = {}\n",
    "while len(D) < 10:\n",
    "    D[''.join(random.sample(letters, 5))] = [random.randint(0, 10) for _ in range(random.randint(0, 20))]\n",
    "#@@@    \n",
    "\n",
    "d=sorted(D.items(), key= lambda v: len(v[1]), reverse=True)\n",
    "# print(d)\n",
    "# print()\n",
    "for el in d:\n",
    "    print(el[0], el[1])"
   ]
  },
  {
   "cell_type": "markdown",
   "metadata": {},
   "source": [
    "# <font color=blue>Задача 4. Добавление элементов в словарь</font>\n",
    "\n",
    "Для каждой пары ключ-значение $k$, $v$ словаря $D$ добавьте словарь \"обратный\" элемент, у которого ключом будет $v$, а значением - $k$. Если элемент с ключом $v$ уже есть в словаре, то элемент не надо добавлять.\n",
    "\n",
    "В словаре $D$ ключами  и значениями являются строки, не содержащие пробелов.\n",
    "\n",
    "Инициализируйте словарь $D$ с клавиатуры, считывая с клавиатуры пары   ключ-значение $k$, $v$ (ключи и значения отделяются друг от друга пробелом).\n",
    "\n",
    "Распечатайте словарь после добавления \"обратных\" элементов. Каждая пара ключ-значение должна оказаться в отдельной строке. Ключ и значение должны быть разделены пробелом.\n",
    "\n",
    "### Примеры работы программы\n",
    "\n",
    "Иногда возможны несколько вариантов выходных данных.\n",
    "\n",
    "| <font size=3>Входные данные</font> | <font size=3>Выходные данные 1 вариант</font> | <font size=3>Выходные данные 2 вариант</font> |\n",
    "| :---: | :---: | :---: |\n",
    "| <font size=3>a b<br>c d<br>STOP</font> | <font size=3>a b<br>c d<br>b a<br>d c</font> | &nbsp; |\n",
    "| <font size=3>a b<br>c b<br>STOP</font> | <font size=3>a b<br>c b<br>b a</font> | <font size=3>a b<br>c b<br>b c</font> |\n",
    "| <font size=3>a b<br>c a<br>STOP</font> | <font size=3>a b<br>c a<br>b a</font> | <font size=3>a c<br>c a<br>b a</font> |\n",
    "\n",
    "### Критерии\n",
    "\n",
    "За правильное решение начисляется 1 балл.\n",
    "\n",
    "<font color=red>7 мин</font>"
   ]
  },
  {
   "cell_type": "code",
   "execution_count": 4,
   "metadata": {},
   "outputs": [
    {
     "name": "stdout",
     "output_type": "stream",
     "text": [
      "a b\n",
      "c a\n",
      "STOP\n",
      "a c\n",
      "b a\n",
      "c a\n"
     ]
    }
   ],
   "source": [
    "s=input()\n",
    "D={}\n",
    "while s!='STOP':\n",
    "    k, v = s.split()\n",
    "    D[k]=v\n",
    "    D[v]=k\n",
    "    s=input()\n",
    "for k,v in D.items():\n",
    "    print(k, v)"
   ]
  },
  {
   "cell_type": "code",
   "execution_count": 2,
   "metadata": {},
   "outputs": [],
   "source": [
    "# s=input()\n",
    "# D={}\n",
    "# while s!='STOP':\n",
    "#     k, v = s.split()\n",
    "#     D[k]=v\n",
    "#     s=input()\n",
    "\n",
    "# for k,v in D.items():\n",
    "#     D[v]=k\n",
    "\n",
    "# for k,v in D.items():\n",
    "#     print(k, v)"
   ]
  },
  {
   "cell_type": "markdown",
   "metadata": {},
   "source": [
    "# <font color=blue>Задача 5. Подсчет символов</font>\n",
    "\n",
    "Посчитайте число уникальных символов в тексте <font color=green face=\"Courier\" size=3>final_ex5_inp.txt</font> и запишите их в файл <font color=green face=\"Courier\" size=3>final_ex5_out.txt</font> в порядке убывания встречаемости вместе с числом экземпляров каждого символа (символ от числа повторений отделяется **табуляцией**).\n",
    "\n",
    "При записи используйте встроенную функцию `repr()` для того, чтобы корректно и понятно отображались пробел и специальные символы:\n",
    "```python\n",
    "char = '\\n'\n",
    "assert repr(char) == \"'\\n'\"\n",
    "```\n",
    "\n",
    "Используя средства Python, выполните следующие действия.\n",
    "\n",
    "1. Поместите файл <font color=green face=\"Courier\" size=3>final_ex5_out.txt</font> в директорию <font color=green face=\"Courier\" size=3>dir</font>. \n",
    "\n",
    "2. Если папка <font color=green face=\"Courier\" size=3>dir</font> не существует, создайте ее.\n",
    "\n",
    "3. Если папка <font color=green face=\"Courier\" size=3>dir</font> существует, то добейтесь, чтобы в ней после завершения программы был только файл <font color=green face=\"Courier\" size=3>final_ex5_out.txt</font>\n",
    "\n",
    "### Указания\n",
    "\n",
    "В решении подсчет символов должен быть реализован явно, т.е. без использования специальных инструментов, например класса `collections.Counter`.\n",
    "\n",
    "### Пример работы программы\n",
    "\n",
    "| <font size=3>Путь к входному файлу</font> | <font size=3>Путь выходному файлу</font> |\n",
    "| :---: | :---: |\n",
    "| <font size=3>python-biocad/files/final/final_ex5_inp.txt</font> | <font size=3>python-biocad/files/final/final_ex5_out.txt</font> | \n",
    "\n",
    "### Критерии\n",
    "\n",
    "1. За получение файла <font color=green face=\"Courier\" size=3>final_ex5_out.txt</font> с правильными результатами присуждается 1 балл.\n",
    "\n",
    "2. За полное выполнение задач, связанных с папкой <font color=green face=\"Courier\" size=3>dir</font> и помещением туда файла <font color=green face=\"Courier\" size=3>final_ex5_out.txt</font>, начисляется еще один балл.\n",
    "\n",
    "### Команды для скачивания файлов\n",
    "\n",
    "```bash\n",
    "wget https://raw.githubusercontent.com/mipt-cs/python-biocad/master/files/final/final_ex5_inp.txt\n",
    "wget https://raw.githubusercontent.com/mipt-cs/python-biocad/master/files/final/final_ex5_out.txt\n",
    "```"
   ]
  },
  {
   "cell_type": "code",
   "execution_count": 28,
   "metadata": {},
   "outputs": [],
   "source": [
    "import os\n",
    "import shutil\n",
    "os.chdir('C:\\\\Users\\\\lenovo\\\\Documents\\\\GitHub\\\\MaiiaSpectra') \n",
    "#print(os.getcwd())\n",
    "with open('final_ex5_inp.txt', 'r', encoding='utf-8') as f:\n",
    "    text=f.read()\n",
    "    s=set(text)\n",
    "d={}\n",
    "for el in s:\n",
    "    d[el] = 0\n",
    "for i in range(len(text)):\n",
    "    if text[i] in d.keys():\n",
    "        d[text[i]] +=1\n",
    "if os.path.exists('C:\\\\Users\\\\lenovo\\\\Documents\\\\GitHub\\\\MaiiaSpectra\\\\dir')==False:\n",
    "    os.mkdir('dir')\n",
    "    os.chdir('dir')\n",
    "else:\n",
    "    shutil.rmtree('C:\\\\Users\\\\lenovo\\\\Documents\\\\GitHub\\\\MaiiaSpectra\\\\dir')\n",
    "    os.mkdir('dir')\n",
    "    os.chdir('dir')\n",
    "# print(os.getcwd())\n",
    "d=sorted(d.items(), key= lambda v: v[1], reverse=True)\n",
    "with open('final_ex5_out.txt', 'w', encoding='utf-8') as f:\n",
    "    for el in d:\n",
    "        s=repr(el[0])+'\\t'+repr(el[1])+'\\n'\n",
    "        f.write(s)"
   ]
  },
  {
   "cell_type": "markdown",
   "metadata": {},
   "source": [
    "# <font color=blue>Задача 6. Калькулятор множеств</font>\n",
    "\n",
    "Выполните операции над поданными на вход множествами целых чисел.\n",
    "\n",
    "В первой строке подается первое множество, а в следующих строках подаются символ оператора и затем после пробела элементы множества в фигурных скобках. Элементы множества отделяются друг от друга запятыми без пробелов.\n",
    "\n",
    "Операции выполняются последовательно, то есть к результат $i$-й операции является левым операндом $(i+1)$-й операции.\n",
    "\n",
    "#### Обозначения:\n",
    "\n",
    "| <font size=3>Символ</font> | <font size=3>Операция</font> |\n",
    "| :---: | :---: |\n",
    "| <font size=3>&amp;</font> | <font size=3>Пересечение</font> |\n",
    "| <font size=3>&vert;</font> | <font size=3>Объединение</font> |\n",
    "| <font size=3>-</font> | <font size=3>Разность</font> |\n",
    "| <font size=3>^</font> | <font size=3>Симметричная разность</font> |\n",
    "\n",
    "На вход может быть подано пустое множество в виде фигурных скобок `{}`.\n",
    "\n",
    "Распечатайте полученное в программе множество в том же формате, в котором множества подаются на вход.\n",
    "\n",
    "#### Примеры:\n",
    "\n",
    "| <font size=3>вход</font> | <font size=3>выход</font> |&nbsp;&nbsp;&nbsp;&nbsp;&nbsp;&nbsp;&nbsp;&nbsp;&nbsp;&nbsp;&nbsp;&nbsp;&nbsp;&nbsp;&nbsp;&nbsp;| <font size=3>вход</font> | <font size=3>выход</font> | &nbsp;&nbsp;&nbsp;&nbsp;&nbsp;&nbsp;&nbsp;&nbsp;&nbsp;&nbsp;&nbsp;&nbsp;&nbsp;&nbsp;&nbsp;&nbsp;| <font size=3>вход</font> | <font size=3>выход</font> |&nbsp;&nbsp;&nbsp;&nbsp;&nbsp;&nbsp;&nbsp;&nbsp;&nbsp;&nbsp;&nbsp;&nbsp;&nbsp;&nbsp;&nbsp;&nbsp;| <font size=3>вход</font> | <font size=3>выход</font> |\n",
    "| :---: | :---: |:---:| :---: | :---: | :---: | :---: | :---: |:---:| :---: | :---: |\n",
    "| <font size=3>{1,2,3}<br>&amp; {2,3,4}<br>STOP</font> | <font size=3>{2,3}</font> |&nbsp;| <font size=3>{1,2,3}<br>&vert; {2,3,4}<br>STOP</font> | <font size=3>{1,2,3,4}</font> |&nbsp;| <font size=3>{1,2,3}<br>- {2,3,4}<br>STOP</font> | <font size=3>{1}</font> |&nbsp;| <font size=3>{1,2,3}<br>^ {2,3,4}<br>STOP</font> | <font size=3>{1,4}</font> |\n",
    "| <font size=3>{1,2,3}<br>&amp; {2,3,4}<br>&amp; {2,4,5}<br>STOP</font> | <font size=3>{2}</font> |&nbsp;| <font size=3>{1,2,3}<br>&amp; {2,3,4}<br>&vert; {5}<br>STOP</font> | <font size=3>{2,3,5}</font> |&nbsp;| <font size=3>{1,2,3}<br>&amp; {2,3,4}<br>&vert; {}<br>STOP</font> | <font size=3>{2,3}</font> |&nbsp;| <font size=3>{2,3,4}<br>&amp; {}<br>STOP</font> | <font size=3>{}</font> |\n",
    "\n",
    "### Критерии\n",
    "\n",
    "1. За полное, безошибочное решение задачи начисляются 2 балла\n",
    "\n",
    "<font color=red>20 мин</font>"
   ]
  },
  {
   "cell_type": "code",
   "execution_count": 4,
   "metadata": {},
   "outputs": [
    {
     "name": "stdout",
     "output_type": "stream",
     "text": [
      "{2,3,4}\n",
      "& {}\n",
      "STOP\n",
      "{}\n"
     ]
    }
   ],
   "source": [
    "s1=input().replace('{', '')\n",
    "s1=s1.replace('}', '')\n",
    "s1=set(s1)-set(',')\n",
    "\n",
    "s=input()\n",
    "while s!='STOP':\n",
    "    f, s2= s.split()\n",
    "    s2=s2.replace('}', '')\n",
    "    s2=set(s2)-set(',')\n",
    "    if f=='&':\n",
    "        s1&=s2\n",
    "    if f=='|':\n",
    "        s1|+s2\n",
    "    if f=='-':\n",
    "        s1-=s2\n",
    "    if f=='^':\n",
    "        s1^=s2\n",
    "    s=input()\n",
    "print('{{{}}}'.format(','.join(s1)))"
   ]
  },
  {
   "cell_type": "markdown",
   "metadata": {},
   "source": [
    "# <font color=blue>Задача 7. Средняя траектория</font>\n",
    "\n",
    "В файлах <font color=green face=\"Courier\" size=3>&lt;num&gt;.txt</font> координаты точек 100 траекторий частиц. Вычислите среднюю траекторию и запишите в файл <font color=green face=\"Courier\" size=3>ex7_out.txt</font>.\n",
    "\n",
    "### Пример работы программы\n",
    "\n",
    "| <font size=3>Путь к входному файлу</font> | <font size=3>Путь выходному файлу</font> |\n",
    "| :---: | :---: |\n",
    "| <font size=3>python-biocad/files/final/ex7/&lt;num&gt;.txt</font> | <font size=3>python-biocad/files/final/ex7_out.txt</font> | \n",
    "\n",
    "### Критерии\n",
    "\n",
    "1. За полное, безошибочное решение задачи начисляются 2 балла\n",
    "\n",
    "### Команды для скачивания файлов\n",
    "\n",
    "#### UNIX\n",
    "\n",
    "```bash\n",
    "mkdir ex7\n",
    "for num in {0..99}\n",
    "do\n",
    "    wget https://raw.githubusercontent.com/mipt-cs/python-biocad/master/files/final/ex7/${num}.txt -O ex7/${num}.txt\n",
    "done\n",
    "ls -1 ex7 | wc -l  # посчитать содержимое ex7\n",
    "```\n",
    "\n",
    "#### Windows cmd.exe\n",
    "\n",
    "```\n",
    "mkdir ex7\n",
    "for /L %v in (0,1,99) do ( \n",
    "    wget https://raw.githubusercontent.com/mipt-cs/python-biocad/master/files/final/ex7/%v.txt -O ex7/%v.txt\n",
    ")\n",
    "set count=0\n",
    "for %x in (ex7\\*) do (set /a count+=1 >nul)\n",
    "echo %count%\n",
    "```"
   ]
  },
  {
   "cell_type": "code",
   "execution_count": 35,
   "metadata": {},
   "outputs": [
    {
     "ename": "TypeError",
     "evalue": "write() takes exactly one argument (0 given)",
     "output_type": "error",
     "traceback": [
      "\u001b[1;31m---------------------------------------------------------------------------\u001b[0m",
      "\u001b[1;31mTypeError\u001b[0m                                 Traceback (most recent call last)",
      "\u001b[1;32m<ipython-input-35-ec37818378df>\u001b[0m in \u001b[0;36m<module>\u001b[1;34m\u001b[0m\n\u001b[0;32m     14\u001b[0m     \u001b[1;32mwith\u001b[0m \u001b[0mopen\u001b[0m\u001b[1;33m(\u001b[0m\u001b[1;34m'ex7_out.txt'\u001b[0m\u001b[1;33m,\u001b[0m \u001b[1;34m'a'\u001b[0m\u001b[1;33m,\u001b[0m \u001b[0mencoding\u001b[0m\u001b[1;33m=\u001b[0m\u001b[1;34m'utf-8'\u001b[0m\u001b[1;33m)\u001b[0m \u001b[1;32mas\u001b[0m \u001b[0mf\u001b[0m\u001b[1;33m:\u001b[0m\u001b[1;33m\u001b[0m\u001b[0m\n\u001b[0;32m     15\u001b[0m         \u001b[0ms\u001b[0m\u001b[1;33m=\u001b[0m\u001b[0mstr\u001b[0m\u001b[1;33m(\u001b[0m\u001b[0mmean\u001b[0m\u001b[1;33m(\u001b[0m\u001b[1;33m*\u001b[0m\u001b[0mx\u001b[0m\u001b[1;33m)\u001b[0m\u001b[1;33m)\u001b[0m\u001b[1;33m+\u001b[0m\u001b[1;34m' '\u001b[0m\u001b[1;33m+\u001b[0m \u001b[0mstr\u001b[0m\u001b[1;33m(\u001b[0m\u001b[0mmean\u001b[0m\u001b[1;33m(\u001b[0m\u001b[1;33m*\u001b[0m\u001b[0mx\u001b[0m\u001b[1;33m)\u001b[0m\u001b[1;33m)\u001b[0m\u001b[1;33m+\u001b[0m\u001b[1;34m' '\u001b[0m\u001b[1;33m+\u001b[0m\u001b[0mstr\u001b[0m\u001b[1;33m(\u001b[0m\u001b[0mmean\u001b[0m\u001b[1;33m(\u001b[0m\u001b[1;33m*\u001b[0m\u001b[0mz\u001b[0m\u001b[1;33m)\u001b[0m\u001b[1;33m)\u001b[0m\u001b[1;33m\u001b[0m\u001b[0m\n\u001b[1;32m---> 16\u001b[1;33m         \u001b[0mf\u001b[0m\u001b[1;33m.\u001b[0m\u001b[0mwrite\u001b[0m\u001b[1;33m(\u001b[0m\u001b[1;33m)\u001b[0m\u001b[1;33m\u001b[0m\u001b[0m\n\u001b[0m\u001b[0;32m     17\u001b[0m \u001b[1;33m\u001b[0m\u001b[0m\n",
      "\u001b[1;31mTypeError\u001b[0m: write() takes exactly one argument (0 given)"
     ]
    }
   ],
   "source": [
    "import math\n",
    "import os\n",
    "os.chdir('C:\\\\Users\\\\lenovo\\\\Documents\\\\GitHub\\\\MaiiaSpectra\\\\ex7')\n",
    "def mean(*args):\n",
    "    return sum(args) / len(args)\n",
    "\n",
    "arr = []\n",
    "for i in range(100):\n",
    "    with open('{}.txt'.format(i)) as f:\n",
    "        for line in f.readlines():\n",
    "            x, y, z = map(float, line.split())\n",
    "            arr.append((x, y, z))\n",
    "    x, y, z = zip(*arr)\n",
    "    with open('ex7_out.txt', 'a', encoding='utf-8') as f:\n",
    "        s=str(mean(*x))+' '+ str(mean(*x))+' '+str(mean(*z))\n",
    "        f.write()\n",
    "    "
   ]
  },
  {
   "cell_type": "markdown",
   "metadata": {},
   "source": [
    "# <font color=blue>Задача 8. Удаление комментариев</font>\n",
    "\n",
    "Комментарий в Паскаль-программе - это последовательность символов, которая начинается `\"(*\"`, заканчивается `\"*)\"` и не содержит `\"*)\"` внутри. Прочитать файл с Паскаль-программой <font color=green face=\"Courier\" size=3>final_ex8_inp.pas</font>, удалить в нем комментарии и вывести в файл <font color=green face=\"Courier\" size=3>final_ex8_out.pas</font>. Разбиение нового текста по строкам не имеет значения.\n",
    "\n",
    "### Пример работы программы\n",
    "\n",
    "| <font size=3>Путь к входному файлу</font> | <font size=3>Путь выходному файлу</font> |\n",
    "| :---: | :---: |\n",
    "| <font size=3>python-biocad/files/final/final_ex8_inp.pas</font> | <font size=3>python-biocad/files/final/final_ex8_out.pas</font> | \n",
    "\n",
    "### Критерии\n",
    "\n",
    "1. За полное, безошибочное решение задачи начисляются 1 балла\n",
    "\n",
    "2. Дополнительно 3 балла начисляются, если в решении был применен однопроходный алгоритм: по считанному тексту был выполнен 1 проход. Возможен вариант, в котором символы считываются из файла по одному. \n",
    "\n",
    "### Команды для скачивания файлов\n",
    "\n",
    "```bash\n",
    "wget https://raw.githubusercontent.com/mipt-cs/python-biocad/master/files/final/final_ex8_inp.pas\n",
    "wget https://raw.githubusercontent.com/mipt-cs/python-biocad/master/files/final/final_ex8_out.pas\n",
    "```\n"
   ]
  },
  {
   "cell_type": "code",
   "execution_count": 9,
   "metadata": {},
   "outputs": [],
   "source": [
    "with open('final_ex8_inp.pas', 'r', encoding='utf-8') as f:\n",
    "    text=f.read()\n",
    "copi=text\n",
    "for i in range(len(text)-2):\n",
    "    if text[i:i+2]=='(*':\n",
    "        j=i+2\n",
    "        while text[j:j+2]!='*)':\n",
    "            j+=1\n",
    "        s=text[i:j+2]\n",
    "        copi=copi.replace(s, '')\n",
    "with open('final_ex8_out.pas', 'w', encoding='utf-8') as f:\n",
    "    f.write(copi)"
   ]
  },
  {
   "cell_type": "markdown",
   "metadata": {},
   "source": [
    "# <font color=blue>Задача 9. Максимальное частное</font>\n",
    "\n",
    "На вход подается число $N > 1$, а затем $N$ вещественных чисел: каждое в отдельной строке. Найдите среди введенных чисел два числа, дающих максимальное частное при делении первого на второе. Решите задачу в 1 проход, не сохраняя все введенные числа.\n",
    "\n",
    "На выходе должны быть 2 числа, разделенные пробелом: делимое и делитель. \n",
    "\n",
    "Если есть две различных пары чисел, дающих максимальное частное, то должна быть распечатана та пара, у которой делимое меньше. Если у этих пар чисел одинаковфе делимые, то печатается пара с меньшим делителем.\n",
    "\n",
    "Если из входных данных нельзя сформировать пару чисел, распечатайте `None`.\n",
    "\n",
    "### Примеры работы программы\n",
    "\n",
    "| <font size=3>вход</font> | <font size=3>выход</font> | &nbsp;&nbsp;&nbsp;&nbsp;&nbsp;&nbsp;&nbsp;&nbsp;&nbsp;&nbsp;&nbsp;&nbsp;&nbsp;&nbsp;&nbsp;&nbsp; |  <font size=3>вход</font> | <font size=3>выход</font> | &nbsp;&nbsp;&nbsp;&nbsp;&nbsp;&nbsp;&nbsp;&nbsp;&nbsp;&nbsp;&nbsp;&nbsp;&nbsp;&nbsp;&nbsp;&nbsp; | <font size=3>вход</font> | <font size=3>выход</font> | &nbsp;&nbsp;&nbsp;&nbsp;&nbsp;&nbsp;&nbsp;&nbsp;&nbsp;&nbsp;&nbsp;&nbsp;&nbsp;&nbsp;&nbsp;&nbsp; |  <font size=3>вход</font> | <font size=3>выход</font> |\n",
    "| :---: | :---: | :---:| :---: | :---: | :---: | :---: | :---: | :---:| :---: | :---: |\n",
    "| <font size=3>2<br>0<br>0</font> | <font size=3>None</font> | &nbsp;&nbsp;&nbsp;&nbsp;&nbsp;&nbsp;&nbsp;&nbsp; | <font size=3>2<br>-0.5<br>0</font> | <font size=3>0.0 -0.5</font> |&nbsp;| <font size=3>2<br>-2<br>-1</font> | <font size=3>-2.0 -1.0</font> | &nbsp; | <font size=3>2<br>0<br>1</font> | <font size=3>0.0 1.0</font> |\n",
    "| <font size=3>2<br>2<br>1</font> | <font size=3>2.0 1.0</font> | &nbsp; | <font size=3>2<br>2<br>-1</font> | <font size=3>-1.0 2.0</font> |&nbsp;| <font size=3>2<br>1<br>-2</font> | <font size=3>1.0 -2.0</font> | &nbsp; | <font size=3>2<br>1<br>-1</font> | <font size=3>-1.0 1.0</font> |\n",
    "| <font size=3>3<br>1<br>-1<br>0</font> | <font size=3>0.0 -1.0</font> | &nbsp; | <font size=3>3<br>1<br>-1<br>4</font> | <font size=3>4.0 1.0</font> |&nbsp;| <font size=3>3<br>1<br>-1<br>-4</font> | <font size=3>-4.0 -1.0</font> | &nbsp; | <font size=3>&nbsp;</font> | <font size=3>&nbsp;</font> |\n",
    "| <font size=3>4<br>0.05<br>-0.1<br>-0.4<br>0.3</font> | <font size=3>0.3 0.05</font> | &nbsp; | <font size=3>4<br>-0.05<br>0.1<br>0.4<br>-0.3</font> | <font size=3>-0.3 -0.05</font> |&nbsp;| <font size=3>&nbsp;</font> | <font size=3>&nbsp;</font> | &nbsp; | <font size=3>&nbsp;</font> | <font size=3>&nbsp;</font> |\n",
    "\n",
    "### Критерии\n",
    "\n",
    "1. За правильную работу в случаях, когда среди поданных чисел больше одного положительного **и** больше одного отрицательного (примеры, в которых числа) начисляется 1 балл.\n",
    "\n",
    "2. Если при выполнении пункта 1 алгоритм однопроходный, начисляется еще 1 балл.\n",
    "\n",
    "3. Далее за каждый пройденный тест с 2-мя и 3-мя числами начисляется 0,2 балла.\n",
    "\n",
    "4. Если программа работает полностью правильно, вдобавок к пунктам 1 и 3 начисляется еще 1 балл."
   ]
  },
  {
   "cell_type": "code",
   "execution_count": 29,
   "metadata": {},
   "outputs": [
    {
     "name": "stdout",
     "output_type": "stream",
     "text": [
      "3\n",
      "-1\n",
      "1\n",
      "-4\n",
      "-1.0 -1.0\n"
     ]
    }
   ],
   "source": [
    "N=int(input())\n",
    "x1 = float(input()) \n",
    "x2 = float(input()) \n",
    "if x2 > x1: \n",
    "    x2, x1 = x1, x2 \n",
    "min1, min2 = x2, x1 \n",
    "max1, max2 = x1, x2 \n",
    "for i in range(N-2): \n",
    "    x = float(input()) \n",
    "    if x < min1: \n",
    "        min1, min2 = x, min1 \n",
    "    elif x < min2: \n",
    "        min2 = x \n",
    "\n",
    "    if x > max1: \n",
    "        max1, max2 = x, max1 \n",
    "    elif x > max2: \n",
    "        max2 = x \n",
    "if max1==min1==0:\n",
    "    print(None)\n",
    "elif min1==0 or min2==0:\n",
    "    print('0', min1)\n",
    "elif max1//min1==max(max1//min1, max1//min2, max2//min1, max2//min2):\n",
    "    print(max1, min1)\n",
    "elif max1//min2==max(max1//min1, max1//min2, max2//min1, max2//min2):\n",
    "    print(max1, min2)\n",
    "elif max2//min1==max(max1//min1, max1//min2, max2//min1, max2//min2):\n",
    "    print(max2, min1)\n",
    "elif max2//min2==max(max1//min1, max1//min2, max2//min1, max2//min2):\n",
    "    print(max2, min2)"
   ]
  },
  {
   "cell_type": "markdown",
   "metadata": {},
   "source": [
    "# <font color=blue>Задача 10. Числа Фибоначчи</font>\n",
    "\n",
    "Известно, что для чисел Фибоначчи справедливы тождества\n",
    "\n",
    "$$F_{2m} = F_{m+1}^2 - F_{m-1}^2\\\\F_{2m+1} = F_{m+1}^2 + F_m^2$$\n",
    "\n",
    "Реализуйте вычисление $n$-го числа Фибоначчи через рекурсию с использованием этих тождеств.\n",
    "\n",
    "### Критерии\n",
    "\n",
    "1. За правильное решение начисляется 1 балл."
   ]
  },
  {
   "cell_type": "code",
   "execution_count": 8,
   "metadata": {},
   "outputs": [
    {
     "name": "stdout",
     "output_type": "stream",
     "text": [
      "1\n",
      "1\n",
      "2\n",
      "3\n",
      "5\n",
      "8\n",
      "13\n",
      "21\n",
      "34\n"
     ]
    }
   ],
   "source": [
    "def fib(n):\n",
    "    if n < 3:\n",
    "        return 1  \n",
    "    elif n%2==0:\n",
    "        return (fib(n//2+1))**2 - (fib(n//2-1))**2 \n",
    "    else:\n",
    "        return (fib((n-1)//2+1))**2 + (fib((n-1)//2))**2  \n",
    "    \n",
    "# for i in range(1,10):\n",
    "#     print(fib(i))"
   ]
  },
  {
   "cell_type": "code",
   "execution_count": null,
   "metadata": {},
   "outputs": [],
   "source": []
  }
 ],
 "metadata": {
  "kernelspec": {
   "display_name": "Python 3",
   "language": "python",
   "name": "python3"
  }
 },
 "nbformat": 4,
 "nbformat_minor": 2
}
