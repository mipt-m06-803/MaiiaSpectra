{
 "cells": [
  {
   "cell_type": "markdown",
   "metadata": {},
   "source": [
    "# <font color=blue>test7</font>\n",
    "<font color=red>Время выполнения: 50 мин</font>\n",
    "\n",
    "\n",
    "# Задача 1. Имена и фамилии\n",
    "\n",
    "В файле <font color=green>ex1_inp.txt</font> записаны имена и фамилии людей, но есть одна проблема: в части записей первой указана фамилия, а в других записях - имя. Перепишите содержимое файла <font color=green>ex1_inp.txt</font> в файл <font color=green>ex1_out.txt</font> так, чтобы фамилия всегда шла первой. Гарантируется, что в каждой строке файла найдется ровно одна фамилия с одним из окончаний `\"ов\"`, `\"ев\"`, `\"ова\"`, `\"ева\"`, `\"ин\"`, `\"ина\"`, `\"ий\"`, `\"ая\"`.\n",
    "\n",
    "| <font size=3>Пример входного файла</font>      | <font size=3>Пример выходного файла</font>    |\n",
    "| :--- | :--- |\n",
    "| <font size=3>python-biocad/files/test7/ex1_inp.txt</font> | <font size=3>python-biocad/files/test7/ex1_out.txt</font> |\n",
    "\n",
    "#### Указания\n",
    "1. Используйте для записи в файл строку форматирования. \n",
    "\n",
    "- Запрещается использование каких-либо операторов над строками, а всех методов кроме `str.format()`.\n",
    "\n",
    "- Для определения того, входит ли конец слова в набор возможных окончаний фамилий, используйте пересечение множеств.\n",
    "\n",
    "### Критерии\n",
    "| <font size=3>баллы</font> | <font size=3>критерий</font> |\n",
    "| :---: | :---: |\n",
    "| <font size=3>0</font> | <font size=3>решение содержит ошибку</font> |\n",
    "| <font size=3>1</font> | <font size=3>решение верно, но оно не соответствует требованиям к решению, оцениваемому в 2 балла</font> |\n",
    "| <font size=3>3</font> | <font size=3>решение верно и в нем используется строка форматирования</font> |\n",
    "\n",
    "1. Файл <font color=green>ex1_inp.txt</font> можно скачать с помощью \n",
    "```\n",
    "wget https://raw.githubusercontent.com/mipt-cs/python-biocad/master/files/test7/ex1_inp.txt\n",
    "```\n",
    "или найти в репозитории по пути <font color=green>python-biocad/files/test7/ex1_inp.txt</font>.\n",
    "\n",
    "2. Файл <font color=green>ex1_out.txt</font> можно скачать с помощью \n",
    "```\n",
    "wget https://raw.githubusercontent.com/mipt-cs/python-biocad/master/files/test7/ex1_out.txt\n",
    "```\n",
    "или найти в репозитории по пути <font color=green>python-biocad/files/test7/ex1_out.txt</font>."
   ]
  },
  {
   "cell_type": "code",
   "execution_count": 8,
   "metadata": {},
   "outputs": [
    {
     "ename": "TypeError",
     "evalue": "'in <string>' requires string as left operand, not set",
     "output_type": "error",
     "traceback": [
      "\u001b[1;31m---------------------------------------------------------------------------\u001b[0m",
      "\u001b[1;31mTypeError\u001b[0m                                 Traceback (most recent call last)",
      "\u001b[1;32m<ipython-input-8-9d417a9c43bc>\u001b[0m in \u001b[0;36m<module>\u001b[1;34m\u001b[0m\n\u001b[0;32m      4\u001b[0m \u001b[0mf2\u001b[0m \u001b[1;33m=\u001b[0m \u001b[0mopen\u001b[0m\u001b[1;33m(\u001b[0m\u001b[1;34m'ex1_out.txt'\u001b[0m\u001b[1;33m,\u001b[0m \u001b[1;34m'w'\u001b[0m\u001b[1;33m)\u001b[0m\u001b[1;33m\u001b[0m\u001b[0m\n\u001b[0;32m      5\u001b[0m \u001b[1;32mfor\u001b[0m \u001b[0mel\u001b[0m \u001b[1;32min\u001b[0m \u001b[0ml\u001b[0m\u001b[1;33m:\u001b[0m\u001b[1;33m\u001b[0m\u001b[0m\n\u001b[1;32m----> 6\u001b[1;33m     \u001b[1;32mif\u001b[0m \u001b[0ms\u001b[0m \u001b[1;32min\u001b[0m \u001b[0mel\u001b[0m\u001b[1;33m[\u001b[0m\u001b[1;36m0\u001b[0m\u001b[1;33m]\u001b[0m\u001b[1;33m:\u001b[0m\u001b[1;33m\u001b[0m\u001b[0m\n\u001b[0m\u001b[0;32m      7\u001b[0m         \u001b[0mf2\u001b[0m\u001b[1;33m.\u001b[0m\u001b[0mwrite\u001b[0m\u001b[1;33m(\u001b[0m\u001b[1;34m\"{} {}\"\u001b[0m\u001b[1;33m.\u001b[0m\u001b[0mformat\u001b[0m\u001b[1;33m(\u001b[0m\u001b[0mel\u001b[0m\u001b[1;33m[\u001b[0m\u001b[1;36m1\u001b[0m\u001b[1;33m]\u001b[0m\u001b[1;33m,\u001b[0m\u001b[0mel\u001b[0m\u001b[1;33m[\u001b[0m\u001b[1;36m0\u001b[0m\u001b[1;33m]\u001b[0m\u001b[1;33m)\u001b[0m\u001b[1;33m)\u001b[0m\u001b[1;33m\u001b[0m\u001b[0m\n\u001b[0;32m      8\u001b[0m     \u001b[1;32melse\u001b[0m \u001b[1;33m:\u001b[0m\u001b[1;33m\u001b[0m\u001b[0m\n",
      "\u001b[1;31mTypeError\u001b[0m: 'in <string>' requires string as left operand, not set"
     ]
    }
   ],
   "source": [
    "s={\"ов\", \"ев\", \"ова\", \"ева\", \"ин\", \"ина\", \"ий\", \"ая\"}\n",
    "f1 = open('ex1_inp.txt', 'r', encoding='utf-8')\n",
    "l = f1.readlines()\n",
    "f2 = open('ex1_out.txt', 'w') \n",
    "for el in l:\n",
    "    if s in el[0]:\n",
    "        f2.write(\"{} {}\".format(el[1],el[0]))\n",
    "    else :\n",
    "        f2.write(\"{} {}\".format(el[0],el[1]))\n",
    "f2.close()\n",
    "f1.close()"
   ]
  },
  {
   "cell_type": "markdown",
   "metadata": {},
   "source": [
    "# Задача 2. Форматирование чисел\n",
    "\n",
    "Запишите введенное с клавиатуры положительное вещественное число в файл <font color=green>ex2_out.txt</font> в заданном формате. Руководствуйтесь следующими правилами.\n",
    "\n",
    "1. Если число меньше 1e-6, запишите его в формате с плавающей точкой с 5-ю знаками после запятой.\n",
    "\n",
    "2. Если число меньше 1e-2 и больше либо равно 1e-6, оно должно быть записано с точностью до 4 значащих цифр.\n",
    "\n",
    "3. Если число меньше 100 и больше либо равно 1e-2, запишите число в десятичном формате с точностью до 3 знаков после запятой.\n",
    "\n",
    "4. Если число больше либо равно 100, то его следует записать в строковом формате (\"{}\") в фигурных скобках.\n",
    "\n",
    "#### Указания\n",
    "1. Запрещается использование каких-либо операторов над строками, а всех методов кроме `str.format()`.\n",
    "\n",
    "2. Открывайте файл в режиме на дозапись.\n",
    "\n",
    "3. За 1 запуск программы в файл записывается ровно 1 число (нет цикла `while`)\n",
    "\n",
    "4. Крайние справа нули могут не записываться.\n",
    "\n",
    "| <font size=3>Входные данные</font>      |\n",
    "| :--- | :--- |\n",
    "| <font size=3>0.0000007654321</font> |\n",
    "| <font size=3>0.001</font> |\n",
    "| <font size=3>0.001234567</font> |\n",
    "| <font size=3>0.01234567</font> |\n",
    "| <font size=3>1000</font> |\n",
    "\n",
    "| <font size=3>Файл после завершения записи</font>      |\n",
    "| :--- | :--- |\n",
    "| <font size=3>python-biocad/files/test7/ex2_out.txt</font> |\n",
    "\n",
    "\n",
    "### Критерии\n",
    "| <font size=3>баллы</font> | <font size=3>критерий</font> |\n",
    "| :---: | :---: |\n",
    "| <font size=3>0</font> | <font size=3>решение содержит ошибку</font> |\n",
    "| <font size=3>1</font> | <font size=3>решение работает корректно по 2-м или 3-м пунктам</font> |\n",
    "| <font size=3>2</font> | <font size=3>решение верно</font> |"
   ]
  },
  {
   "cell_type": "code",
   "execution_count": 31,
   "metadata": {},
   "outputs": [
    {
     "name": "stdout",
     "output_type": "stream",
     "text": [
      "210\n"
     ]
    }
   ],
   "source": [
    "s=input()\n",
    "f=open(\"ex2_out.txt\", 'a', encoding='utf-8')\n",
    "if float(s) < 1e-6:\n",
    "    f.write(\"{:.5e}\\n\".format(float(s)))\n",
    "    f.close()\n",
    "if float(s) < 1e-2 and float(s) >= 1e-6:\n",
    "    f.write(\"{:.4}\\n\".format(float(s)))\n",
    "    f.close()\n",
    "if float(s) <100 and float(s)>=1e-2:\n",
    "    f.write(\"{:.3f}\\n\".format(float(s)))\n",
    "    f.close()\n",
    "if float(s) >=100:\n",
    "    f.write(\"{}\\n\".format(s))\n",
    "    f.close()"
   ]
  },
  {
   "cell_type": "markdown",
   "metadata": {},
   "source": [
    "# Задача 3. Именованный аргумент\n",
    "\n",
    "Рассматривается задача 1 с некоторыми корректировками. Реализуйте запись результата в файл в виде функции, которая принимает на вход именованный аргумент `short`, определяющий будет ли имя сокращено до первой буквы. По умолчанию `short == False`. Если `short == False`, то сокращение не выполняется. Перепишите содержимое файла <font color=green>ex1_inp.txt</font> в файл <font color=green>ex3_out.txt</font> так, чтобы все четные записи из <font color=green>ex1_inp.txt</font> были записаны в <font color=green>ex3_out.txt</font> в полном варианте, а нечетные - в сокращенном (номера записей начинаются с 0). Способ определения того, какое из слов является фамилией не изменился.\n",
    "\n",
    "| <font size=3>Пример входного файла</font>      | <font size=3>Пример выходного файла</font>    |\n",
    "| :--- | :--- |\n",
    "| <font size=3>python-biocad/files/test7/ex1_inp.txt</font> | <font size=3>python-biocad/files/test7/ex3_out.txt</font> |\n",
    "\n",
    "#### Указания\n",
    "1. Используйте для записи в файл 2 строки форматирования. \n",
    "\n",
    "2. **Запрещается использование каких-либо операторов над строками, а всех методов кроме `str.format()`.**\n",
    "\n",
    "### Критерии\n",
    "| <font size=3>баллы</font> | <font size=3>критерий</font> |\n",
    "| :---: | :---: |\n",
    "| <font size=3>0</font> | <font size=3>решение содержит ошибку</font> |\n",
    "| <font size=3>1</font> | <font size=3>решение не верно, но функция реализована корректно</font> |\n",
    "| <font size=3>3</font> | <font size=3>решение верно и в нем используется именованный аргумент</font> |\n",
    "| <font size=3>4</font> | <font size=3>решение верно и в нем используется именованный аргумент и `enumerate`</font> |\n",
    "\n",
    "Файл <font color=green>ex3_out.txt</font> можно скачать с помощью \n",
    "```\n",
    "wget https://raw.githubusercontent.com/mipt-cs/python-biocad/master/files/test7/ex3_out.txt\n",
    "```\n",
    "или найти в репозитории по пути <font color=green>python-biocad/files/test7/ex3_out.txt</font>."
   ]
  },
  {
   "cell_type": "code",
   "execution_count": null,
   "metadata": {
    "collapsed": true
   },
   "outputs": [],
   "source": []
  },
  {
   "cell_type": "markdown",
   "metadata": {},
   "source": [
    "# Задача 4. Распаковка при вызове функции.\n",
    "\n",
    "В файле <font color=green>ex4_inp.txt</font> в два столбика записаны значения двух **вещественных** величин: `X` и `Y`. Вычислите и распечатайте их средние арифметические значения. При вычислении средних арифметических используйте раскрытие последовательности пар значений `X` и `Y` в вызове функции `zip()`. Реализуйте в виде функции `mean()` вычисление среднего арифметического. Функция `mean()` должна принимать на вход произвольное число позиционных аргументов. \n",
    "\n",
    "| <font size=3>Пример входного файла</font>      | <font size=3>Выходные данные</font>    |\n",
    "| :--- | :--- |\n",
    "| <font size=3>python-biocad/files/test7/ex4_inp.txt</font> | <font size=3></font> |\n",
    "\n",
    "### Критерии\n",
    "\n",
    "1. За корректную реализацию функции `mean()` начисляется 1 балл.\n",
    "\n",
    "2. Правильно работающая программа оценивается в 1 балл.\n",
    "\n",
    "3. За раскрытие последовательности пар значений `X` и `Y` в вызове `zip()` при условии, что программа работает корректно, начисляется 1 балл. Используйте множественное присваивание для раскрытия `zip()` в кортежи `X` и `Y`.\n",
    "\n",
    "Всего за задачу можно получить 3 балла.\n",
    "\n",
    "Файл <font color=green>ex4_inp.txt</font> можно скачать с помощью \n",
    "```\n",
    "wget https://raw.githubusercontent.com/mipt-cs/python-biocad/master/files/test7/ex4_inp.txt\n",
    "```\n",
    "или найти в репозитории по пути <font color=green>python-biocad/files/test7/ex4_inp.txt</font>."
   ]
  },
  {
   "cell_type": "code",
   "execution_count": null,
   "metadata": {
    "collapsed": true
   },
   "outputs": [],
   "source": [
    "def mean(*kwargs):\n",
    "    [kw]=\n",
    "    \n",
    "    \n",
    "    \n",
    "with open('ex4_inp.txt', 'r') as f:\n",
    "    lines=f.readlines()\n",
    "\n",
    "L=[line.rstrip('\\n') for line in lines]\n",
    "L = [l.split() for l in L]\n",
    "L = [[float(l[0]), float(l[1])] for l in L]\n",
    "X, Y = zip(*L)"
   ]
  },
  {
   "cell_type": "markdown",
   "metadata": {},
   "source": [
    "# Задача 5. Из центра наружу\n",
    "\n",
    "Распечатайте поданный на вход список целых чисел так, чтобы в первую очередь шли центральные элементы, а затем крайние. Если $l$ - длина списка $L$, а $\\lambda = l ~//~ 2$ то порядок печати элементов будет следующий: $L_{\\lambda},~L_{\\lambda - 1},~L_{\\lambda + 1},~L_{\\lambda - 2},~...$.\n",
    "\n",
    "| <font size=3>Входные данные</font>| <font size=3>Выходные данные</font>|\n",
    "| :--- | :--- |\n",
    "|<font size=3>1 2 3 4 5</font>|<font size=3>3 2 4 1 5</font>|\n",
    "|<font size=3>1 2 3 4 5 6</font>|<font size=3>4 3 5 2 6 1</font>|\n",
    "\n",
    "### Критерии\n",
    "| <font size=3>баллы</font> | <font size=3>критерий</font> |\n",
    "| :---: | :---: |\n",
    "| <font size=3>0</font> | <font size=3>решение содержит ошибку</font> |\n",
    "| <font size=3>2</font> | <font size=3>решение верно и в нем используется именованный аргумент</font> |\n",
    "\n",
    "**Соблюдайте формат вывода.**"
   ]
  },
  {
   "cell_type": "code",
   "execution_count": 15,
   "metadata": {},
   "outputs": [
    {
     "name": "stdout",
     "output_type": "stream",
     "text": [
      "1 2 3 4 5 6\n",
      "4 \n",
      "3 \n",
      "5 \n",
      "2 \n",
      "6 \n",
      "1 \n"
     ]
    }
   ],
   "source": [
    "s=input().split()\n",
    "l=len(s)//2\n",
    "for i in range(1,len(s)+1):\n",
    "    print(\"{} \".format(s[l]))\n",
    "    l=l+i*(-1)**i"
   ]
  },
  {
   "cell_type": "code",
   "execution_count": null,
   "metadata": {},
   "outputs": [],
   "source": []
  }
 ],
 "metadata": {
  "kernelspec": {
   "display_name": "Python 3",
   "language": "python",
   "name": "python3"
  },
  "language_info": {
   "codemirror_mode": {
    "name": "ipython",
    "version": 3
   },
   "file_extension": ".py",
   "mimetype": "text/x-python",
   "name": "python",
   "nbconvert_exporter": "python",
   "pygments_lexer": "ipython3",
   "version": "3.6.6"
  }
 },
 "nbformat": 4,
 "nbformat_minor": 2
}
