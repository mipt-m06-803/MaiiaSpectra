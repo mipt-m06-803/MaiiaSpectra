{
 "cells": [
  {
   "cell_type": "markdown",
   "metadata": {},
   "source": [
    "# Упражнение 1. Из десятичной в симметричную троичную\n",
    "\n",
    "Переведите число из десятичной системы счисления в [симметричную троичную](https://ru.wikipedia.org/wiki/%D0%A2%D1%80%D0%BE%D0%B8%D1%87%D0%BD%D0%B0%D1%8F_%D1%81%D0%B8%D1%81%D1%82%D0%B5%D0%BC%D0%B0_%D1%81%D1%87%D0%B8%D1%81%D0%BB%D0%B5%D0%BD%D0%B8%D1%8F#%D0%A1%D0%B8%D0%BC%D0%BC%D0%B5%D1%82%D1%80%D0%B8%D1%87%D0%BD%D0%B0%D1%8F_%D1%82%D1%80%D0%BE%D0%B8%D1%87%D0%BD%D0%B0%D1%8F_%D1%81%D0%B8%D1%81%D1%82%D0%B5%D0%BC%D0%B0_%D1%81%D1%87%D0%B8%D1%81%D0%BB%D0%B5%D0%BD%D0%B8%D1%8F). В качестве цифр предлагается использовать:\n",
    "\n",
    "1. `-` - как -1\n",
    "\n",
    "2. `0` - как 0\n",
    "\n",
    "3. `+` - как +1\n",
    "\n",
    "Оформите перевод в виде функции.\n",
    "\n",
    "| <font size=3>входные данные</font> | <font size=3>выходные данные</font> |\n",
    "| :---: | :---: |\n",
    "| <font size=3>5</font> | <font size=3>+--</font> |\n",
    "| <font size=3>-5</font> | <font size=3>-++</font> |\n",
    "| <font size=3>0</font> | <font size=3>0</font> |\n",
    "| <font size=3>20</font> | <font size=3>+-+-</font> |\n",
    "| <font size=3>255</font> | <font size=3>+00++0</font> |\n",
    "| <font size=3>200</font> | <font size=3>+-+++-</font> |"
   ]
  },
  {
   "cell_type": "code",
   "execution_count": 20,
   "metadata": {
    "scrolled": true
   },
   "outputs": [
    {
     "name": "stdout",
     "output_type": "stream",
     "text": [
      "255\n",
      "+00++0\n"
     ]
    }
   ],
   "source": [
    "n=int(input())\n",
    "l=[]\n",
    "s=''\n",
    "z=0\n",
    "if n==0:\n",
    "    print(0)\n",
    "while n!=0:\n",
    "    if n<0:\n",
    "        n=-1*n\n",
    "        z=1\n",
    "    if n%3==0:\n",
    "        l.append('0')\n",
    "        n=n//3\n",
    "    elif n%3==1:\n",
    "        l.append('+')\n",
    "        n=n//3\n",
    "    else:\n",
    "        l.append('-')\n",
    "        n=n//3+1\n",
    "for i in reversed(l):\n",
    "        if z==1:\n",
    "            if i=='+':\n",
    "                i='-'\n",
    "            elif i=='-':\n",
    "                i='+'\n",
    "        s=s+i\n",
    "        \n",
    "print(s)    "
   ]
  },
  {
   "cell_type": "code",
   "execution_count": null,
   "metadata": {},
   "outputs": [],
   "source": [
    "Для положительных чисел. Делите число на 3. \n",
    "Если остаток от деления равен 0 или 1, то это 0 или + в симметричной троичной системе счисления. \n",
    "Если же остаток - двойка, то результат деления увеличиваете на единицу, а в соответствующий разряд пишете -. \n",
    "Например: 56(10) = 18[*3] + 2 = 19[*3] + \"-\" = 6[*3*3] + \"+-\" = 2[*3*3*3] + \"0+-\" = 1[*3*3*3*3] + \"-0+-\" = \"+-0+-\".\n",
    "\n",
    "Для отрицательных чисел. Обращаем знак числа, получаем положительное число, которое уже раскладывать умеете. \n",
    "А затем меняете знаки на противоположные."
   ]
  },
  {
   "cell_type": "code",
   "execution_count": null,
   "metadata": {},
   "outputs": [],
   "source": []
  }
 ],
 "metadata": {
  "kernelspec": {
   "display_name": "Python 3",
   "language": "python",
   "name": "python3"
  },
  "language_info": {
   "codemirror_mode": {
    "name": "ipython",
    "version": 3
   },
   "file_extension": ".py",
   "mimetype": "text/x-python",
   "name": "python",
   "nbconvert_exporter": "python",
   "pygments_lexer": "ipython3",
   "version": "3.6.6"
  }
 },
 "nbformat": 4,
 "nbformat_minor": 2
}
