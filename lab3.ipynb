{
 "cells": [
  {
   "cell_type": "markdown",
   "metadata": {},
   "source": [
    "# <font color='blue'>Функции</font>\n",
    "\n",
    "## <font color='green'>Определение функции (именная функция)</font>\n",
    " \n",
    "Функции определяются с помощью иниструкции `def`. Функция может вернуть некоторое значение с помощью инструкции `return`. На инструкции `return` происходит выход из функции. Инструкция `return` в теле функции может быть использована несколько раз.\n",
    "\n",
    "### Пример:"
   ]
  },
  {
   "cell_type": "code",
   "execution_count": 2,
   "metadata": {},
   "outputs": [
    {
     "name": "stdout",
     "output_type": "stream",
     "text": [
      "0.5\n"
     ]
    }
   ],
   "source": [
    "def divide(x, y):\n",
    "    if y == 0:\n",
    "        print(\"Деление на ноль!\")\n",
    "        return None\n",
    "    return x / y\n",
    "\n",
    "print(divide(1, 2))"
   ]
  },
  {
   "cell_type": "markdown",
   "metadata": {},
   "source": [
    "### Упражнение 1\n",
    "Напишите функцию, вычисляющую факториал числа. Используйте цикл `for`. Гарантируется, что пользователь вводит только целые числа. Если введенное число не натуральное, программа должна распечатать строку `\"Error!\"`."
   ]
  },
  {
   "cell_type": "code",
   "execution_count": 5,
   "metadata": {},
   "outputs": [
    {
     "name": "stdout",
     "output_type": "stream",
     "text": [
      "5\n",
      "120\n"
     ]
    }
   ],
   "source": [
    "def fac(x):\n",
    "    y=1\n",
    "    if x == 0:\n",
    "        print(1)\n",
    "    if x<0:\n",
    "        return None\n",
    "    if x>0:\n",
    "        for i in range(1,x+1) :\n",
    "            y=y*i\n",
    "        return(y)\n",
    "x=int(input())\n",
    "print(fac(x))"
   ]
  },
  {
   "cell_type": "markdown",
   "metadata": {},
   "source": [
    "## <font color='green'>Анонимные функции</font>\n",
    "\n",
    "Анонимные функции могут содержать только одно выражение. Для их определения используется инструкция `lambda`. Они удобны, когда требуется передать функцию в качестве аргумента другой функции.\n",
    "\n",
    "### Пример 1:"
   ]
  },
  {
   "cell_type": "code",
   "execution_count": 69,
   "metadata": {},
   "outputs": [
    {
     "name": "stdout",
     "output_type": "stream",
     "text": [
      "True\n"
     ]
    }
   ],
   "source": [
    "f = lambda x, y: x**2 + y**2 == 5\n",
    "z = f(1, 2)\n",
    "print(z)"
   ]
  },
  {
   "cell_type": "markdown",
   "metadata": {},
   "source": [
    "### Пример 2:\n",
    "\n",
    "Анонимные функции часто применяются вместе со встроенной функцией `sorted()` и методом `sort()` объектов типа `list`.\n",
    "[`sorted()`](https://docs.python.org/3/library/functions.html#sorted) упорядочивает элементы некоторого перечисляемого типа по возрастанию: "
   ]
  },
  {
   "cell_type": "code",
   "execution_count": 11,
   "metadata": {},
   "outputs": [
    {
     "name": "stdout",
     "output_type": "stream",
     "text": [
      "[1, 2, 3]\n",
      "['a', 'b', 'c']\n"
     ]
    }
   ],
   "source": [
    "l = [2, 1, 3]\n",
    "print(sorted(l))\n",
    "s = 'bac'\n",
    "print(sorted(s))"
   ]
  },
  {
   "cell_type": "markdown",
   "metadata": {},
   "source": [
    "У функции `sorted()` есть необязательный аргумент `key`, в котором можно передать правило, согласно которому будет производиться сортировка. `key` - функция одного аргумента,  принимающая на вход элемент сортируемой последовательности и возвращающая значение для сравнения с другими элементами. Например, если требуется уорядочить список строк по алфавиту без учета регистра, то можно использовать метод `str.lower` в качестве `key`."
   ]
  },
  {
   "cell_type": "code",
   "execution_count": 6,
   "metadata": {},
   "outputs": [
    {
     "name": "stdout",
     "output_type": "stream",
     "text": [
      "['Andy', 'Bob', 'Cate', 'apple', 'banana', 'crisp']\n",
      "['Andy', 'apple', 'banana', 'Bob', 'Cate', 'crisp']\n"
     ]
    }
   ],
   "source": [
    "l = ['Andy', 'Cate', 'Bob', 'apple', 'crisp', 'banana']\n",
    "print(sorted(l))\n",
    "print(sorted(l, key=str.lower))"
   ]
  },
  {
   "cell_type": "markdown",
   "metadata": {},
   "source": [
    "### Упражнение 2\n",
    "\n",
    "Список $L$ состоит из списков из двух элементов $l_i$.\n",
    "Допишите код в клетке снизу так, чтобы $l_i$ были упорядочены согласно произведениям содержащихся в них элементов."
   ]
  },
  {
   "cell_type": "code",
   "execution_count": 16,
   "metadata": {},
   "outputs": [
    {
     "name": "stdout",
     "output_type": "stream",
     "text": [
      "[[-3, 1], [2, -1], [2, -1], [1, -1], [-1, 1], [-5, 0], [0, -4], [0, -5], [2, 1], [5, 5]]\n"
     ]
    }
   ],
   "source": [
    "from random import randint\n",
    "L = [[randint(-5, 5), randint(-5, 5)] for _ in range(10)]\n",
    "def f(list_):\n",
    "    return list_[0]*list_[1]\n",
    "print(sorted(L, key=lambda l: l[0] * l[1]))\n",
    "\n"
   ]
  },
  {
   "cell_type": "markdown",
   "metadata": {},
   "source": [
    "## <font color='green'>Рекурсивные функции</font>\n",
    "\n",
    "Рекурсивная функция `f()` - функция, в теле которой вызывается функция `f()`.\n",
    "\n",
    "### Пример:\n",
    "Вычисление факториала"
   ]
  },
  {
   "cell_type": "code",
   "execution_count": 14,
   "metadata": {},
   "outputs": [
    {
     "data": {
      "text/plain": [
       "120"
      ]
     },
     "execution_count": 14,
     "metadata": {},
     "output_type": "execute_result"
    }
   ],
   "source": [
    "def fact(n):\n",
    "    if n == 1:\n",
    "        return 1\n",
    "    else:\n",
    "        return n * fact(n - 1)\n",
    "    \n",
    "fact(5)"
   ]
  },
  {
   "cell_type": "markdown",
   "metadata": {},
   "source": [
    "### Упражнение 3\n",
    "\n",
    "Напишите рекурсивную функцию для вычисления `n`-го числа Фибоначчи"
   ]
  },
  {
   "cell_type": "code",
   "execution_count": 11,
   "metadata": {},
   "outputs": [
    {
     "name": "stdout",
     "output_type": "stream",
     "text": [
      "5\n"
     ]
    }
   ],
   "source": [
    "def fib(n):\n",
    "    if n == 1:\n",
    "        return 1\n",
    "    elif n==2:\n",
    "        return 1\n",
    "    else:\n",
    "        return fib(n-1) + fib(n - 2)\n",
    "print(fib(5))\n"
   ]
  },
  {
   "cell_type": "markdown",
   "metadata": {},
   "source": [
    "## <font color='green'>Передача аргументов по ссылке</font>\n",
    "В python передача аргументов в функцию осуществляется только по ссылке. Это значит, что функция получает на вход не значение объекта, а указатель на него. При изменении объекта, поданного на вход, в теле функции он меняется также в окружении, из которого был произведен вызов.\n",
    "\n",
    "### Пример:"
   ]
  },
  {
   "cell_type": "code",
   "execution_count": 19,
   "metadata": {},
   "outputs": [
    {
     "name": "stdout",
     "output_type": "stream",
     "text": [
      "[2, 3]\n"
     ]
    }
   ],
   "source": [
    "l = []\n",
    "def add_elem_to_list(list_, elem):\n",
    "    list_.append(elem)\n",
    "add_elem_to_list(l, 2)\n",
    "add_elem_to_list(l, 3)\n",
    "print(l)"
   ]
  },
  {
   "cell_type": "markdown",
   "metadata": {},
   "source": [
    "### Упражнение 4\n",
    "Напишите функцию, которая заменяет в подаваемом на вход списке все четные числа результатом от их деления на 2."
   ]
  },
  {
   "cell_type": "code",
   "execution_count": 26,
   "metadata": {},
   "outputs": [
    {
     "name": "stdout",
     "output_type": "stream",
     "text": [
      "[0, -5, 4, -3, 0, -4, 3, -1, -5, -1]\n",
      "[0, -5, 2, -3, 0, -2, 3, -1, -5, -1]\n"
     ]
    }
   ],
   "source": [
    "from random import randint\n",
    "l = [randint(-5, 5) for _ in range(10)]\n",
    "\n",
    "l1 = [i for i in range(5)]\n",
    "def f(list_):\n",
    "    for i in range(len(list_)):\n",
    "        if l[i] % 2 ==0:\n",
    "            l[i]=l[i]//2\n",
    "\n",
    "print(l)\n",
    "f(l)\n",
    "print(l)"
   ]
  },
  {
   "cell_type": "markdown",
   "metadata": {},
   "source": [
    "## <font color='green'>Необязательные аргументы (key word arguments)</font>\n",
    "\n",
    "В python есть возможность задавать значения по умолчанию для аргументов функции. Такие аргументы не обязательно указывать при вызове функции.\n",
    "\n",
    "### Пример:"
   ]
  },
  {
   "cell_type": "code",
   "execution_count": 16,
   "metadata": {},
   "outputs": [
    {
     "name": "stdout",
     "output_type": "stream",
     "text": [
      "Square = 20\n"
     ]
    },
    {
     "data": {
      "text/plain": [
       "20"
      ]
     },
     "execution_count": 16,
     "metadata": {},
     "output_type": "execute_result"
    }
   ],
   "source": [
    "def square(a, b, print_result=False):\n",
    "    s = a * b\n",
    "    if print_result:\n",
    "        print(\"Square =\", s)\n",
    "    return s\n",
    "\n",
    "square(3, 4)\n",
    "square(4, 5, print_result=True)"
   ]
  },
  {
   "cell_type": "markdown",
   "metadata": {},
   "source": [
    "## <font color='green'>Область видимости</font>\n",
    "\n",
    "\n",
    "Область видимости - часть программы, в которой с помощью идентификатора, объявленного как имя некоторой переменной, можно обратиться к этой переменной.\n",
    "\n",
    "В теле функции доступны все идентификаторы, в области видимости которых была определена функция (использована инструкция def <func_name>(...): или lambda ..: ..).\n",
    "\n",
    "Пример 1:\n",
    "Здесь GLOBAL_VAR - глобальная переменная, т. е. переменная, областью видимости которой является вся программа. GLOBAL_VAR доступна в теле любой функции, определенной в том же модуле (том же файле с кодом). Обратите внимание, что переменная, используемая в теле функции, может быть определена и после определена функции.\n",
    "### Пример:"
   ]
  },
  {
   "cell_type": "code",
   "execution_count": 17,
   "metadata": {},
   "outputs": [
    {
     "name": "stdout",
     "output_type": "stream",
     "text": [
      "30\n"
     ]
    }
   ],
   "source": [
    "def multiply_by_global_var(a):\n",
    "    return a * GLOBAL_VAR\n",
    "\n",
    "GLOBAL_VAR = 10\n",
    "print(multiply_by_global_var(3))"
   ]
  },
  {
   "cell_type": "markdown",
   "metadata": {},
   "source": [
    "### Упражнение 5\n",
    "Создайте глобальную переменную `PI` (которая будет хранить значение $\\pi$) и напишите функции для вычисления длины окружности и площади круга, использующие `PI`."
   ]
  },
  {
   "cell_type": "code",
   "execution_count": 30,
   "metadata": {},
   "outputs": [
    {
     "name": "stdout",
     "output_type": "stream",
     "text": [
      "28.26\n",
      "18.84\n"
     ]
    }
   ],
   "source": [
    "def multiply_by_PI(a):\n",
    "    return a**2 * PI\n",
    "PI = 3.14\n",
    "print(multiply_by_PI(3))\n",
    "def m_by_PI(a):\n",
    "    return a*2 * PI\n",
    "print(m_by_PI(3))"
   ]
  },
  {
   "cell_type": "markdown",
   "metadata": {},
   "source": [
    "У идентификаторов, объявленных в теле функции, локальная область видимости. Это значит, что переменные, созданные в теле функции, не могут быть доступны вне функции по этим идентификаторам.\n",
    "\n",
    "### Пример:"
   ]
  },
  {
   "cell_type": "code",
   "execution_count": 22,
   "metadata": {},
   "outputs": [
    {
     "name": "stdout",
     "output_type": "stream",
     "text": [
      "I am function f\n"
     ]
    },
    {
     "ename": "NameError",
     "evalue": "name 's' is not defined",
     "output_type": "error",
     "traceback": [
      "\u001b[1;31m---------------------------------------------------------------------------\u001b[0m",
      "\u001b[1;31mNameError\u001b[0m                                 Traceback (most recent call last)",
      "\u001b[1;32m<ipython-input-22-2f480a87942d>\u001b[0m in \u001b[0;36m<module>\u001b[1;34m\u001b[0m\n\u001b[0;32m      4\u001b[0m \u001b[1;33m\u001b[0m\u001b[0m\n\u001b[0;32m      5\u001b[0m \u001b[0mf\u001b[0m\u001b[1;33m(\u001b[0m\u001b[1;33m)\u001b[0m\u001b[1;33m\u001b[0m\u001b[0m\n\u001b[1;32m----> 6\u001b[1;33m \u001b[0mprint\u001b[0m\u001b[1;33m(\u001b[0m\u001b[0ms\u001b[0m\u001b[1;33m)\u001b[0m\u001b[1;33m\u001b[0m\u001b[0m\n\u001b[0m",
      "\u001b[1;31mNameError\u001b[0m: name 's' is not defined"
     ]
    }
   ],
   "source": [
    "def f():\n",
    "    s = \"I am function f\"\n",
    "    print(s)\n",
    "    \n",
    "f()\n",
    "print(s)"
   ]
  },
  {
   "cell_type": "markdown",
   "metadata": {},
   "source": [
    "Если идентификатор переопределяется внутри функции, он становится локальным и изменение локальной переменной не отражаются на глобальной переменной.\n",
    "\n",
    "### Пример:"
   ]
  },
  {
   "cell_type": "code",
   "execution_count": 23,
   "metadata": {},
   "outputs": [
    {
     "name": "stdout",
     "output_type": "stream",
     "text": [
      "10\n"
     ]
    }
   ],
   "source": [
    "def make_global_identifier_local():\n",
    "    GLOBAL_VAR = 1\n",
    "    \n",
    "GLOBAL_VAR = 10\n",
    "make_global_identifier_local()\n",
    "print(GLOBAL_VAR)"
   ]
  },
  {
   "cell_type": "code",
   "execution_count": null,
   "metadata": {},
   "outputs": [],
   "source": []
  },
  {
   "cell_type": "markdown",
   "metadata": {},
   "source": [
    "С помощью инструкции `global` возможно менять создавать и менять глобальные идентификаторы. Если в теле функции присутствует выражение \n",
    "```python\n",
    "global some_identifier\n",
    "```\n",
    "то `some_identifier` становится глобальным, и его область видимости будет включать весь модуль, в котором была определена функция (модуль - файл с кодом).\n",
    "\n",
    "### Пример:"
   ]
  },
  {
   "cell_type": "code",
   "execution_count": 12,
   "metadata": {},
   "outputs": [
    {
     "name": "stdout",
     "output_type": "stream",
     "text": [
      "after f: 1\n",
      "after g: 3\n"
     ]
    }
   ],
   "source": [
    "global a\n",
    "def f(): \n",
    "    global a\n",
    "    a = 1\n",
    "    \n",
    "def g():\n",
    "    global a\n",
    "    a = 3\n",
    "    \n",
    "a = 2\n",
    "f()\n",
    "print(\"after f:\", a)\n",
    "g()\n",
    "print(\"after g:\", a)"
   ]
  },
  {
   "cell_type": "markdown",
   "metadata": {},
   "source": [
    "### Упражнение 6\n",
    "Напишите функцию `eat_cookie()`, которая печатает строку `\"What a tasty cookie!\"`. В программе должна быть глобальная переменная `NUM_COOKIES_LEFT`, которая уменьшается на 1 при каждом вызове `eat_cookie()`. Если `NUM_COOKIES_LEFT <= 0`, то функция `eat_cookie()` должна печатать строку `\"No more cookies left :(\"`."
   ]
  },
  {
   "cell_type": "code",
   "execution_count": 4,
   "metadata": {},
   "outputs": [
    {
     "name": "stdout",
     "output_type": "stream",
     "text": [
      "No more cookies left :(\n"
     ]
    }
   ],
   "source": [
    "def eat_cookie():\n",
    "    global NUM_COOKIES_LEFT \n",
    "    NUM_COOKIES_LEFT  =  NUM_COOKIES_LEFT - 1\n",
    "    \n",
    "        \n",
    "NUM_COOKIES_LEFT = 1\n",
    "eat_cookie()\n",
    "if  NUM_COOKIES_LEFT <=0:\n",
    "        print(\"No more cookies left :(\")"
   ]
  },
  {
   "cell_type": "markdown",
   "metadata": {},
   "source": [
    "# <font color='blue'>Кортежи</font>\n",
    "Кортеж - перечисляемый тип, отличающийся от списка тем, что его нельзя изменять. Кортежи создаются с помощью конструктора `tuple` из других перечисляемых типов или задаются с помощью круглых скобок. Как и список, один кортеж может содержать элементы разных типов.\n",
    "\n",
    "### Пример:"
   ]
  },
  {
   "cell_type": "code",
   "execution_count": 5,
   "metadata": {},
   "outputs": [
    {
     "name": "stdout",
     "output_type": "stream",
     "text": [
      "(1, 2.3, 'abc', [4, 5])\n",
      "(4, 5)\n",
      "('a', 'b', 'c')\n",
      "(6,)\n",
      "()\n"
     ]
    }
   ],
   "source": [
    "a = (1, 2.3, 'abc', [4, 5])\n",
    "list_ = a[3]\n",
    "b = tuple(list_)\n",
    "c = tuple(a[2])\n",
    "d = (6,)\n",
    "e = ()\n",
    "print(a)\n",
    "print(b)\n",
    "print(c)\n",
    "print(d)\n",
    "print(e)"
   ]
  },
  {
   "cell_type": "code",
   "execution_count": 6,
   "metadata": {},
   "outputs": [
    {
     "ename": "TypeError",
     "evalue": "'tuple' object does not support item assignment",
     "output_type": "error",
     "traceback": [
      "\u001b[1;31m---------------------------------------------------------------------------\u001b[0m",
      "\u001b[1;31mTypeError\u001b[0m                                 Traceback (most recent call last)",
      "\u001b[1;32m<ipython-input-6-21fac9e05986>\u001b[0m in \u001b[0;36m<module>\u001b[1;34m\u001b[0m\n\u001b[1;32m----> 1\u001b[1;33m \u001b[0ma\u001b[0m\u001b[1;33m[\u001b[0m\u001b[1;36m0\u001b[0m\u001b[1;33m]\u001b[0m \u001b[1;33m=\u001b[0m \u001b[1;36m4\u001b[0m\u001b[1;33m\u001b[0m\u001b[0m\n\u001b[0m",
      "\u001b[1;31mTypeError\u001b[0m: 'tuple' object does not support item assignment"
     ]
    }
   ],
   "source": [
    "a[0] = 4"
   ]
  },
  {
   "cell_type": "code",
   "execution_count": 13,
   "metadata": {},
   "outputs": [
    {
     "ename": "TypeError",
     "evalue": "'int' object is not subscriptable",
     "output_type": "error",
     "traceback": [
      "\u001b[1;31m---------------------------------------------------------------------------\u001b[0m",
      "\u001b[1;31mTypeError\u001b[0m                                 Traceback (most recent call last)",
      "\u001b[1;32m<ipython-input-13-7cb617e694c7>\u001b[0m in \u001b[0;36m<module>\u001b[1;34m\u001b[0m\n\u001b[1;32m----> 1\u001b[1;33m \u001b[0ma\u001b[0m\u001b[1;33m[\u001b[0m\u001b[1;36m3\u001b[0m\u001b[1;33m]\u001b[0m\u001b[1;33m[\u001b[0m\u001b[1;36m1\u001b[0m\u001b[1;33m]\u001b[0m \u001b[1;33m=\u001b[0m \u001b[1;36m10\u001b[0m\u001b[1;33m\u001b[0m\u001b[0m\n\u001b[0m\u001b[0;32m      2\u001b[0m \u001b[0mprint\u001b[0m\u001b[1;33m(\u001b[0m\u001b[0ma\u001b[0m\u001b[1;33m)\u001b[0m\u001b[1;33m\u001b[0m\u001b[0m\n",
      "\u001b[1;31mTypeError\u001b[0m: 'int' object is not subscriptable"
     ]
    }
   ],
   "source": [
    "a[3][1] = 10\n",
    "print(a)"
   ]
  },
  {
   "cell_type": "markdown",
   "metadata": {},
   "source": [
    "### Упражнение 7\n",
    "Сформируйте кортеж `t2` из строк, находящихся в кортеже `t`, длина которых больше 5."
   ]
  },
  {
   "cell_type": "code",
   "execution_count": 38,
   "metadata": {},
   "outputs": [
    {
     "name": "stdout",
     "output_type": "stream",
     "text": [
      "('ккъже', 'дябенг', 'га', 'хы', 'нк', 'жицъсиьг', 'гйъкдющъмю')\n",
      "['гйъкдющъмю', 'гйъкдющъмю', 'гйъкдющъмю']\n"
     ]
    }
   ],
   "source": [
    "from random import randint\n",
    "t = tuple(\n",
    "   [\n",
    "       ''.join(\n",
    "           [chr(ord('а') + randint(0, 32)) for _ in range(randint(0, 10))]\n",
    "       ) for _ in range(randint(5, 15))\n",
    "   ]\n",
    ")\n",
    "print(t)\n",
    "\n",
    "t2=[]\n",
    "for el in t:\n",
    "    if len(el)>5:\n",
    "        t2.append(t[i])\n",
    "tuple(t2)\n",
    "print(t2)\n",
    "\n"
   ]
  },
  {
   "cell_type": "code",
   "execution_count": 32,
   "metadata": {},
   "outputs": [
    {
     "name": "stdout",
     "output_type": "stream",
     "text": [
      "(1, 2, 3)\n"
     ]
    }
   ],
   "source": [
    "t1 = (1, 2)\n",
    "t2 = (3,)\n",
    "t3 = t1 + t2\n",
    "assert t3 == (1, 2, 3)\n",
    "print(t3)"
   ]
  },
  {
   "cell_type": "markdown",
   "metadata": {},
   "source": [
    "# <font color='blue'>Словари</font>\n",
    "Словарь - неупорядоченная коллекция объектов с доступом по ключу.\n",
    "Есть несколько способов задания словарей, часть которых приведена ниже:\n",
    "\n",
    "1) С помощью фигурных скобок\n",
    "\n",
    "2) С помощью конструктора `dict()`из другого словаря\n",
    "\n",
    "3) С помощью конструктора `dict()` из списка, кортежа или множетсва пар \"ключ\" - \"значение\"\n",
    "\n",
    "4) С помощью конструктора `dict()` с указанием элементов словаря в качестве необязательных (именованных) аргументов (ключами могут быть только строки)\n",
    "\n",
    "5) С помощью генератора словарей\n",
    "\n",
    "### Пример:"
   ]
  },
  {
   "cell_type": "code",
   "execution_count": 39,
   "metadata": {},
   "outputs": [
    {
     "name": "stdout",
     "output_type": "stream",
     "text": [
      "{}\n",
      "{'a': 1, 'b': 2, 3: 4, (5, 6): 7}\n",
      "{'a': 1, 'b': 2, 3: 4, (5, 6): 7}\n",
      "{'c': 8, 'd': 9}\n",
      "{'e': 10, 'f': 11}\n",
      "{'g': 12, 'h': 13}\n",
      "{'0': 0, '1': 1, '2': 2, '3': 3, '4': 4, '5': 5, '6': 6, '7': 7, '8': 8, '9': 9}\n"
     ]
    }
   ],
   "source": [
    "empty_dict = {}\n",
    "empty_dict2 = dict()\n",
    "d1 = {'a': 1, 'b': 2, 3: 4, (5, 6): 7}\n",
    "d2 = dict(d1)\n",
    "d3 = dict([('c', 8), ('d', 9)])\n",
    "d4 = dict([['e', 10], ['f', 11]])\n",
    "d5 = dict(g=12, h=13)  \n",
    "d6 = {str(i): i for i in range(10)}\n",
    "print(empty_dict)\n",
    "print(d1)\n",
    "print(d2)\n",
    "print(d3)\n",
    "print(d4)\n",
    "print(d5)\n",
    "print(d6)"
   ]
  },
  {
   "cell_type": "markdown",
   "metadata": {},
   "source": [
    "## <font color='green'>Изменение элемента словаря, добавление элемента в словарь</font>\n",
    "\n",
    "Изменение значения элемента и добавление нового элемента выполняются одинаково.\n",
    "### Пример:"
   ]
  },
  {
   "cell_type": "code",
   "execution_count": 40,
   "metadata": {},
   "outputs": [
    {
     "name": "stdout",
     "output_type": "stream",
     "text": [
      "{'a': 2, 'b': 3}\n"
     ]
    }
   ],
   "source": [
    "d = {'a': 1}\n",
    "d['a'] = 2  # изменить значение по ключу 'a'\n",
    "d['b'] = 3  # добавить новый ключ\n",
    "print(d)"
   ]
  },
  {
   "cell_type": "markdown",
   "metadata": {},
   "source": [
    "### Упражнение 8\n",
    "Напишите программу для заполнения персональной карточки, реализованной в виде словаря. На вход программе последовательно подаются строки из двух слов, разделенных пробелом: первое - название поля в карточке, второе - значение. Заполнение карточки завершается введением строки `\"STOP\"`.\n",
    "\n",
    "| <font size=3>входные данные</font> | <font size=3>выходные данные</font> |\n",
    "| :---: | :---: |\n",
    "| <font size=3>имя Иван<br>фамилия Петров<br>возраст 21<br>STOP</font> | <font size=3>{'имя': 'Иван', 'фамилия': 'Петров', 'возраст': '21'}</font> |"
   ]
  },
  {
   "cell_type": "code",
   "execution_count": 46,
   "metadata": {},
   "outputs": [
    {
     "name": "stdout",
     "output_type": "stream",
     "text": [
      "имя Иван\n",
      "фамилия Петров\n",
      "возраст 21\n",
      "STOP\n",
      "{'имя': 'Иван', 'фамилия': 'Петров', 'возраст': '21'}\n"
     ]
    }
   ],
   "source": [
    "d = dict()\n",
    "s=[]\n",
    "a=input()\n",
    "while a!=\"STOP\":    \n",
    "    s=a.split()\n",
    "    d[s[0]] = s[1]\n",
    "    a=input()\n",
    "print(d)"
   ]
  },
  {
   "cell_type": "markdown",
   "metadata": {},
   "source": [
    "## <font color='green'>Удаление элемента из словаря</font>\n",
    "\n",
    "Осуществляется с помощью инструкции `del`\n",
    "\n",
    "### Пример:"
   ]
  },
  {
   "cell_type": "code",
   "execution_count": 48,
   "metadata": {},
   "outputs": [
    {
     "name": "stdout",
     "output_type": "stream",
     "text": [
      "{'b': 4}\n"
     ]
    }
   ],
   "source": [
    "d = {'a': 1, 'b': 4}\n",
    "del d['a']\n",
    "print(d)"
   ]
  },
  {
   "cell_type": "markdown",
   "metadata": {},
   "source": [
    "## <font color='green'>Ключи</font>\n",
    "Ключами в словаре могут быть только переменные неизменяемых типов (`int`, `float`, `tuple`, `str` и некоторые другие). Например, список не может входить в ключ словаря, даже если он помещен в кортеж.\n",
    "\n",
    "### Пример:"
   ]
  },
  {
   "cell_type": "code",
   "execution_count": 49,
   "metadata": {},
   "outputs": [],
   "source": [
    "d = {(1, 2): 3}  # OK"
   ]
  },
  {
   "cell_type": "code",
   "execution_count": 50,
   "metadata": {},
   "outputs": [
    {
     "ename": "TypeError",
     "evalue": "unhashable type: 'list'",
     "output_type": "error",
     "traceback": [
      "\u001b[1;31m---------------------------------------------------------------------------\u001b[0m",
      "\u001b[1;31mTypeError\u001b[0m                                 Traceback (most recent call last)",
      "\u001b[1;32m<ipython-input-50-bf7f06622b3f>\u001b[0m in \u001b[0;36m<module>\u001b[1;34m\u001b[0m\n\u001b[1;32m----> 1\u001b[1;33m \u001b[0md\u001b[0m \u001b[1;33m=\u001b[0m \u001b[1;33m{\u001b[0m\u001b[1;33m[\u001b[0m\u001b[1;36m1\u001b[0m\u001b[1;33m,\u001b[0m \u001b[1;36m2\u001b[0m\u001b[1;33m]\u001b[0m\u001b[1;33m:\u001b[0m \u001b[1;36m3\u001b[0m\u001b[1;33m}\u001b[0m\u001b[1;33m\u001b[0m\u001b[0m\n\u001b[0m",
      "\u001b[1;31mTypeError\u001b[0m: unhashable type: 'list'"
     ]
    }
   ],
   "source": [
    "d = {[1, 2]: 3}"
   ]
  },
  {
   "cell_type": "code",
   "execution_count": 51,
   "metadata": {},
   "outputs": [
    {
     "ename": "TypeError",
     "evalue": "unhashable type: 'list'",
     "output_type": "error",
     "traceback": [
      "\u001b[1;31m---------------------------------------------------------------------------\u001b[0m",
      "\u001b[1;31mTypeError\u001b[0m                                 Traceback (most recent call last)",
      "\u001b[1;32m<ipython-input-51-d82188fb7381>\u001b[0m in \u001b[0;36m<module>\u001b[1;34m\u001b[0m\n\u001b[1;32m----> 1\u001b[1;33m \u001b[0md\u001b[0m \u001b[1;33m=\u001b[0m \u001b[1;33m{\u001b[0m\u001b[1;33m(\u001b[0m\u001b[1;36m1\u001b[0m\u001b[1;33m,\u001b[0m \u001b[1;33m[\u001b[0m\u001b[1;36m2\u001b[0m\u001b[1;33m,\u001b[0m \u001b[1;36m3\u001b[0m\u001b[1;33m]\u001b[0m\u001b[1;33m)\u001b[0m\u001b[1;33m:\u001b[0m \u001b[1;36m4\u001b[0m\u001b[1;33m}\u001b[0m\u001b[1;33m\u001b[0m\u001b[0m\n\u001b[0m",
      "\u001b[1;31mTypeError\u001b[0m: unhashable type: 'list'"
     ]
    }
   ],
   "source": [
    "d = {(1, [2, 3]): 4}"
   ]
  },
  {
   "cell_type": "markdown",
   "metadata": {},
   "source": [
    "##  <font color='green'>Проверка наличия ключа в словаре</font>\n",
    "Проверка наличия ключа в словаре осуществляется с помощью операторов <font color='blue'>`in`</font> и <font color='blue'>`not in`</font>.\n",
    "\n",
    "### Пример:"
   ]
  },
  {
   "cell_type": "code",
   "execution_count": 53,
   "metadata": {},
   "outputs": [
    {
     "name": "stdout",
     "output_type": "stream",
     "text": [
      "True\n",
      "False\n",
      "False\n",
      "True\n"
     ]
    }
   ],
   "source": [
    " d = {'a': 1}\n",
    "print('a' in d)\n",
    "print('b' in d)\n",
    "print('a' not in d)\n",
    "print('b' not in d)"
   ]
  },
  {
   "cell_type": "markdown",
   "metadata": {},
   "source": [
    "## <font color='green'>Некоторые другие методы для работы со словарями</font>\n",
    "\n",
    "- [`dict.copy()`](https://docs.python.org/3/library/stdtypes.html#dict.copy) - возвращает копию словаря\n",
    "```python\n",
    "d = {'a': 1}\n",
    "d2 = d.copy()\n",
    "assert d == d2\n",
    "```\n",
    "\n",
    "- [`dict.get(key[, default])`](https://docs.python.org/3/library/stdtypes.html#dict.get) - возвращает значение по ключу `key`. Если `key` нет в словаре возвращает `default`. По умолчанию `default=None`.\n",
    "```python\n",
    "d = {'a': 1}\n",
    "a = d.get('a')\n",
    "assert a == 1\n",
    "b = d.get('b')\n",
    "assert b is None\n",
    "b = d.get('b', default='No such key')\n",
    "assert b == 'No such key'\n",
    "```\n",
    "\n",
    "- [`dict.pop(key[, default])`](https://docs.python.org/3/library/stdtypes.html#dict.pop) - возвращает значение по ключу `key` и удаляет его из словаря. Если в словаре нет ключа `key` метод возвращает `default`.\n",
    "```python\n",
    "d = {'a': 1}\n",
    "a = d.pop('a')\n",
    "assert a == 1\n",
    "assert d == {}\n",
    "```\n",
    "\n",
    "- [`dict.update([other])`](https://docs.python.org/3/library/stdtypes.html#dict.update) - обновляет словарь в соответствии с `other`, добавляет ключи из `other` если их не было в словаре. Возвращает `None`. `other` словарем, перечисляемым типом, содержащем пары `key/value` или содержать ключи и значения, как именованные аргументы.\n",
    "```python\n",
    "d = {'a': 1}\n",
    "d.update(b=3)\n",
    "assert d == {'a': 1, 'b': 3}\n",
    "d.update({'c': 4})\n",
    "assert d == {'a': 1, 'b': 3, 'c': 4}\n",
    "d.update([('c', 5), ('d', 6)])\n",
    "assert d == {'a': 1, 'b': 3, 'c': 5, 'd': 6}\n",
    "```"
   ]
  },
  {
   "cell_type": "code",
   "execution_count": 54,
   "metadata": {},
   "outputs": [],
   "source": [
    "d = {'a': 1}\n",
    "d.update(b=3)\n",
    "assert d == {'a': 1, 'b': 3}\n",
    "d.update({'c': 4})\n",
    "assert d == {'a': 1, 'b': 3, 'c': 4}\n",
    "d.update([('c', 5), ('d', 6)])\n",
    "assert d == {'a': 1, 'b': 3, 'c': 5, 'd': 6}"
   ]
  },
  {
   "cell_type": "markdown",
   "metadata": {},
   "source": [
    "## <font color='green'>Итерация по словарям</font>\n",
    "Для этой цели предусмотрены [`dictview`](https://docs.python.org/3/library/stdtypes.html#dict-views) объекты, которые можно получить с помощью методов [`dict.keys()`](https://docs.python.org/3/library/stdtypes.html#dict.keys), [`dict.values()`](https://docs.python.org/3/library/stdtypes.html#dict.values), [`dict.items()`](https://docs.python.org/3/library/stdtypes.html#dict.items). Перечисленные `dictview` содержат соответственно ключи, значения и пары ключ/значение словаря. Они связаны со словарем, из которого были получены, и потому меняются вместе со ним.\n",
    "\n",
    "###  Итерация по ключам. Способ 1"
   ]
  },
  {
   "cell_type": "code",
   "execution_count": 55,
   "metadata": {},
   "outputs": [
    {
     "name": "stdout",
     "output_type": "stream",
     "text": [
      "a\n",
      "b\n",
      "c\n",
      "d\n"
     ]
    }
   ],
   "source": [
    "d = dict(a=1, b=2, c=3, d=4)\n",
    "for k in d:\n",
    "    print(k)"
   ]
  },
  {
   "cell_type": "markdown",
   "metadata": {},
   "source": [
    "### Итерация по ключам. Способ 2"
   ]
  },
  {
   "cell_type": "code",
   "execution_count": 56,
   "metadata": {},
   "outputs": [
    {
     "name": "stdout",
     "output_type": "stream",
     "text": [
      "a\n",
      "b\n",
      "c\n",
      "d\n"
     ]
    }
   ],
   "source": [
    "d = dict(a=1, b=2, c=3, d=4)\n",
    "for k in d.keys():\n",
    "    print(k)"
   ]
  },
  {
   "cell_type": "markdown",
   "metadata": {},
   "source": [
    "### Итерация по значениям"
   ]
  },
  {
   "cell_type": "code",
   "execution_count": 57,
   "metadata": {},
   "outputs": [
    {
     "name": "stdout",
     "output_type": "stream",
     "text": [
      "1\n",
      "2\n",
      "3\n",
      "4\n"
     ]
    }
   ],
   "source": [
    "d = dict(a=1, b=2, c=3, d=4)\n",
    "for k in d.values():\n",
    "    print(k)"
   ]
  },
  {
   "cell_type": "markdown",
   "metadata": {},
   "source": [
    "### Итерация по элементам"
   ]
  },
  {
   "cell_type": "code",
   "execution_count": 58,
   "metadata": {},
   "outputs": [
    {
     "name": "stdout",
     "output_type": "stream",
     "text": [
      "a 1\n",
      "b 2\n",
      "c 3\n",
      "d 4\n"
     ]
    }
   ],
   "source": [
    "d = dict(a=1, b=2, c=3, d=4)\n",
    "for k, v in d.items():\n",
    "    print(k, v)"
   ]
  },
  {
   "cell_type": "markdown",
   "metadata": {},
   "source": [
    "## <font color='green'>Получение списка с содержимым словаря</font>\n",
    "`dictview` объекты легко преобразуются в списки и кортежи.\n",
    "### Пример с иллюстрацией связи объекта типа `dictview`  со словарем"
   ]
  },
  {
   "cell_type": "code",
   "execution_count": 59,
   "metadata": {},
   "outputs": [
    {
     "name": "stdout",
     "output_type": "stream",
     "text": [
      "['a', 'b', 'c', 'd']\n",
      "('a', 'b', 'c', 'd', 'e')\n"
     ]
    }
   ],
   "source": [
    "d = dict(a=1, b=2, c=3, d=4)\n",
    "keys = d.keys()\n",
    "l = list(keys)\n",
    "d['e'] = 5\n",
    "t = tuple(keys)\n",
    "print(l)\n",
    "print(t)"
   ]
  },
  {
   "cell_type": "markdown",
   "metadata": {},
   "source": [
    "### Упражнение 9\n",
    "На вход программе подаются строки, сотоящие из двух слов: первое слово - имя человека, второе его рост в метрах. Требуется сформировать словарь, в котором ключом будет имя, а значением - рост. Далее из полученного словаря необходимо создать второй словарь, в котором рост будет ключом, а имя - значением. Если один и тот же рост имеют более одного человека, значением следует выбрать имя того, у кого оно стоит впереди в алфавитном порядке.\n",
    "\n",
    "Сделайте считывание словаря и перестановку ключей и значений отдельными функциями.\n",
    "\n",
    "#### Первая функция\n",
    "| <font size=3>входные данные</font> | <font size=3>выходные данные</font> |\n",
    "| :---: | :---: |\n",
    "| <font size=3>Иван 1.81<br>Алексей 1.81<br>Дмитрий 1.95<br>STOP</font> | <font size=3>{'Иван': 1.81, 'Алексей': 1.81, 'Дмитрий': 1.95}</font> |\n",
    "\n",
    "#### Вторая функция\n",
    "| <font size=3>входные данные</font> | <font size=3>выходные данные</font> |\n",
    "| :---: | :---: |\n",
    "| <font size=3>{'Иван': 1.81, 'Алексей': 1.81, 'Дмитрий': 1.95}</font> | <font size=3>{1.81: 'Алексей', 1.95: 'Дмитрий' }</font> |"
   ]
  },
  {
   "cell_type": "code",
   "execution_count": 66,
   "metadata": {},
   "outputs": [
    {
     "name": "stdout",
     "output_type": "stream",
     "text": [
      "hfghf 8797\\\n",
      "knvmnb  jk\n",
      "kjhhjv 45\n",
      "STOP\n",
      "{'8797\\\\': 'hfghf', 'jk': 'knvmnb', '45': 'kjhhjv'}\n"
     ]
    }
   ],
   "source": [
    "d = dict()\n",
    "s=[]\n",
    "a=input()\n",
    "while a!=\"STOP\":    \n",
    "    s=a.split()\n",
    "    d[s[1]] = s[0]\n",
    "    a=input()\n",
    "print(d)\n"
   ]
  },
  {
   "cell_type": "code",
   "execution_count": null,
   "metadata": {},
   "outputs": [],
   "source": []
  }
 ],
 "metadata": {
  "kernelspec": {
   "display_name": "Python 3",
   "language": "python",
   "name": "python3"
  },
  "language_info": {
   "codemirror_mode": {
    "name": "ipython",
    "version": 3
   },
   "file_extension": ".py",
   "mimetype": "text/x-python",
   "name": "python",
   "nbconvert_exporter": "python",
   "pygments_lexer": "ipython3",
   "version": "3.6.6"
  }
 },
 "nbformat": 4,
 "nbformat_minor": 2
}
