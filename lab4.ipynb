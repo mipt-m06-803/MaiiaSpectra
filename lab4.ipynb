{
 "cells": [
  {
   "cell_type": "markdown",
   "metadata": {},
   "source": [
    "# <font color='blue'>Некоторые полезные приемы</font>\n",
    "\n",
    "## <font color='green'>Множественное присвоение</font>\n",
    "\n",
    "Python допускает присвоение значений нескольким переменным в рамках одной строки\n",
    "\n",
    "### Пример 1"
   ]
  },
  {
   "cell_type": "code",
   "execution_count": 2,
   "metadata": {},
   "outputs": [
    {
     "name": "stdout",
     "output_type": "stream",
     "text": [
      "2\n",
      "3\n"
     ]
    }
   ],
   "source": [
    "a, b = 1, 2\n",
    "a, b = b, a + b  # Сначала вычисляется правый операнд оператора присваивания\n",
    "print(a)\n",
    "print(b)"
   ]
  },
  {
   "cell_type": "markdown",
   "metadata": {},
   "source": [
    "Это работает засчет того, что перечисленные через запятую выражения интерпретируются, как кортеж. Кортежи, списки и строки могут присваиваться двум и более переменным, и при этом элементы последовательности распределяются между переменными.\n",
    "\n",
    "### Пример 2"
   ]
  },
  {
   "cell_type": "code",
   "execution_count": 9,
   "metadata": {},
   "outputs": [
    {
     "name": "stdout",
     "output_type": "stream",
     "text": [
      "(1, 2)\n",
      "1\n",
      "2\n",
      "\n",
      "3\n",
      "4\n",
      "5\n",
      "\n",
      "a\n",
      "b\n",
      "c\n",
      "d\n"
     ]
    },
    {
     "ename": "ValueError",
     "evalue": "not enough values to unpack (expected 3, got 2)",
     "output_type": "error",
     "traceback": [
      "\u001b[1;31m---------------------------------------------------------------------------\u001b[0m",
      "\u001b[1;31mValueError\u001b[0m                                Traceback (most recent call last)",
      "\u001b[1;32m<ipython-input-9-c550551ec63f>\u001b[0m in \u001b[0;36m<module>\u001b[1;34m\u001b[0m\n\u001b[0;32m     17\u001b[0m \u001b[0mprint\u001b[0m\u001b[1;33m(\u001b[0m\u001b[0mk\u001b[0m\u001b[1;33m)\u001b[0m\u001b[1;33m\u001b[0m\u001b[0m\n\u001b[0;32m     18\u001b[0m \u001b[0mprint\u001b[0m\u001b[1;33m(\u001b[0m\u001b[0ml\u001b[0m\u001b[1;33m)\u001b[0m\u001b[1;33m\u001b[0m\u001b[0m\n\u001b[1;32m---> 19\u001b[1;33m \u001b[0md\u001b[0m\u001b[1;33m,\u001b[0m \u001b[0me\u001b[0m\u001b[1;33m,\u001b[0m \u001b[0mf\u001b[0m \u001b[1;33m=\u001b[0m \u001b[0mc\u001b[0m  \u001b[1;31m# not OK. Число элементов кортежа должно равняться числу переменных, которым он присваивается.\u001b[0m\u001b[1;33m\u001b[0m\u001b[0m\n\u001b[0m",
      "\u001b[1;31mValueError\u001b[0m: not enough values to unpack (expected 3, got 2)"
     ]
    }
   ],
   "source": [
    "c = (1, 2)  # c - кортеж\n",
    "print(с)\n",
    "d, e = c\n",
    "print(d)\n",
    "print(e)\n",
    "print()\n",
    "l = [3, 4, 5]\n",
    "f, g, h = l\n",
    "print(f)\n",
    "print(g)\n",
    "print(h)\n",
    "print()\n",
    "s = 'abcd'\n",
    "i, j, k, l = s\n",
    "print(i)\n",
    "print(j)\n",
    "print(k)\n",
    "print(l)\n",
    "d, e, f = c  # not OK. Число элементов кортежа должно равняться числу переменных, которым он присваивается."
   ]
  },
  {
   "cell_type": "markdown",
   "metadata": {},
   "source": [
    "Данный прием может эффективно использоваться при итерации по последовательности последовательностей.\n",
    "\n",
    "### Пример 3"
   ]
  },
  {
   "cell_type": "code",
   "execution_count": 4,
   "metadata": {},
   "outputs": [
    {
     "name": "stdout",
     "output_type": "stream",
     "text": [
      "1\n",
      "2\n",
      "\n",
      "3\n",
      "4\n",
      "\n",
      "5\n",
      "6\n",
      "\n"
     ]
    }
   ],
   "source": [
    "l = [(1, 2), (3, 4), (5, 6)]\n",
    "for first, second in l:\n",
    "    print(first)\n",
    "    print(second)\n",
    "    print()"
   ]
  },
  {
   "cell_type": "markdown",
   "metadata": {},
   "source": [
    "Круглые скобки необязательно указывать, если функция возвращает кортеж.\n",
    "\n",
    "### Пример 4"
   ]
  },
  {
   "cell_type": "code",
   "execution_count": 10,
   "metadata": {},
   "outputs": [
    {
     "name": "stdout",
     "output_type": "stream",
     "text": [
      "Donald\n",
      "John\n",
      "Trump\n"
     ]
    }
   ],
   "source": [
    "\n",
    "\n",
    "\n",
    "def split_name(full_name):\n",
    "    first_name, middle_name, last_name = full_name.split()\n",
    "    return first_name, middle_name, last_name\n",
    "\n",
    "first_name, middle_name, last_name = split_name(\"Donald John Trump\")\n",
    "print(first_name)\n",
    "print(middle_name)\n",
    "print(last_name)"
   ]
  },
  {
   "cell_type": "markdown",
   "metadata": {},
   "source": [
    "### Упражнение 1\n",
    "Напишите функцию, которая разделяет имя файла, на его \"название\", номер и расширение. Например, файл `file\\#1.txt` обладает названием `file`, номером `1` и расширением `txt`. Полученный номер должен быть преобразован в целое число. Если расширение или номер отсутвуют, то они должны равняться `None`. Гарантируется, что файла есть название. Программа должна считывать имена файлов, пока не введена строка `STOP`, и печатать их названия, номера и расширения. \n",
    "\n",
    "Функция должна возвращать три переменные, не помещенные явно в список или кортеж. В программе должно быть множественное присвоение.\n",
    "\n",
    "| <font size=3>входные данные</font> | <font size=3>выходные данные</font> |\n",
    "| :---: | :---: |\n",
    "| <font size=3>file\\#1.txt<br>.bashrc<br>b2<br>STOP</font> | <font size=3>file 1 txt<br>.bashrc None None<br>b2 None None</font> |"
   ]
  },
  {
   "cell_type": "code",
   "execution_count": 19,
   "metadata": {},
   "outputs": [
    {
     "name": "stdout",
     "output_type": "stream",
     "text": [
      "file#1.txt\n",
      "('file', '1', 'txt')\n",
      ".bashrc\n"
     ]
    },
    {
     "ename": "ValueError",
     "evalue": "not enough values to unpack (expected 2, got 1)",
     "output_type": "error",
     "traceback": [
      "\u001b[1;31m---------------------------------------------------------------------------\u001b[0m",
      "\u001b[1;31mValueError\u001b[0m                                Traceback (most recent call last)",
      "\u001b[1;32m<ipython-input-19-a84a82c1e6df>\u001b[0m in \u001b[0;36m<module>\u001b[1;34m\u001b[0m\n\u001b[0;32m      6\u001b[0m \u001b[0ma\u001b[0m\u001b[1;33m=\u001b[0m\u001b[0minput\u001b[0m\u001b[1;33m(\u001b[0m\u001b[1;33m)\u001b[0m\u001b[1;33m\u001b[0m\u001b[0m\n\u001b[0;32m      7\u001b[0m \u001b[1;32mwhile\u001b[0m \u001b[0ma\u001b[0m\u001b[1;33m!=\u001b[0m\u001b[1;34m\"STOP\"\u001b[0m\u001b[1;33m:\u001b[0m\u001b[1;33m\u001b[0m\u001b[0m\n\u001b[1;32m----> 8\u001b[1;33m     \u001b[0mprint\u001b[0m\u001b[1;33m(\u001b[0m\u001b[0mf\u001b[0m\u001b[1;33m(\u001b[0m\u001b[0ma\u001b[0m\u001b[1;33m)\u001b[0m\u001b[1;33m)\u001b[0m\u001b[1;33m\u001b[0m\u001b[0m\n\u001b[0m\u001b[0;32m      9\u001b[0m     \u001b[0ma\u001b[0m\u001b[1;33m=\u001b[0m\u001b[0minput\u001b[0m\u001b[1;33m(\u001b[0m\u001b[1;33m)\u001b[0m\u001b[1;33m\u001b[0m\u001b[0m\n\u001b[0;32m     10\u001b[0m \u001b[1;33m\u001b[0m\u001b[0m\n",
      "\u001b[1;32m<ipython-input-19-a84a82c1e6df>\u001b[0m in \u001b[0;36mf\u001b[1;34m(s)\u001b[0m\n\u001b[0;32m      1\u001b[0m \u001b[1;32mdef\u001b[0m \u001b[0mf\u001b[0m\u001b[1;33m(\u001b[0m\u001b[0ms\u001b[0m\u001b[1;33m)\u001b[0m\u001b[1;33m:\u001b[0m\u001b[1;33m\u001b[0m\u001b[0m\n\u001b[0;32m      2\u001b[0m     \u001b[0mname_and_number\u001b[0m\u001b[1;33m,\u001b[0m \u001b[0mext\u001b[0m \u001b[1;33m=\u001b[0m \u001b[0ms\u001b[0m\u001b[1;33m.\u001b[0m\u001b[0msplit\u001b[0m\u001b[1;33m(\u001b[0m\u001b[1;34m'.'\u001b[0m\u001b[1;33m)\u001b[0m\u001b[1;33m\u001b[0m\u001b[0m\n\u001b[1;32m----> 3\u001b[1;33m     \u001b[0mname\u001b[0m\u001b[1;33m,\u001b[0m \u001b[0mnum\u001b[0m \u001b[1;33m=\u001b[0m \u001b[0mname_and_number\u001b[0m\u001b[1;33m.\u001b[0m\u001b[0msplit\u001b[0m\u001b[1;33m(\u001b[0m\u001b[1;34m'#'\u001b[0m\u001b[1;33m)\u001b[0m\u001b[1;33m\u001b[0m\u001b[0m\n\u001b[0m\u001b[0;32m      4\u001b[0m     \u001b[1;32mreturn\u001b[0m \u001b[0mname\u001b[0m\u001b[1;33m,\u001b[0m \u001b[0mnum\u001b[0m\u001b[1;33m,\u001b[0m \u001b[0mext\u001b[0m\u001b[1;33m\u001b[0m\u001b[0m\n\u001b[0;32m      5\u001b[0m \u001b[1;33m\u001b[0m\u001b[0m\n",
      "\u001b[1;31mValueError\u001b[0m: not enough values to unpack (expected 2, got 1)"
     ]
    }
   ],
   "source": [
    "def f(s):\n",
    "    name_and_number, ext = s.split('.')\n",
    "    name, num = name_and_number.split('#')\n",
    "    return name, num, ext\n",
    "\n",
    "a=input()\n",
    "while a!=\"STOP\":    \n",
    "    print(f(a))\n",
    "    a=input()\n",
    " \n",
    "    \n",
    "    "
   ]
  },
  {
   "cell_type": "markdown",
   "metadata": {},
   "source": [
    "## <font color='green'>`enumerate` и `zip`</font>\n",
    "\n",
    "Эти объекты представляют собой удобный инструменты для организации циклов.\n",
    "\n",
    "`enumerate` нумерует элементы поданной на вход последовательности.\n",
    "\n",
    "### Пример"
   ]
  },
  {
   "cell_type": "code",
   "execution_count": 20,
   "metadata": {},
   "outputs": [
    {
     "name": "stdout",
     "output_type": "stream",
     "text": [
      "<enumerate object at 0x000002BF9277F750>\n",
      "[(0, 'John'), (1, 'Bob'), (2, 'Alice')]\n",
      "[]\n",
      "0\n",
      "John\n",
      "\n",
      "1\n",
      "Bob\n",
      "\n",
      "2\n",
      "Alice\n",
      "\n"
     ]
    }
   ],
   "source": [
    "l = ['John', 'Bob', 'Alice']\n",
    "en = enumerate(l)\n",
    "print(en)\n",
    "en_list = list(en)\n",
    "en_list_2 = list(en)   # получится пустой список, так как, объект enumerate можно использовать только 1 раз\n",
    "print(en_list)\n",
    "print(en_list_2)\n",
    "for idx, name in enumerate(l):\n",
    "    print(idx)\n",
    "    print(name)\n",
    "    print()"
   ]
  },
  {
   "cell_type": "markdown",
   "metadata": {},
   "source": [
    "### Упражнение 2\n",
    "На вход программе подается несколько имен, разделенных пробелами. Получите список, в котором каждому имени в начало  дописан его порядковый номер в поданной строке, точка и пробел.\n",
    "\n",
    "| <font size=3>входные данные</font> | <font size=3>выходные данные</font> |\n",
    "| :---: | :---: |\n",
    "| <font size=3>John Bob Alice</font> | <font size=3>['1. John', '2. Bob', '3. Alice']</font> |"
   ]
  },
  {
   "cell_type": "code",
   "execution_count": 26,
   "metadata": {},
   "outputs": [
    {
     "name": "stdout",
     "output_type": "stream",
     "text": [
      "John Bob Alice\n",
      "['1. John', '2. Bob', '3. Alice']\n"
     ]
    }
   ],
   "source": [
    "s=input()\n",
    "\n",
    "def f(s):\n",
    "    l = s.split()\n",
    "    a=[]\n",
    "    for idx, name in enumerate(l):\n",
    "        a.append(str(idx+1)+'. '+name)\n",
    "    return a\n",
    "f(s)\n",
    "print(f(s))"
   ]
  },
  {
   "cell_type": "code",
   "execution_count": 22,
   "metadata": {},
   "outputs": [
    {
     "name": "stdout",
     "output_type": "stream",
     "text": [
      "None [0]\n"
     ]
    }
   ],
   "source": [
    "l = []\n",
    "x = l.append(0)\n",
    "print(x, l)"
   ]
  },
  {
   "cell_type": "markdown",
   "metadata": {},
   "source": [
    "`zip` объединяет несколько последовательностей в один объект, состоящий из кортежей, каждый из которых содержит элементы исходных последовательностей, находящиеся на одинавых позициях.\n",
    "\n",
    "### Пример"
   ]
  },
  {
   "cell_type": "code",
   "execution_count": null,
   "metadata": {},
   "outputs": [],
   "source": [
    "names = ['John', 'Bob', 'Alice']\n",
    "surnames = ['Smith', 'Lane', 'Cooper']\n",
    "\n",
    "full_names_zip = zip(names, surnames)\n",
    "print(full_names_zip)\n",
    "full_names = list(full_names_zip)\n",
    "full_names_2 = list(full_names_zip)   # получится пустой список, так как, объект zip можно использовать только 1 раз\n",
    "print(full_names)\n",
    "print(full_names_2)\n",
    "for name, surname in zip(names, surnames):\n",
    "    print(' '.join([name, surname]))"
   ]
  },
  {
   "cell_type": "markdown",
   "metadata": {},
   "source": [
    "### Упражнение 3\n",
    "\n",
    "На вход программе подается список видов животных, а затем строка с классами, к которым они относятся. Сформировать словарь, в котором ключами будут названия животных, а значениями их классы. используйте `zip`. "
   ]
  },
  {
   "cell_type": "code",
   "execution_count": null,
   "metadata": {
    "collapsed": true
   },
   "outputs": [],
   "source": []
  },
  {
   "cell_type": "markdown",
   "metadata": {},
   "source": [
    "# <font color='blue'>Множества (`set`)</font>\n",
    "Множество в python - \"контейнер\", содержащий не повторяющиеся элементы в случайном порядке. Множества используются для удаления повторяющихся элементов из последовательности, математических операций над множествами, таких как объединение, пересение, симметричная разность и проч.. Создать множество можно с помощью конструктора из любой последовательности или другого множества, или задать явно с помощью фигурных скобок.\n",
    "\n",
    "### Пример \n",
    "Создание множества"
   ]
  },
  {
   "cell_type": "code",
   "execution_count": null,
   "metadata": {},
   "outputs": [],
   "source": [
    "string = \"banana\"\n",
    "list_ = ['a', 1, 2, 1]\n",
    "tuple_ = (1, 2, 3, 3, 1)\n",
    "set_ = {'q', 'b', 'abc', 1}\n",
    "set1 = set(string)\n",
    "set2 = set(list_)\n",
    "set3 = set(tuple_)\n",
    "set4 = set(set_)\n",
    "print(set1)\n",
    "print(set2)\n",
    "print(set3)\n",
    "print(set4)"
   ]
  },
  {
   "cell_type": "markdown",
   "metadata": {},
   "source": [
    "Множества часто множество используется для удаления повторяющихся элементов из последовательности.\n",
    "\n",
    "### Упражнение 4\n",
    "\n",
    "На вход программе подается строка. Требуется составить словарь, в котором ключами будут все имеющиеся в строке символы, а значениями - номера этих символов в списке, который получится, если символы расположить в порядке возрастания их номера в unicode."
   ]
  },
  {
   "cell_type": "code",
   "execution_count": null,
   "metadata": {
    "collapsed": true
   },
   "outputs": [],
   "source": []
  },
  {
   "cell_type": "code",
   "execution_count": null,
   "metadata": {
    "collapsed": true
   },
   "outputs": [],
   "source": []
  },
  {
   "cell_type": "markdown",
   "metadata": {},
   "source": [
    "Над множествами можно выполнять ряд операций. Пусть `s` и `other` - некоторые множества.\n",
    "- [`len(s)`](https://docs.python.org/3/library/stdtypes.html#set) - размер множества\n",
    "\n",
    "- [`x in s`](https://docs.python.org/3/library/stdtypes.html#set) - проверка наличия элемента `x` в множестве `s`.\n",
    "\n",
    "- [`x not in s`](https://docs.python.org/3/library/stdtypes.html#set) возвращает `True`, если `x` не в множестве `s`.\n",
    "\n",
    "- [`s.isdisjoint(other)`](https://docs.python.org/3/library/stdtypes.html#frozenset.disjoint) возвращает `True`, если `other` и `s` не имеют общих элементов.\n",
    "\n",
    "- [`s.issubset(other)`](https://docs.python.org/3/library/stdtypes.html#frozenset.issubset) или [`s <= other`](https://docs.python.org/3/library/stdtypes.html#frozenset.issubset) возвращает `True`, если `s` является подмножеством `other`.\n",
    "\n",
    "- [`s < other`](https://docs.python.org/3/library/stdtypes.html#frozenset.issubset) возвращает `True`, если `s` является подмножеством `other` и `s != other`.\n",
    "\n",
    "- [`s.issuperset(other)`](https://docs.python.org/3/library/stdtypes.html#frozenset.issuperset) или [`s >= other`](https://docs.python.org/3/library/stdtypes.html#frozenset.issuperset) возвращает `True`, если `other` является подмножеством `s`.\n",
    "\n",
    "- [`s > other`](https://docs.python.org/3/library/stdtypes.html#frozenset.issuperset) возвращает `True`, если `other` является подмножеством `s` и `s != other`.\n",
    "\n",
    "- [`s | other | ...`](https://docs.python.org/3/library/stdtypes.html#frozenset.union) или [`s.union(*other)`](https://docs.python.org/3/library/stdtypes.html#frozenset.union) - объединение множеств. \n",
    "\n",
    "> При объвлении функции `*` перед аргументом  в списке параметров значит, что ей можно передавать любое количество аргументов, которые будут доступны в теле функции, как кортеж. Пример:\n",
    "```python\n",
    "def f(*args):\n",
    "    return args\n",
    "a = f(1, 2, 'a')\n",
    "assert a == (1, 2, 'a')\n",
    "```\n",
    "\n",
    "- [`s & other & ...`](https://docs.python.org/3/library/stdtypes.html#frozenset.intersection) или [`s.intersection(*others)`](https://docs.python.org/3/library/stdtypes.html#frozenset.intersection) - пересечение множеств\n",
    "\n",
    "- [`s.difference(other)`](https://docs.python.org/3/library/stdtypes.html#frozenset.difference) или [`s - other`](https://docs.python.org/3/library/stdtypes.html#frozenset.difference) - разность множеств (получатся все элементы `s`, не входящие в `other`)\n",
    "\n",
    "- [`s.symmetric_difference(other)`](https://docs.python.org/3/library/stdtypes.html#frozenset.symmetric_difference) или [`s ^ other`](https://docs.python.org/3/library/stdtypes.html#frozenset.symmetric_difference) - симметричная разность (получасется множество, которое содержит элементы, принадлежащие `s` и `other`, но не входящие в перечение `s` и `other`)\n",
    "\n",
    "Не операторные варианты `issubset`, `issuperset`, `union`, `intersection`, `diffrence`, `symmetric_diffrence` - принимают в качестве аргументов любые поледовательности.\n",
    "\n",
    "### Пример"
   ]
  },
  {
   "cell_type": "code",
   "execution_count": null,
   "metadata": {},
   "outputs": [],
   "source": [
    "set_ = set('banana')\n",
    "print(\"set_:\", set_)\n",
    "s = 'mama'\n",
    "intersection = set(s1).intersection(s2)\n",
    "print(\"intersection of set_ and s2:\", intersection)\n",
    "union = set(s1).union(s2)\n",
    "print(\"union of set_ and s2:\", union)\n",
    "diff = set(s1).difference(s2)\n",
    "print(\"difference between set_ and s2:\", diff)\n",
    "\n",
    "set2 = set((1, 2, 3))\n",
    "l = [0, 1]\n",
    "print(\"\\nset2:\", set2)\n",
    "sym_diff = set2.symmetric_difference(l)\n",
    "print(\"symmetric difference between set2 and l:\", sym_diff)"
   ]
  },
  {
   "cell_type": "markdown",
   "metadata": {},
   "source": [
    "Операторные варианты работают только множествами\n",
    "### Пример"
   ]
  },
  {
   "cell_type": "code",
   "execution_count": null,
   "metadata": {},
   "outputs": [],
   "source": [
    "s1 = {1, 2, 3}\n",
    "s2 = {2, 3, 4}\n",
    "s3 = {3, 4, 1}\n",
    "intersection = s1 & s2 & s3\n",
    "union = s1 | s2 | s3\n",
    "symdiff = s1 ^ s2 ^ s3\n",
    "print(\"intersection:\", intersection)\n",
    "print(\"union:\", union)\n",
    "print(\"symdiff:\", symdiff)\n",
    "print()\n",
    "print([1, 2, 3] | [3, 4, 5])  # not OK"
   ]
  },
  {
   "cell_type": "markdown",
   "metadata": {},
   "source": [
    "### Упражнение 5\n",
    "Напишите калькулятор для множеств и реализуйте его в виде функции. Первым аргументом функции должна быть строка, содержащая команды, которые требуется выполнить над множествами. Инструкция содержит имена множеств, обозначенные английскими заглавными буквами, и бинарные операции над ними. Возможные бинарные операции:\n",
    "\n",
    "1) пересечение множеств - `and`,\n",
    "\n",
    "2) объединение множеств - `or`,\n",
    "\n",
    "3) разность множеств - `-`,\n",
    "\n",
    "4) симметричная разность - `xor`.\n",
    "\n",
    "В инструкции операнды и операторы разделяются пробелами, инструкция не содержит скобок. Обращаю ваше внимание на то, что одно множетво может встречаться в инструкции несколько раз. На число множеств, которые используются в инструкции не накладывается ограничений.\n",
    "\n",
    "**Операции выполняются слева направо, то есть приоритет операций игнорируется.** \n",
    "\n",
    "Следующие аргументы функции - множества в том порядке, в котором они в первый раз появляются в инструкции. Они должны передаваться не в виде списка. Реализуйте программу так, чтобы в качестве аргументов функции можно было передавать последовательности (списки, кортежи, строки).\n",
    "\n",
    "В решении должен составляться словарь, в котором ключами служат операнды из инструкции, а значениями - переданные аргументы. При составлении словаря должен использоваться `zip`.\n",
    "\n",
    "Реализуйте разбиение инструкции на операнды о операторы в виде отдельной функции.\n",
    "\n",
    "Протестируйте реализованную функцию на множествах символов. Входные данные:\n",
    "\n",
    "- первая строка содержит инструкцию,\n",
    "\n",
    "- вторая строка представляет собой несколько строк, разделенных пробелами. Каждая строка - это одно из множеств символов.\n",
    "\n",
    "| <font size=3>входные данные</font> | <font size=3>выходные данные</font> |\n",
    "| :---: | :---: |\n",
    "| <font size=3>A or B<br>ab bc</font> | <font size=3>{'a', 'b', 'c'}</font> |\n",
    "| <font size=3>A and B or C<br>ab bc cd</font> | <font size=3>{'b', 'c', 'd'}</font> |\n",
    "| <font size=3>A or B and C<br>bc cd ab</font> | <font size=3>{'b'}</font> |\n",
    "| <font size=3>A xor A<br>ab</font> | <font size=3>{}</font> |"
   ]
  },
  {
   "cell_type": "code",
   "execution_count": null,
   "metadata": {},
   "outputs": [],
   "source": []
  }
 ],
 "metadata": {
  "kernelspec": {
   "display_name": "Python 3",
   "language": "python",
   "name": "python3"
  },
  "language_info": {
   "codemirror_mode": {
    "name": "ipython",
    "version": 3
   },
   "file_extension": ".py",
   "mimetype": "text/x-python",
   "name": "python",
   "nbconvert_exporter": "python",
   "pygments_lexer": "ipython3",
   "version": "3.6.6"
  }
 },
 "nbformat": 4,
 "nbformat_minor": 2
}
