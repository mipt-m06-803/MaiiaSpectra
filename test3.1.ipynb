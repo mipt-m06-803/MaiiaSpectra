{
 "cells": [
  {
   "cell_type": "markdown",
   "metadata": {},
   "source": [
    "# Задача 1. Отбор символов по их порядковому номеру\n",
    "\n",
    "Удалите из строки все символы, чьи порядковые номера в unicode не делятся на 3.\n",
    "\n",
    "\n",
    "На выходе должна быть строка, включающая только те символы, порядковые номера которых делятся на 3. Символы должны следовать в том же порядке, что и в исходной строке.\n",
    "\n",
    "| <font size=3>входные данные</font> | <font size=3>выходные данные</font> |\n",
    "| :---: | :---: |\n",
    "| <font size=3>abcdefgh</font> | <font size=3>cf</font> |\n",
    "| <font size=3>,.:\"';)(-\\*=*</font> | <font size=3>'-**</font> |\n",
    "\n",
    "### Критерии\n",
    "| <font size=3>баллы</font> | <font size=3>критерий</font> |\n",
    "| :---: | :---: |\n",
    "| <font size=3>0</font> | <font size=3>решение содержит ошибку</font> |\n",
    "| <font size=3>2</font> | <font size=3>задача полностью решена</font> |"
   ]
  },
  {
   "cell_type": "code",
   "execution_count": 1,
   "metadata": {},
   "outputs": [
    {
     "name": "stdout",
     "output_type": "stream",
     "text": [
      "abcdefgh\n",
      "f\n"
     ]
    }
   ],
   "source": [
    "s=input()\n",
    "s1=''\n",
    "for i in range(len(s)):\n",
    "    if ord(s[i])%3==0:\n",
    "        s1=s1.join(s[i])\n",
    "print(s1)"
   ]
  },
  {
   "cell_type": "markdown",
   "metadata": {},
   "source": [
    "# Задача 2\n",
    "\n",
    "Если в строке $S$ четное число символов, получите строку $S_1$, в которой сначала идут четные символы $S$, а затем нечетные. Если в строке $S$ нечетное число символов, в строке $S_1$ в начале должны стоять нечетные символы $S$, а затем четные символы.\n",
    "\n",
    "| <font size=3>входные данные</font> | <font size=3>выходные данные</font> |\n",
    "| :---: | :---: |\n",
    "| <font size=3>abcdefgh</font> | <font size=3>acegbdfh</font> |\n",
    "| <font size=3>abcdefghi</font> | <font size=3>bdfhacegi</font> |\n",
    "\n",
    "### Критерии\n",
    "| <font size=3>баллы</font> | <font size=3>критерий</font> |\n",
    "| :---: | :---: |\n",
    "| <font size=3>0</font> | <font size=3>решение содержит ошибку</font> |\n",
    "| <font size=3>2</font> | <font size=3>задача полностью решена</font> |"
   ]
  },
  {
   "cell_type": "code",
   "execution_count": 4,
   "metadata": {},
   "outputs": [
    {
     "name": "stdout",
     "output_type": "stream",
     "text": [
      "abcdefgh\n",
      "gh\n"
     ]
    }
   ],
   "source": [
    "s=input()\n",
    "s1=''\n",
    "s2=''\n",
    "s3=''\n",
    "for i in range(len(s)):\n",
    "    if i%2==0:\n",
    "        s1=s1.join(s[i])\n",
    "    else:\n",
    "        s2=s2.join(s[i])\n",
    "        \n",
    "if len(s)%2==0:\n",
    "    s3=s1+s2    \n",
    "else:\n",
    "    s3=s2+s1\n",
    "print(s3)"
   ]
  },
  {
   "cell_type": "markdown",
   "metadata": {},
   "source": [
    "# Задача 3\n",
    "\n",
    "Напишите программу, которая считывает по очереди строки, до тех пор пока не введена строка `\"STOP\"`. Если очередная считанная строка состоит из строчных букв (по крайней мере, 1 строчная буква) и символов, не являющимися буквами, (метод [`str.islower`](https://docs.python.org/3/library/stdtypes.html#str.islower)), то первая буква в строке заменяется на прописной вариант (метод [`str.capitalize`](https://docs.python.org/3/library/stdtypes.html#str.capitalize)), а измененная строка добавляется в список $L$. Программа должна распечатать список $L$, состоящий из полученных измененных строк.\n",
    "\n",
    "| <font size=3>входные данные</font> | <font size=3>выходные данные</font> |\n",
    "| :---: | :---: |\n",
    "| <font size=3>aba<br>34<br>21<br>STOP</font> | <font size=3>['Aba']</font> |\n",
    "| <font size=3>ABC<br>STOP</font> | <font size=3>[]</font> |\n",
    "| <font size=3>dEF<br>STOP</font> | <font size=3>[]</font> |\n",
    "| <font size=3>мама мыла раму<br>STOP</font> | <font size=3>['Мама мыла раму']</font> |\n",
    "| <font size=3>who wants 2 live 4ever<br>STOP</font> | <font size=3>['Who wants 2 live 4ever']</font> |\n",
    "| <font size=3>4ever<br>2<br>STOP</font> | <font size=3>['4ever']</font> |\n",
    "| <font size=3>Who wants 2 live 4ever<br>STOP</font> | <font size=3>[]</font> |\n",
    "\n",
    "### Критерии\n",
    "| <font size=3>баллы</font> | <font size=3>критерий</font> |\n",
    "| :---: | :---: |\n",
    "| <font size=3>0</font> | <font size=3>решение содержит ошибку</font> |\n",
    "| <font size=3>3</font> | <font size=3>решение верно, но не соответствует требованиям, предъявляемым к решению, оцениваемому в 2 балла</font> |\n",
    "| <font size=3>4</font> | <font size=3>решение верно, и в нем используются  методы [`str.islower`](https://docs.python.org/3/library/stdtypes.html#str.islower), [`str.capitalize`](https://docs.python.org/3/library/stdtypes.html#str.capitalize)</font> |"
   ]
  },
  {
   "cell_type": "code",
   "execution_count": null,
   "metadata": {},
   "outputs": [],
   "source": [
    "\n",
    "while input()!='STOP':"
   ]
  },
  {
   "cell_type": "markdown",
   "metadata": {},
   "source": [
    "# Задача 4\n",
    "\n",
    "На вход программе подается строка `S`, состоящая из слов, разделенных пробелами. Гарантируется, что строка `S` включает в себя только буквы и пробел. Требуется отобрать среди введенных слов начинающиеся со строчной буквы и объединить их в одну строку, в которой они будут разделены точками.\n",
    "\n",
    "Есть решение в 1 строчку.\n",
    "\n",
    "| <font size=3>входные данные</font> | <font size=3>выходные данные</font> |\n",
    "| :---: | :---: |\n",
    "| <font size=3>42</font> | <font size=3></font> |\n",
    "| <font size=3>Алгоритмы плюс Структуры Данных равно Программы</font> | <font size=3>плюс.равно</font> |\n",
    "\n",
    "### Критерии\n",
    "| <font size=3>баллы</font> | <font size=3>критерий</font> |\n",
    "| :---: | :---: |\n",
    "| <font size=3>0</font> | <font size=3>решение содержит ошибку</font> |\n",
    "| <font size=3>1</font> | <font size=3>решение верно, но не соответствует требованиям, предъявляемым к решению, оцениваемому в 2 балла</font> |\n",
    "| <font size=3>2</font> | <font size=3>решение верно, и в нем используются методы строкого типа `split()`, `join()`, `islower()` и генераторы списков, </font> |"
   ]
  },
  {
   "cell_type": "code",
   "execution_count": 6,
   "metadata": {},
   "outputs": [
    {
     "name": "stdout",
     "output_type": "stream",
     "text": [
      "Алгоритмы плюс Структуры Данных равно Программы\t\n"
     ]
    },
    {
     "ename": "TypeError",
     "evalue": "list indices must be integers or slices, not str",
     "output_type": "error",
     "traceback": [
      "\u001b[1;31m---------------------------------------------------------------------------\u001b[0m",
      "\u001b[1;31mTypeError\u001b[0m                                 Traceback (most recent call last)",
      "\u001b[1;32m<ipython-input-6-17ed966cc0fd>\u001b[0m in \u001b[0;36m<module>\u001b[1;34m\u001b[0m\n\u001b[0;32m      3\u001b[0m \u001b[0ms1\u001b[0m\u001b[1;33m=\u001b[0m\u001b[1;34m''\u001b[0m\u001b[1;33m\u001b[0m\u001b[0m\n\u001b[0;32m      4\u001b[0m \u001b[1;32mfor\u001b[0m \u001b[0mi\u001b[0m \u001b[1;32min\u001b[0m \u001b[0ml\u001b[0m\u001b[1;33m:\u001b[0m\u001b[1;33m\u001b[0m\u001b[0m\n\u001b[1;32m----> 5\u001b[1;33m     \u001b[1;32mif\u001b[0m \u001b[0ml\u001b[0m\u001b[1;33m[\u001b[0m\u001b[0mi\u001b[0m\u001b[1;33m]\u001b[0m\u001b[1;33m.\u001b[0m\u001b[0mislower\u001b[0m\u001b[1;33m:\u001b[0m\u001b[1;33m\u001b[0m\u001b[0m\n\u001b[0m\u001b[0;32m      6\u001b[0m         \u001b[0ms1\u001b[0m\u001b[1;33m=\u001b[0m\u001b[0ms1\u001b[0m\u001b[1;33m.\u001b[0m\u001b[0mjoin\u001b[0m\u001b[1;33m(\u001b[0m\u001b[0ml\u001b[0m\u001b[1;33m[\u001b[0m\u001b[0mi\u001b[0m\u001b[1;33m]\u001b[0m\u001b[1;33m,\u001b[0m\u001b[1;34m'.'\u001b[0m\u001b[1;33m)\u001b[0m\u001b[1;33m\u001b[0m\u001b[0m\n\u001b[0;32m      7\u001b[0m \u001b[0mprint\u001b[0m\u001b[1;33m(\u001b[0m\u001b[0ms1\u001b[0m\u001b[1;33m)\u001b[0m\u001b[1;33m\u001b[0m\u001b[0m\n",
      "\u001b[1;31mTypeError\u001b[0m: list indices must be integers or slices, not str"
     ]
    }
   ],
   "source": [
    "s=input()\n",
    "l=s.split()\n",
    "s1=''\n",
    "for i in l:\n",
    "    if l[i].islower:\n",
    "        s1=s1.join(l[i],'.')\n",
    "print(s1)"
   ]
  },
  {
   "cell_type": "markdown",
   "metadata": {},
   "source": []
  }
 ],
 "metadata": {
  "kernelspec": {
   "display_name": "Python 3",
   "language": "python",
   "name": "python3"
  },
  "language_info": {
   "codemirror_mode": {
    "name": "ipython",
    "version": 3
   },
   "file_extension": ".py",
   "mimetype": "text/x-python",
   "name": "python",
   "nbconvert_exporter": "python",
   "pygments_lexer": "ipython3",
   "version": "3.6.6"
  }
 },
 "nbformat": 4,
 "nbformat_minor": 2
}
