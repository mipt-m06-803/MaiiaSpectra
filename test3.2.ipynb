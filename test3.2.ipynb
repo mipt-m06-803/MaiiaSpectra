{
 "cells": [
  {
   "cell_type": "markdown",
   "metadata": {},
   "source": [
    "# <font color=blue>Тест 3</font>\n",
    "\n",
    "<font color=red>Время выполнения: 25 мин</font>"
   ]
  },
  {
   "cell_type": "markdown",
   "metadata": {},
   "source": [
    "# Задача 1. Отбор символов по их порядковому номеру\n",
    "\n",
    "Выберите из поданной на вход строки `S` символы, чьи порядковые номера в UNICODE **не являются** квадратами целых чисел.\n",
    "\n",
    "На выходе должна быть строка, составленная из символов, удовлетворяющих требуемому условию, приведенных в том же порядке, в котором они следуют в `S`.\n",
    "\n",
    "| <font size=3>входные данные</font> | <font size=3>выходные данные</font> |\n",
    "| :---: | :---: |\n",
    "| <font size=3>abcdefgh</font> | <font size=3>d</font> |\n",
    "| <font size=3>,.:\"';)(-\\*=*</font> | <font size=3> </font> |\n",
    "| <font size=3>0123456789:;?@ABCDEFGHIJKLMNOPQRSTUVWXYZ[\\]^</font> | <font size=3>1@Q</font> |\n",
    "\n",
    "### Критерии\n",
    "| <font size=3>баллы</font> | <font size=3>критерий</font> |\n",
    "| :---: | :---: |\n",
    "| <font size=3>0</font> | <font size=3>решение содержит ошибку</font> |\n",
    "| <font size=3>2</font> | <font size=3>задача полностью решена</font> |"
   ]
  },
  {
   "cell_type": "code",
   "execution_count": 24,
   "metadata": {},
   "outputs": [
    {
     "name": "stdout",
     "output_type": "stream",
     "text": [
      "0123456789:;?@ABCDEFGHIJKLMNOPQRSTUVWXYZ[]^\n",
      "023456789:;?ABCDEFGHIJKLMNOPRSTUVWXYZ[]^\n"
     ]
    }
   ],
   "source": [
    "s=input()\n",
    "l=''\n",
    "for i in range(len(s)):\n",
    "    if (ord(s[i]))**(0.5)!=int((ord(s[i]))**(0.5)):\n",
    "        l=l+s[i]\n",
    "print(l)"
   ]
  },
  {
   "cell_type": "markdown",
   "metadata": {},
   "source": [
    "# Задача 2. Упражнение на срезы\n",
    "\n",
    "Сформируйте из символов поданной на вход строки `S` строку, полученную из `S` следующим образом:\n",
    "\n",
    "1) в начале стоят символы `S`, чей индекс в  `S`, делится на 3 без остатка,\n",
    "\n",
    "2) затем символы с индексами, дающими при делении на 3 остаток 1\n",
    "\n",
    "3) и в конце символы с индексами вида $3 \\cdot i + 2$, где $i \\in \\mathbb{N} \\cup \\left\\lbrace 0\\right\\rbrace$.\n",
    "\n",
    "Порядок символов в перечисленных группах тот же, что и в `S`.\n",
    "\n",
    "| <font size=3>входные данные</font> | <font size=3>выходные данные</font> |\n",
    "| :---: | :---: |\n",
    "| <font size=3>abcdefgh</font> | <font size=3>adgbehcf</font> |\n",
    "\n",
    "### Критерии\n",
    "| <font size=3>баллы</font> | <font size=3>критерий</font> |\n",
    "| :---: | :---: |\n",
    "| <font size=3>0</font> | <font size=3>решение содержит ошибку</font> |\n",
    "| <font size=3>1</font> | <font size=3>задача решена, но в программе используются циклы</font> |\n",
    "| <font size=3>2</font> | <font size=3>задача полностью решена, используются срезы</font> |"
   ]
  },
  {
   "cell_type": "code",
   "execution_count": 26,
   "metadata": {},
   "outputs": [
    {
     "name": "stdout",
     "output_type": "stream",
     "text": [
      "abcdefgh\n",
      "adgbehcf\n"
     ]
    }
   ],
   "source": [
    "s=input()\n",
    "l2=s\n",
    "l1=''\n",
    "for i in range(len(s)):\n",
    "    if i%3==0:\n",
    "        l1=l1+s[i]\n",
    "\n",
    "for i in range(len(s)):    \n",
    "    if i%3==1:\n",
    "        l1=l1+s[i]\n",
    "\n",
    "for i in range(len(s)):    \n",
    "    if i%3==2:\n",
    "        l1=l1+s[i]\n",
    "print(l1)       "
   ]
  },
  {
   "cell_type": "markdown",
   "metadata": {},
   "source": [
    "# Задача 3. Отбор вещественных чисел\n",
    "\n",
    "Считайте поданные на вход строки и проверьте, возможно ли их преобразование в тип `float`. Если такое преобразование очередной строки `S` возможно, преобразуйте ее в объект типа  `float` и добавьте в конец списка `L`. Считайте, что строку можно преобразовать в `float`, если она состоит только из цифр, символов `'+'`, `'-'`, `'.'`, `'e'` и `'E'`. Ввод должен завершаться строкой `STOP`.\n",
    " \n",
    " \n",
    "**Бонус**\n",
    "\n",
    "Убедитесь, что в поданной на вход строке есть по крайней мере 1 цифра.\n",
    "\n",
    "#### Указания\n",
    "\n",
    "1. Используйте модуль [`string`](https://docs.python.org/3/library/string.html) для того, чтобы получить все цифры\n",
    "\n",
    "| <font size=3>входные данные</font> | <font size=3>выходные данные</font> |\n",
    "| :---: | :---: |\n",
    "| <font size=3>aba<br>34<br>21<br>STOP</font> | <font size=3>[34.0, 21.0]</font> |\n",
    "| <font size=3>ABC<br>STOP</font> | <font size=3>[]</font> |\n",
    "| <font size=3>3.1<br>.5<br>3.<br>aaa<br>1e-3<br>STOP</font> | <font size=3>[3.1, 0.5, 3.0, 0.001]</font> |\n",
    "\n",
    "### Критерии\n",
    "| <font size=3>баллы</font> | <font size=3>критерий</font> |\n",
    "| :---: | :---: |\n",
    "| <font size=3>0</font> | <font size=3>решение содержит ошибку</font> |\n",
    "| <font size=3>3</font> | <font size=3>есть функционирующее решение, но бонус не реализован</font> |\n",
    "| <font size=3>5</font> | <font size=3>задача решена вместе с бонусом</font> |\n",
    "\n",
    "**Строго соблюдайте формат вывода! Требуется распечатать список вещественных чисел и ничего более**\n",
    "\n",
    "### Подсказка\n",
    "\n",
    "Решение становится очень простым, если использовать множества"
   ]
  },
  {
   "cell_type": "code",
   "execution_count": 12,
   "metadata": {},
   "outputs": [
    {
     "name": "stdout",
     "output_type": "stream",
     "text": [
      "0123456789\n"
     ]
    }
   ],
   "source": [
    "import string\n",
    "digits = string.digits\n",
    "print(digits)"
   ]
  },
  {
   "cell_type": "code",
   "execution_count": null,
   "metadata": {},
   "outputs": [],
   "source": []
  },
  {
   "cell_type": "markdown",
   "metadata": {},
   "source": [
    "# Задача 4. `str.split()` и `str.join()`\n",
    "\n",
    "Удалите из поданной на вход строки все слова, в которых по крайней мере 1 символ не является цифрой. Под словами понимаются **непустые** строки, которые получаются, если разбить исходную строку по пробелам с помощью `str.split()`.\n",
    "\n",
    ">Используйте в решении [`str.isdigit()`](https://docs.python.org/3/library/stdtypes.html#str.isdigit).\n",
    "\n",
    "| <font size=3>входные данные</font> | <font size=3>выходные данные</font> |\n",
    "| :---: | :---: |\n",
    "| <font size=3>42</font> | <font size=3>42</font> |\n",
    "| <font size=3>Алгоритмы плюс 231 (зачем здесь это число?) Структуры Данных 43 равно Программы</font> | <font size=3>231 43</font> |\n",
    "\n",
    "### Критерии\n",
    "| <font size=3>баллы</font> | <font size=3>критерий</font> |\n",
    "| :---: | :---: |\n",
    "| <font size=3>0</font> | <font size=3>решение содержит ошибку</font> |\n",
    "| <font size=3>1</font> | <font size=3>решение верно, но не соответствует требованиям, предъявляемым к решению, оцениваемому в 2 балла</font> |\n",
    "| <font size=3>2</font> | <font size=3>решение верно, и в нем используются методы строкого типа `split()`, `join()`, `isdigit()` и генераторы списков, </font> |"
   ]
  },
  {
   "cell_type": "code",
   "execution_count": 28,
   "metadata": {},
   "outputs": [
    {
     "name": "stdout",
     "output_type": "stream",
     "text": [
      "Алгоритмы плюс 231 (зачем здесь это число?) Структуры Данных 43 равно Программы\t\n"
     ]
    },
    {
     "ename": "TypeError",
     "evalue": "list indices must be integers or slices, not str",
     "output_type": "error",
     "traceback": [
      "\u001b[1;31m---------------------------------------------------------------------------\u001b[0m",
      "\u001b[1;31mTypeError\u001b[0m                                 Traceback (most recent call last)",
      "\u001b[1;32m<ipython-input-28-c28dde3e0d66>\u001b[0m in \u001b[0;36m<module>\u001b[1;34m\u001b[0m\n\u001b[0;32m      1\u001b[0m \u001b[0ms\u001b[0m\u001b[1;33m=\u001b[0m\u001b[0minput\u001b[0m\u001b[1;33m(\u001b[0m\u001b[1;33m)\u001b[0m\u001b[1;33m.\u001b[0m\u001b[0msplit\u001b[0m\u001b[1;33m(\u001b[0m\u001b[1;34m' '\u001b[0m\u001b[1;33m)\u001b[0m\u001b[1;33m\u001b[0m\u001b[0m\n\u001b[0;32m      2\u001b[0m \u001b[1;32mfor\u001b[0m \u001b[0mi\u001b[0m \u001b[1;32min\u001b[0m \u001b[0ms\u001b[0m\u001b[1;33m:\u001b[0m\u001b[1;33m\u001b[0m\u001b[0m\n\u001b[1;32m----> 3\u001b[1;33m     \u001b[1;32mif\u001b[0m \u001b[0ms\u001b[0m\u001b[1;33m[\u001b[0m\u001b[0mi\u001b[0m\u001b[1;33m]\u001b[0m\u001b[1;33m.\u001b[0m\u001b[0misdigit\u001b[0m\u001b[1;33m(\u001b[0m\u001b[1;33m)\u001b[0m\u001b[1;33m:\u001b[0m\u001b[1;33m\u001b[0m\u001b[0m\n\u001b[0m\u001b[0;32m      4\u001b[0m         \u001b[0mreplace\u001b[0m\u001b[1;33m(\u001b[0m\u001b[0ms\u001b[0m\u001b[1;33m,\u001b[0m \u001b[1;34m''\u001b[0m\u001b[1;33m)\u001b[0m\u001b[1;33m\u001b[0m\u001b[0m\n\u001b[0;32m      5\u001b[0m \u001b[0mprint\u001b[0m\u001b[1;33m(\u001b[0m\u001b[0ms\u001b[0m\u001b[1;33m)\u001b[0m\u001b[1;33m\u001b[0m\u001b[0m\n",
      "\u001b[1;31mTypeError\u001b[0m: list indices must be integers or slices, not str"
     ]
    }
   ],
   "source": [
    "s=input().split(' ')\n",
    "for i in s:\n",
    "    if s[i].isdigit():\n",
    "        replace(s, '')\n",
    "print(s)"
   ]
  },
  {
   "cell_type": "markdown",
   "metadata": {},
   "source": [
    "## Задача 5. Произведение вещественных чисел\n",
    "\n",
    "На вход программе подается сначала целое число $N > 0$, а затем $N$ строк, состоящих из одинакового количества вещественных чисел, разделенных пробелами. Программа должна распечатать список из **вещественных** чисел, каждое из которых равно произвдению чисел, стоящих на соответствующих позициях во введенных строках.\n",
    "\n",
    "| <font size=3>входные данные</font> | <font size=3>выходные данные</font> |\n",
    "| :---: | :---: |\n",
    "| <font size=3>2<br>4 2 8<br>-3 0 1</font> | <font size=3>[1.0, 2.0, 9.0]</font> |\n",
    "\n",
    "### Критерии\n",
    "| <font size=3>баллы</font> | <font size=3>критерий</font> |\n",
    "| :---: | :---: |\n",
    "| <font size=3>0</font> | <font size=3>решение содержит ошибку</font> |\n",
    "| <font size=3>3</font> | <font size=3>решение верно</font> |"
   ]
  },
  {
   "cell_type": "code",
   "execution_count": null,
   "metadata": {
    "collapsed": true
   },
   "outputs": [],
   "source": []
  }
 ],
 "metadata": {
  "kernelspec": {
   "display_name": "Python 3",
   "language": "python",
   "name": "python3"
  },
  "language_info": {
   "codemirror_mode": {
    "name": "ipython",
    "version": 3
   },
   "file_extension": ".py",
   "mimetype": "text/x-python",
   "name": "python",
   "nbconvert_exporter": "python",
   "pygments_lexer": "ipython3",
   "version": "3.6.6"
  }
 },
 "nbformat": 4,
 "nbformat_minor": 2
}
