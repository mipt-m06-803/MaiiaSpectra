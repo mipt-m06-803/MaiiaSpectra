{
 "cells": [
  {
   "cell_type": "markdown",
   "metadata": {},
   "source": [
    "# <font color=blue>Тест 4</font>\n",
    "\n",
    "<font color=red>Время выполнения: 35 мин</font>"
   ]
  },
  {
   "cell_type": "markdown",
   "metadata": {},
   "source": [
    "# Задача 1. Функции\n",
    "\n",
    "Реализуйте перечисленные функции.\n",
    "\n",
    "- Функция `f()` должна создавать из поданного на вход списка натуральных чисел `L` **новый** список `M`. Элементы  `M[i]` списка `M` равны соответсвующим элементам `L[i]` списка `L`, если `L[i]` - нечетное число, и равны `L[i] // 2`, если `L[i]` - четное. Функция `f()` должна возвращать список `M`.\n",
    "\n",
    "| <font size=3>Список `L`, поданный на вход функции `f()`</font> | <font size=3>Список `M`, который вернула функция `f()`</font> |\n",
    "| :---: | :---: |\n",
    "| <font size=3>`[1, 2, 3]`</font> | <font size=3>`[1, 1, 3]`</font> |\n",
    "\n",
    "- Функция `g()` должна создавать из двух списков `A` и `B` список `C`, полученный в результате слияния списков `A` и `B`. Слияние должно производиться так, чтобы элементы списков `A` и `B`  чередовались друг с другом. Нулевой элемент списка `C` должен быть равен `A[0]`. Гарантируется, что `A` и `B` имеют одинаковую длину.\n",
    "\n",
    "| <font size=3>Списки `A` и `B`, поданные на вход функции `g()`</font> | <font size=3>Список `С`, который вернула функция `g()`</font> |\n",
    "| :---: | :---: |\n",
    "| <font size=3>`A=[0, 0, 0]`<br>`B=[1, 1, 1]`</font> | <font size=3>`[0, 1, 0, 1, 0, 1]`</font> |\n",
    "\n",
    "- Функция `h()` должна делать то же, что и функция `g()`, и кроме этого выполнять слияние, если длины `A` и `B` не равны. Пусть `l = min(len(A), len(B))`. Тогда  первые `l` элементов `A` и  `B` объединяются в список `C` также, как это осущевсляется в функции `g()`, а оставшиеся элементы более длинного списка дописываются в конец `C`.\n",
    "\n",
    "| <font size=3>Списки `A` и `B`, поданные на вход функции `h()`</font> | <font size=3>Список `С`, который вернула функция `h()`</font> |\n",
    "| :---: | :---: |\n",
    "| <font size=3>`A=[0, 0, 0, 0]`<br>`B=[1, 1, 1]`</font> | <font size=3>`[0, 1, 0, 1, 0, 1, 0]`</font> |\n",
    "| <font size=3>`A=[0, 0, 0, 0, 0]`<br>`B=[1, 1, 1]`</font> | <font size=3>`[0, 1, 0, 1, 0, 1, 0, 0]`</font> |\n",
    "| <font size=3>`A=[0, 0, 0]`<br>`B=[1, 1, 1, 1, 1, 1]`</font> | <font size=3>`[0, 1, 0, 1, 0, 1, 1, 1, 1]`</font> |\n",
    "\n",
    "- Функция `r()` должна округлять до целого все элементы поданного на вход списка. Округление можно выполнять с помощью встроенной функции [`round()`](https://docs.python.org/3/library/functions.html#round). **Новый список не создавайте. Функция должна возвращать `None`.**\n",
    "\n",
    "| <font size=3>Список `L` до обработки функцией `r()`</font> | <font size=3>Список `L` после обработки функцией `r()`</font> |\n",
    "| :---: | :---: |\n",
    "| <font size=3>`[1, 1.1, 1.111]`</font> | <font size=3>`[1, 1, 1]`</font> |\n",
    "\n",
    "### Критерии\n",
    "За решенный пункт начисляется один балл при условии."
   ]
  },
  {
   "cell_type": "code",
   "execution_count": 3,
   "metadata": {},
   "outputs": [
    {
     "name": "stdout",
     "output_type": "stream",
     "text": [
      "1 2 3\n",
      "[1, 1, 3]\n"
     ]
    }
   ],
   "source": [
    "def f(L):\n",
    "    M=[]\n",
    "    for el in L:\n",
    "        if int(el)%2==0:\n",
    "            M.append(int(el)//2)\n",
    "        if int(el)%2!=0:\n",
    "            M.append(int(el))\n",
    "    return M\n",
    "L = input().split()\n",
    "print(f(L))"
   ]
  },
  {
   "cell_type": "code",
   "execution_count": 5,
   "metadata": {},
   "outputs": [
    {
     "name": "stdout",
     "output_type": "stream",
     "text": [
      "0 0 0\n",
      "1 1 1\n",
      "['0', '1', '0', '1', '0', '1']\n"
     ]
    }
   ],
   "source": [
    "def g(A, B):\n",
    "    C=[]\n",
    "    for i in range(len(A)):\n",
    "        C.append(A[i])\n",
    "        C.append(B[i])\n",
    "    return C\n",
    "A = input().split()\n",
    "B = input().split()\n",
    "print(g(A, B))"
   ]
  },
  {
   "cell_type": "code",
   "execution_count": 10,
   "metadata": {},
   "outputs": [
    {
     "name": "stdout",
     "output_type": "stream",
     "text": [
      "0 0 0 0\n",
      "1 1 1\n",
      "['0', '1', '0', '1', '0', '1', '0', '0']\n"
     ]
    }
   ],
   "source": [
    "def h(A, B):\n",
    "    C=[]\n",
    "    k=0\n",
    "    if len(A)> len(B):\n",
    "        for i in range(len(B)):\n",
    "            C.append(A[i])\n",
    "            C.append(B[i])\n",
    "            k=i\n",
    "        while k<len(A):\n",
    "            C.append(A[i])\n",
    "            k=k+1\n",
    "    if len(A)< len(B):\n",
    "        for i in range(len(A)):\n",
    "            C.append(A[i])\n",
    "            C.append(B[i])\n",
    "            k=i\n",
    "            k=k+1\n",
    "        while k<len(B):\n",
    "            C.append(B[i])\n",
    "    return C\n",
    "A = input().split()\n",
    "B = input().split()\n",
    "print(h(A, B))"
   ]
  },
  {
   "cell_type": "markdown",
   "metadata": {},
   "source": [
    "# Задача 2. Упорядочивание списка по модулю его элементов\n",
    "\n",
    "1. Расположите элементы списка целых чисел `L` по возрастанию их модуля с помощью встроенной функции [`sorted()`](https://docs.python.org/3/library/functions.html#sorted).\n",
    "\n",
    "2. Упорядочите список `L` по убыванию модуля его элементов с помощью метода [`list.sort()`](https://docs.python.org/3/library/stdtypes.html#list.sort).\n",
    "\n",
    "В решении должны использоваться анонимные функции. Рекомендуется вычислять модуль чисел с помощью встроенной функции [`abs()`](https://docs.python.org/3/library/functions.html#abs). ** В обоих пунктах должна производиться сортировка исходного списка. Решения, которые во втором пункте используют результат сортировки из первой части задачи, не будут учитываться.**\n",
    "\n",
    "Элементы списка `L` подаются на вход через пробел\n",
    "\n",
    "| <font size=3>входные данные</font> | <font size=3>выходные данные</font> |\n",
    "| :---: | :---: |\n",
    "| <font size=3>-6 -5 2 1 4 6</font> | <font size=3>1 2 4 -5 -6 6<br>-6 6 -5 4 2 1</font> |\n",
    "\n",
    "### Критерии\n",
    "За решенный пункт начисляется один балл при условии, что в решении используются анонимные функции."
   ]
  },
  {
   "cell_type": "code",
   "execution_count": 30,
   "metadata": {},
   "outputs": [
    {
     "ename": "SyntaxError",
     "evalue": "can't assign to function call (<ipython-input-30-7ded44560b4c>, line 2)",
     "output_type": "error",
     "traceback": [
      "\u001b[1;36m  File \u001b[1;32m\"<ipython-input-30-7ded44560b4c>\"\u001b[1;36m, line \u001b[1;32m2\u001b[0m\n\u001b[1;33m    for int(el) in L:\u001b[0m\n\u001b[1;37m       ^\u001b[0m\n\u001b[1;31mSyntaxError\u001b[0m\u001b[1;31m:\u001b[0m can't assign to function call\n"
     ]
    }
   ],
   "source": [
    "L=input().split()\n",
    "for el in L:\n",
    "    print(L.sort(key=abs(int(el))))"
   ]
  },
  {
   "cell_type": "markdown",
   "metadata": {},
   "source": [
    "# Задача 3. Глобальная переменная\n",
    "\n",
    "Реализуйте счетчик вызовов функции `exercise()` с помощью глобальной переменной. При первых 5-ти вызовах функция должна печатать строку `\"One more!\"`, а при последующих вызовах должна печатать строку `\"Stop! I am tired.\"`. Продемонстрируйте работу счетчика, выполнив 10 вызовов функции в цикле.\n",
    "\n",
    "### Критерии\n",
    "\n",
    "1. 1 балл начисляется за правильную реализацию функции `exercise()`.\n",
    "\n",
    "2. 1 балл начисляется за демонстрацию работы считчика.\n",
    "\n",
    "Всего за задачу можно получить 2 балла."
   ]
  },
  {
   "cell_type": "code",
   "execution_count": null,
   "metadata": {},
   "outputs": [],
   "source": [
    "def exercise()"
   ]
  },
  {
   "cell_type": "markdown",
   "metadata": {},
   "source": [
    "# Задача 4. Создание словаря\n",
    "\n",
    "Напишите программу, которая сначала заполняет словарь, а затем печатает значения по ключам. При заполнении словаря на вход подаются строки, состоящие из двух слов, разделенных пробелом. Первое слово в такой строке является ключом, а второе - значением. Если при добавлении очередного элемента оказывается, что такой элемент уже есть в словаре, то программа должна печатать строку `\"Ключ <ключ_добавляемого_элемента> уже есть в словаре\"` и **не менять** элемент словаря. Заполнение словаря продолжается до тех пор, пока не введена строка `\"STOP\"`. \n",
    "\n",
    "Далее программа считывает список ключей `K` и печатает список значений `V`, полученных по ключам из `K`. Если в словаре нет ключа из  `K`, то в списке `V` соответствующий элемент должен быть равен `None`.\n",
    "\n",
    "Элементы списка `K` подаются на вход через пробел. Элементы списка `V` также печатаются через пробел.\n",
    "\n",
    "| <font size=3>входные данные</font> | <font size=3>выходные данные</font> |\n",
    "| :---: | :---: |\n",
    "| <font size=3>Петров Иван<br>Иванов Федор<br>Смирнов Николай<br>Петров Валера<br>STOP<br>Иванов Смирнов Сидоров</font> | <font size=3>Ключ \"Петров\" уже есть в словаре<br>Федор Иван None</font> |\n",
    "\n",
    "### Критерии\n",
    "По 2 балла начисляется за правильную организацию заполнения словаря и за првильное извлечение значений по списку ключей `K`."
   ]
  },
  {
   "cell_type": "code",
   "execution_count": 23,
   "metadata": {},
   "outputs": [
    {
     "ename": "SyntaxError",
     "evalue": "keyword can't be an expression (<ipython-input-23-e0a531ec4ab2>, line 4)",
     "output_type": "error",
     "traceback": [
      "\u001b[1;36m  File \u001b[1;32m\"<ipython-input-23-e0a531ec4ab2>\"\u001b[1;36m, line \u001b[1;32m4\u001b[0m\n\u001b[1;33m    d(s[0]=s[1])\u001b[0m\n\u001b[1;37m     ^\u001b[0m\n\u001b[1;31mSyntaxError\u001b[0m\u001b[1;31m:\u001b[0m keyword can't be an expression\n"
     ]
    }
   ],
   "source": [
    "s=input().split()\n",
    "d={}\n",
    "while  s!= \"STOP\":\n",
    "    d(s[0]=s[1])\n",
    "    s=input().split()\n",
    "\n",
    "s=input().split()\n",
    "for k in d.keys():\n",
    "    if k in s:\n",
    "        print(d[k])\n",
    "    "
   ]
  },
  {
   "cell_type": "code",
   "execution_count": null,
   "metadata": {},
   "outputs": [],
   "source": []
  }
 ],
 "metadata": {
  "kernelspec": {
   "display_name": "Python 3",
   "language": "python",
   "name": "python3"
  },
  "language_info": {
   "codemirror_mode": {
    "name": "ipython",
    "version": 3
   },
   "file_extension": ".py",
   "mimetype": "text/x-python",
   "name": "python",
   "nbconvert_exporter": "python",
   "pygments_lexer": "ipython3",
   "version": "3.6.6"
  }
 },
 "nbformat": 4,
 "nbformat_minor": 2
}
