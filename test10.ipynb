{
 "cells": [
  {
   "cell_type": "markdown",
   "metadata": {},
   "source": [
    "# <font color=blue>Тест 10</font>\n",
    "\n",
    "<font color=red>Время выполнения: 30 мин</font>\n",
    "\n",
    "# Задача 1. Передача аргументов функции по ссылке\n",
    "\n",
    "Создайте функции `f()` и `g()`, которые будут извлекать квадратный корень из элементов списка вещественных чисел. \n",
    "\n",
    "1. Функции `f()` и `g()` принимают на вход один аргумент: список вещественных чисел `L`.\n",
    "\n",
    "2. Функция `f()` возвращает новый список, в котором будут храниться результаты, полученные при извлечении квадратного корня. Список, передаваемый функции `f()` не должен меняться.\n",
    "\n",
    "3. Функция `g()` модифицирует `L`, заменяя элементы списка квадратными корнями из них, и ничего не возвращает.\n",
    "\n",
    "4. Если число `L[i]` меньше 0, то соответствующий элемент списка с результатами равен `None`.\n",
    "\n",
    "| <font size=3>Список `L`, поданный на вход функции</font> | <font size=3>Результат работы функции</font> |\n",
    "| :---: | :---: |\n",
    "| <font size=3>`[0.0, 1.0, 4.0, -4.0]`</font> | <font size=3>`[0.0, 1.0, 2.0, None]`</font> |\n",
    "\n",
    "### Критерии\n",
    "За каждую правильно реализованную функцию начисляется 1 балл."
   ]
  },
  {
   "cell_type": "code",
   "execution_count": 5,
   "metadata": {},
   "outputs": [
    {
     "name": "stdout",
     "output_type": "stream",
     "text": [
      "[0.0, 1.0, 2.0, None]\n",
      "[0.0, 1.0, 2.0, None]\n"
     ]
    }
   ],
   "source": [
    "def f(L):\n",
    "    M=[]\n",
    "    for el in L:\n",
    "        if el>=0:\n",
    "            M.append(el**0.5)\n",
    "        else:\n",
    "            M.append(None)\n",
    "    return M\n",
    "    \n",
    "def g(L):\n",
    "    return [None  if el<0  else el**0.5 for el in L]\n",
    "\n",
    "L=[0.0, 1.0, 4.0, -4.0]\n",
    "print(f(L))\n",
    "print(g(L))"
   ]
  },
  {
   "cell_type": "markdown",
   "metadata": {},
   "source": [
    "\n",
    "# Задача 2. Проверка `None`\n",
    "\n",
    "Найдите среднее арифметическое всех элементов `L`, не равных `None`, и получите список индексов `I` элементов, равных `None`. Распечатайте среднее арифметическое не равных `None` элементов `L` и список `I`. Элементы `I` печатаются через пробел в отдельной строке. **Проверка `None` должна выполняться с помощью оператора `is` или оператора `is not`.**\n",
    "\n",
    "| <font size=3>Список `L`</font> | <font size=3>Выходные данные</font> |\n",
    "| :---: | :---: |\n",
    "| <font size=3>`[None, 3, 5, None]`</font> | <font size=3>4.0<br>0 3</font> |\n",
    "\n",
    "### Критерии\n",
    "| <font size=3>баллы</font> | <font size=3>критерий</font> |\n",
    "| :---: | :---: |\n",
    "| <font size=3>0</font> | <font size=3>решение содержит ошибку</font> |\n",
    "| <font size=3>2</font> | <font size=3>задача полностью решена</font> |"
   ]
  },
  {
   "cell_type": "code",
   "execution_count": 30,
   "metadata": {},
   "outputs": [
    {
     "name": "stdout",
     "output_type": "stream",
     "text": [
      "-7.885714285714286\n",
      "5 6 7 10 12 17 25 32 34 38 54 55 57 60 61 62 63 65 66 73 75 78 80 83 90 91 93 96 98 99\n"
     ]
    }
   ],
   "source": [
    "import random\n",
    "\n",
    "none_prob = 0.3\n",
    "L = [random.randint(-100, 100) if random.uniform(0, 1) > none_prob else None for _ in range(100)]\n",
    "\n",
    "I=[]\n",
    "sim=0\n",
    "sid=0\n",
    "for idx,el in list(enumerate(L)):\n",
    "    if el is None:\n",
    "        I.append(str(idx))\n",
    "    else:\n",
    "        sim+=el\n",
    "        sid+=1\n",
    "print(sim/sid)\n",
    "print(' '.join(I))"
   ]
  },
  {
   "cell_type": "markdown",
   "metadata": {},
   "source": [
    "# Задача 3. Сортировка списка, содержащего `None`\n",
    "\n",
    "Отсортируйте по возрастанию список целых чисел, часть элементов которого равна `None`, с помощью встроенной функции [`sorted()`](https://docs.python.org/3/library/functions.html#sorted). Считайте, что `None` удовлетворяет неравенствам $-1< \\text{None}< 0$. \n",
    "\n",
    "#### Указания\n",
    "\n",
    "1. Используйте именованный аргумент `key` встроенной функции `sorted()`.\n",
    "\n",
    "2. Решения, в которых целые числа сортируются отдельно, а затем в полученный список вставляются `None`, не засчитываются.\n",
    "\n",
    "3. Проверка `None` должна выполняться с помощью оператора `is` или оператора `is not`.\n",
    "\n",
    "| <font size=3>Список `L`</font> | <font size=3>Выходные данные</font> |\n",
    "| :---: | :---: |\n",
    "| <font size=3>`[None, -3, 5, None, 0, -1]`</font> | <font size=3>-3 -1 None None 0 5</font> |\n",
    "\n",
    "### Критерии\n",
    "| <font size=3>баллы</font> | <font size=3>критерий</font> |\n",
    "| :---: | :---: |\n",
    "| <font size=3>0</font> | <font size=3>решение содержит ошибку</font> |\n",
    "| <font size=3>2</font> | <font size=3>задача полностью решена</font> |"
   ]
  },
  {
   "cell_type": "code",
   "execution_count": 23,
   "metadata": {},
   "outputs": [
    {
     "ename": "TypeError",
     "evalue": "'<' not supported between instances of 'NoneType' and 'int'",
     "output_type": "error",
     "traceback": [
      "\u001b[1;31m---------------------------------------------------------------------------\u001b[0m",
      "\u001b[1;31mTypeError\u001b[0m                                 Traceback (most recent call last)",
      "\u001b[1;32m<ipython-input-23-3666d161c955>\u001b[0m in \u001b[0;36m<module>\u001b[1;34m\u001b[0m\n\u001b[0;32m      7\u001b[0m     \u001b[1;32mif\u001b[0m \u001b[0mel\u001b[0m \u001b[1;32mis\u001b[0m \u001b[1;32mNone\u001b[0m \u001b[1;33m:\u001b[0m\u001b[1;33m\u001b[0m\u001b[0m\n\u001b[0;32m      8\u001b[0m         \u001b[0mel\u001b[0m\u001b[1;33m=\u001b[0m\u001b[1;33m-\u001b[0m\u001b[1;36m0.5\u001b[0m\u001b[1;33m\u001b[0m\u001b[0m\n\u001b[1;32m----> 9\u001b[1;33m \u001b[0mprint\u001b[0m\u001b[1;33m(\u001b[0m\u001b[0msorted\u001b[0m\u001b[1;33m(\u001b[0m\u001b[0mL\u001b[0m\u001b[1;33m)\u001b[0m\u001b[1;33m)\u001b[0m\u001b[1;33m\u001b[0m\u001b[0m\n\u001b[0m",
      "\u001b[1;31mTypeError\u001b[0m: '<' not supported between instances of 'NoneType' and 'int'"
     ]
    }
   ],
   "source": [
    "import random\n",
    "\n",
    "none_prob = 0.3\n",
    "L = [random.randint(-100, 100) if random.uniform(0, 1) > none_prob else None for _ in range(100)]\n",
    "\n",
    "for el in L:\n",
    "    if el is None :\n",
    "        el=-0.5\n",
    "print(sorted(L))"
   ]
  },
  {
   "cell_type": "markdown",
   "metadata": {},
   "source": [
    "# Задача 4. Шахматный слон\n",
    "\n",
    "Шахматный слон ходит по диагонали. Даны две различные клетки шахматной доски, определите, может ли слон попасть с первой клетки на вторую одним ходом. Программа получает на вход четыре числа от 1 до 8 каждое, задающие номер столбца и номер строки сначала для первой клетки, потом для второй клетки. Программа должна вывести YES, если из первой клетки ходом слона можно попасть во вторую или NO в противном случае.\n",
    "\n",
    "Для простоты можно не рассматривать случай, когда данные клетки совпадают.\n",
    "\n",
    "**<font color=red>Решение не должно печатать ничего лишнего</font>**\n",
    "\n",
    "| <font size=3>Входные данные</font>      | <font size=3>Выходные данные</font>    |\n",
    "| :--- | :--- |\n",
    "| <font size=3>1 1 4 4</font> | <font size=3>YES</font> |\n",
    "| <font size=3>2 3 3 2</font> | <font size=3>YES</font> |\n",
    "| <font size=3>1 1 1 2</font> | <font size=3>NO</font> |\n",
    "\n",
    "### Критерии\n",
    "| <font size=3>баллы</font> | <font size=3>критерий</font> |\n",
    "| :---: | :---: |\n",
    "| <font size=3>0</font> | <font size=3>решение содержит ошибку</font> |\n",
    "| <font size=3>2</font> | <font size=3>задача полностью решена</font> |"
   ]
  },
  {
   "cell_type": "code",
   "execution_count": 16,
   "metadata": {},
   "outputs": [
    {
     "name": "stdout",
     "output_type": "stream",
     "text": [
      "1 1 4 4\n",
      "YES\n"
     ]
    }
   ],
   "source": [
    "x1,y1, x2, y2 = input().split()\n",
    "if abs(int(x1)-int(x2))==abs(int(y1)-int(y2)):\n",
    "    print('YES')\n",
    "else :\n",
    "    print('NO')\n"
   ]
  },
  {
   "cell_type": "markdown",
   "metadata": {},
   "source": [
    "# Задача 5. Пользовательская сортировка\n",
    "\n",
    "Дан список целых чисел. Отсортировать его так, чтобы сначала шли по возрастанию числа вида $3 i$, затем числа вида $3 i + 1$ по убыванию и наконец числа вида $3 i + 2$ по возрастанию, где $i \\in \\mathbb{Z}$. \n",
    "\n",
    "Вход: $N$ целых чисел через пробел\n",
    "\n",
    "Выход: Отсортированный требуемым образом список. Элементы списка печатаются через пробел в одну строку.\n",
    "\n",
    "**<font color=red>Решение не должно печатать ничего лишнего</font>**\n",
    "\n",
    "| <font size=3>Входные данные</font>      | <font size=3>Выходные данные</font>    |\n",
    "| :--- | :--- |\n",
    "| <font size=3>-2 -1 0 1 2 3 4 5 6 7</font> | <font size=3>0 3 6 7 4 1 -2 -1 2 5</font> |\n",
    "\n",
    "### Критерии\n",
    "| <font size=3>баллы</font> | <font size=3>критерий</font> |\n",
    "| :---: | :---: |\n",
    "| <font size=3>0</font> | <font size=3>решение содержит ошибку</font> |\n",
    "| <font size=3>4</font> | <font size=3>задача полностью решена</font> |"
   ]
  },
  {
   "cell_type": "code",
   "execution_count": 21,
   "metadata": {},
   "outputs": [
    {
     "name": "stdout",
     "output_type": "stream",
     "text": [
      "-2 -1 0 1 2 3 4 5 6 7\n",
      "0 3 6 7 4 1 -2 -1 2 5\n"
     ]
    }
   ],
   "source": [
    "L=input().split()\n",
    "L1=[]\n",
    "L2=[]\n",
    "L3=[]\n",
    "   \n",
    "for i in range(len(L)):\n",
    "    if int(L[i])%3==0:\n",
    "        L1.append(L[i])\n",
    "    elif int(L[i])%3==1:\n",
    "        L2.append(L[i])\n",
    "    else:\n",
    "        L3.append(L[i])\n",
    "        \n",
    "print(' '.join(sorted(L1)+ sorted(L2, reverse=True)+sorted(L3)))"
   ]
  },
  {
   "cell_type": "code",
   "execution_count": null,
   "metadata": {},
   "outputs": [],
   "source": []
  }
 ],
 "metadata": {
  "kernelspec": {
   "display_name": "Python 3",
   "language": "python",
   "name": "python3"
  },
  "language_info": {
   "codemirror_mode": {
    "name": "ipython",
    "version": 3
   },
   "file_extension": ".py",
   "mimetype": "text/x-python",
   "name": "python",
   "nbconvert_exporter": "python",
   "pygments_lexer": "ipython3",
   "version": "3.6.6"
  }
 },
 "nbformat": 4,
 "nbformat_minor": 2
}
