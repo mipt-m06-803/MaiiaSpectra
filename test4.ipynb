{
 "cells": [
  {
   "cell_type": "markdown",
   "metadata": {},
   "source": [
    "# Задача 1\n",
    "$\\vec{k}$ - волновой вектор, $\\vec{n}$ - нормаль к плоскости, от которой отражается волна. Напишите программу, вычисляющую координаты вектора после отражения. На вход программе по очереди подаются 2 строки, состоящих из вещественных чисел, разделенных пробелами. Первая строка содержит координаты волнового вектора $\\left\\lbrace k_x, k_y, k_z \\right\\rbrace$, вторая строка - координаты нормали к плоскости $\\left\\lbrace n_x, n_y, n_z \\right\\rbrace$. Программа на выходе должна давать координаты волнового вектора отраженной волны (список из трех вещественных чисел). Реализуйте скалярное произведение векторов, вычитание векторов, умножение вектора на скаляр и отражение вектора от плоскости в отдельных функциях.\n",
    "\n",
    "| <font size=3>входные данные</font> | <font size=3>выходные данные</font> |\n",
    "| :---: | :---: |\n",
    "| <font size=3>1 0 0<br>1 0 0</font> | <font size=3>[-1.0, 0.0, 0.0]</font> |\n",
    "| <font size=3>1 0 0<br>1 1 0</font> | <font size=3>[0.0, -1.0, 0.0]</font> |\n",
    "\n",
    "### Критерии\n",
    "За реализацию процедуры считывания входных данных и за правильную реализацию каждой из функций начисляется по 1 баллу. За применение генераторов списков в функции, умножающей вектор на скаляр, и при считывании данных начисляется еще 1 балл. Максимальное количество баллов за задачу равно 6."
   ]
  },
  {
   "cell_type": "code",
   "execution_count": 4,
   "metadata": {},
   "outputs": [
    {
     "name": "stdout",
     "output_type": "stream",
     "text": [
      "1 0 0\n",
      "1 0 0\n"
     ]
    },
    {
     "ename": "ValueError",
     "evalue": "invalid literal for int() with base 10: ' '",
     "output_type": "error",
     "traceback": [
      "\u001b[1;31m---------------------------------------------------------------------------\u001b[0m",
      "\u001b[1;31mValueError\u001b[0m                                Traceback (most recent call last)",
      "\u001b[1;32m<ipython-input-4-3b3ab2804344>\u001b[0m in \u001b[0;36m<module>\u001b[1;34m\u001b[0m\n\u001b[0;32m     23\u001b[0m \u001b[0mk\u001b[0m\u001b[1;33m=\u001b[0m\u001b[0minput\u001b[0m\u001b[1;33m(\u001b[0m\u001b[1;33m)\u001b[0m\u001b[1;33m\u001b[0m\u001b[0m\n\u001b[0;32m     24\u001b[0m \u001b[0mn\u001b[0m\u001b[1;33m=\u001b[0m\u001b[0minput\u001b[0m\u001b[1;33m(\u001b[0m\u001b[1;33m)\u001b[0m\u001b[1;33m\u001b[0m\u001b[0m\n\u001b[1;32m---> 25\u001b[1;33m \u001b[0mprint\u001b[0m\u001b[1;33m(\u001b[0m\u001b[0mscal\u001b[0m\u001b[1;33m(\u001b[0m\u001b[0mk\u001b[0m\u001b[1;33m,\u001b[0m\u001b[0mn\u001b[0m\u001b[1;33m)\u001b[0m\u001b[1;33m)\u001b[0m\u001b[1;33m\u001b[0m\u001b[0m\n\u001b[0m\u001b[0;32m     26\u001b[0m \u001b[1;33m\u001b[0m\u001b[0m\n",
      "\u001b[1;32m<ipython-input-4-3b3ab2804344>\u001b[0m in \u001b[0;36mscal\u001b[1;34m(k, n)\u001b[0m\n\u001b[0;32m      3\u001b[0m     \u001b[0mK\u001b[0m\u001b[1;33m=\u001b[0m\u001b[0mk\u001b[0m\u001b[1;33m.\u001b[0m\u001b[0msplit\u001b[0m\u001b[1;33m(\u001b[0m\u001b[1;33m)\u001b[0m\u001b[1;33m\u001b[0m\u001b[0m\n\u001b[0;32m      4\u001b[0m     \u001b[0mN\u001b[0m\u001b[1;33m=\u001b[0m\u001b[0mn\u001b[0m\u001b[1;33m.\u001b[0m\u001b[0msplit\u001b[0m\u001b[1;33m(\u001b[0m\u001b[1;33m)\u001b[0m\u001b[1;33m\u001b[0m\u001b[0m\n\u001b[1;32m----> 5\u001b[1;33m     \u001b[0mS\u001b[0m\u001b[1;33m=\u001b[0m\u001b[0mint\u001b[0m\u001b[1;33m(\u001b[0m\u001b[0mk\u001b[0m\u001b[1;33m[\u001b[0m\u001b[1;36m0\u001b[0m\u001b[1;33m]\u001b[0m\u001b[1;33m)\u001b[0m\u001b[1;33m*\u001b[0m\u001b[0mint\u001b[0m\u001b[1;33m(\u001b[0m\u001b[0mn\u001b[0m\u001b[1;33m[\u001b[0m\u001b[1;36m0\u001b[0m\u001b[1;33m]\u001b[0m\u001b[1;33m)\u001b[0m\u001b[1;33m+\u001b[0m\u001b[0mint\u001b[0m\u001b[1;33m(\u001b[0m\u001b[0mk\u001b[0m\u001b[1;33m[\u001b[0m\u001b[1;36m1\u001b[0m\u001b[1;33m]\u001b[0m\u001b[1;33m)\u001b[0m\u001b[1;33m*\u001b[0m\u001b[0mint\u001b[0m\u001b[1;33m(\u001b[0m\u001b[0mn\u001b[0m\u001b[1;33m[\u001b[0m\u001b[1;36m1\u001b[0m\u001b[1;33m]\u001b[0m\u001b[1;33m)\u001b[0m\u001b[1;33m+\u001b[0m\u001b[0mint\u001b[0m\u001b[1;33m(\u001b[0m\u001b[0mk\u001b[0m\u001b[1;33m[\u001b[0m\u001b[1;36m2\u001b[0m\u001b[1;33m]\u001b[0m\u001b[1;33m)\u001b[0m\u001b[1;33m*\u001b[0m\u001b[0mint\u001b[0m\u001b[1;33m(\u001b[0m\u001b[0mn\u001b[0m\u001b[1;33m[\u001b[0m\u001b[1;36m2\u001b[0m\u001b[1;33m]\u001b[0m\u001b[1;33m)\u001b[0m\u001b[1;33m\u001b[0m\u001b[0m\n\u001b[0m\u001b[0;32m      6\u001b[0m     \u001b[1;32mreturn\u001b[0m \u001b[0mS\u001b[0m\u001b[1;33m\u001b[0m\u001b[0m\n\u001b[0;32m      7\u001b[0m \u001b[1;31m###\u001b[0m\u001b[1;33m\u001b[0m\u001b[1;33m\u001b[0m\u001b[0m\n",
      "\u001b[1;31mValueError\u001b[0m: invalid literal for int() with base 10: ' '"
     ]
    }
   ],
   "source": [
    "def scal(k,n):\n",
    "    S=0\n",
    "    K=k.split()\n",
    "    N=n.split()\n",
    "    S=int(k[0])*int(n[0])+int(k[1])*int(n[1])+int(k[2])*int(n[2])\n",
    "    return S\n",
    "###\n",
    "def razn(k,n):\n",
    "    K=k.split()\n",
    "    N=n.split()\n",
    "    S=[]\n",
    "    S=S.append(int(k[0])-int(n[0]), int(k[1])-int(n[1]), int(k[2])-int(n[2]))  \n",
    "    return S\n",
    "###\n",
    "def SUMM(k,n):\n",
    "    K=k.split()\n",
    "    N=n.split()\n",
    "    S=[]\n",
    "    S=S.append(int(k[0])+int(n[0]), int(k[1])+int(n[1]), int(k[2])+int(n[2]))  \n",
    "    return S\n",
    "###\n",
    "\n",
    "k=input()\n",
    "n=input()\n",
    "print(scal(k,n))\n",
    "\n"
   ]
  },
  {
   "cell_type": "markdown",
   "metadata": {},
   "source": [
    "# Задача 2\n",
    "Напишите программу, упорядочивающую список списков по возрастанию суммы элементов внутренних списков. В решении используйте анонимную функцию. На вход сначала подается число списков `N`, а затем `N` строк, в каждой из которой некоторое количество вещественных чисел, разделенных пробелами.\n",
    "\n",
    "| <font size=3>входные данные</font> | <font size=3>выходные данные</font> |\n",
    "| :---: | :---: |\n",
    "| <font size=3>2<br>1 1<br>1 -1</font> | <font size=3>[[1.0, -1.0], [1.0, 1.0]]</font> |\n",
    "| <font size=3>3<br>-2 3 5<br>-4.2 6 0 3<br>3 0.5 3 -1.1</font> | <font size=3>[[-4.2, 6.0, 0.0, 3.0], [3.0, 0.5, 3.0, -1.1], [-2.0, 3.0, 5.0]]</font> |\n",
    "\n",
    "### Критерии\n",
    "| <font size=3>баллы</font> | <font size=3>критерий</font> |\n",
    "| :---: | :---: |\n",
    "| <font size=3>0</font> | <font size=3>решение содержит ошибку</font> |\n",
    "| <font size=3>1</font> | <font size=3>решение верно, но не соответствует требованиям, предъявляемым к решению, оцениваемому в 2 балла</font> |\n",
    "| <font size=3>2</font> | <font size=3>решение верно, и в нем используются анонимные функции</font> |"
   ]
  },
  {
   "cell_type": "code",
   "execution_count": null,
   "metadata": {
    "collapsed": true
   },
   "outputs": [],
   "source": []
  },
  {
   "cell_type": "markdown",
   "metadata": {},
   "source": [
    "# Задача 3\n",
    "Напишите программу, которая сначала заполняет словарь, в котором ключами и значениями являются строки, а затем печатает значения по ключам. При заполнении словаря на вход программе подаются строки, состоящие из двух слов, разделенных пробелом. Первое слово в такой строке является ключом, а второе - значением. Заполнение словаря продолжается до тех пор, пока не введена строка `\"STOP\"`. Далее программа по очереди считывает ключи к созданному словарю. Если введенный ключ присутствует в словаре, печатается соответствующее значение, в противном случае печатается строка `\"Такого ключа нет\"`. Программа должна завершаться при введении строки `\"STOP\"`.\n",
    "\n",
    "| <font size=3>входные данные</font> | <font size=3>выходные данные</font> |\n",
    "| :---: | :---: |\n",
    "| <font size=3>Петров Иван<br>Иванов Федор<br>Смирнов Николай<br>STOP<br>Иванов<br>Смирнов<br>STOP</font> | <font size=3>Федор<br>Николай</font> |\n",
    "\n",
    "### Критерии\n",
    "| <font size=3>баллы</font> | <font size=3>критерий</font> |\n",
    "| :---: | :---: |\n",
    "| <font size=3>0</font> | <font size=3>решение содержит ошибку</font> |\n",
    "| <font size=3>2</font> | <font size=3>решение верно</font> |"
   ]
  },
  {
   "cell_type": "code",
   "execution_count": null,
   "metadata": {},
   "outputs": [],
   "source": [
    "d = dict()\n",
    "s=[]\n",
    "a=input()\n",
    "while a!=\"STOP\":    \n",
    "    s=a.split()\n",
    "    d[s[0]] = s[1]\n",
    "    a=input()\n",
    "print(d)\n",
    "\n",
    "k=int(input())\n",
    "if k in d:\n",
    "    print(k)\n",
    "else:\n",
    "    print(\"Такого ключа нет\")"
   ]
  },
  {
   "cell_type": "code",
   "execution_count": null,
   "metadata": {},
   "outputs": [],
   "source": []
  }
 ],
 "metadata": {
  "kernelspec": {
   "display_name": "Python 3",
   "language": "python",
   "name": "python3"
  },
  "language_info": {
   "codemirror_mode": {
    "name": "ipython",
    "version": 3
   },
   "file_extension": ".py",
   "mimetype": "text/x-python",
   "name": "python",
   "nbconvert_exporter": "python",
   "pygments_lexer": "ipython3",
   "version": "3.6.6"
  }
 },
 "nbformat": 4,
 "nbformat_minor": 2
}
