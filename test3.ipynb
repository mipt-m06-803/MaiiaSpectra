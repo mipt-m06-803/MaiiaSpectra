{
 "cells": [
  {
   "cell_type": "code",
   "execution_count": 3,
   "metadata": {},
   "outputs": [
    {
     "name": "stdout",
     "output_type": "stream",
     "text": [
      "cbb\n",
      "False\n"
     ]
    }
   ],
   "source": [
    "s=input()\n",
    "M=70000\n",
    "k=0\n",
    "for i in range (len(s)):\n",
    "    if ord(s[i])<M:\n",
    "        M=ord(s[i])\n",
    "    else:\n",
    "        k=k+1\n",
    "if k==0:\n",
    "    print('True')\n",
    "else:\n",
    "    print('False')\n"
   ]
  },
  {
   "cell_type": "code",
   "execution_count": null,
   "metadata": {},
   "outputs": [],
   "source": [
    "l=[]\n",
    "while s!='STOP':\n",
    "    s=input()\n",
    "    if \n",
    "    l=l.append(s)\n",
    "    "
   ]
  }
 ],
 "metadata": {
  "kernelspec": {
   "display_name": "Python 3",
   "language": "python",
   "name": "python3"
  },
  "language_info": {
   "codemirror_mode": {
    "name": "ipython",
    "version": 3
   },
   "file_extension": ".py",
   "mimetype": "text/x-python",
   "name": "python",
   "nbconvert_exporter": "python",
   "pygments_lexer": "ipython3",
   "version": "3.6.6"
  }
 },
 "nbformat": 4,
 "nbformat_minor": 2
}
