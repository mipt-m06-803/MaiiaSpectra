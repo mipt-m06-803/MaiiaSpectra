{
 "cells": [
  {
   "cell_type": "markdown",
   "metadata": {},
   "source": [
    "# Задача 1. Генераторы списков\n",
    "\n",
    "1. Создайте список степеней числа 3 с нечетными показателями от 1 до 101 включительно. \n",
    "\n",
    "2. Создайте список степеней числа 3 с нечетными показателями от 1 до 101 включительно таких, что первые две цифры в их записи равны `2` и `1` (например 2187 подходит). \n",
    "\n",
    "Программы ничего не получают на вход и ничего не печатают. \n",
    "\n",
    "### Критерии\n",
    "\n",
    "За правильную реализацию каждого из генераторов присуждается 1 балл. **Решения должны укладываться в одну строчку.**"
   ]
  },
  {
   "cell_type": "code",
   "execution_count": 4,
   "metadata": {},
   "outputs": [],
   "source": [
    "l=[3**i for i in range(1, 101, 2)]"
   ]
  },
  {
   "cell_type": "code",
   "execution_count": 8,
   "metadata": {},
   "outputs": [
    {
     "name": "stdout",
     "output_type": "stream",
     "text": [
      "[2187, 2153693963075557766310747, 2120895147045314119491609587512844743630072107]\n"
     ]
    }
   ],
   "source": [
    "l=[3**i for i in range(1, 101, 2)]\n",
    "l2=[]\n",
    "for elem in l:\n",
    "    if str(elem)[:2]=='21':\n",
    "        l2.append(elem)\n",
    "print(l2)"
   ]
  },
  {
   "cell_type": "markdown",
   "metadata": {},
   "source": [
    "# Задача 2. Генератор словарей\n",
    "\n",
    "В следующей клетке приведен код, с помощью которого создается словарь `d`. Измените его так, чтобы словарь создавался с помощью генератора списка.\n",
    "\n",
    "### Критерии\n",
    "\n",
    "За правильную реализацию генератора словаря присуждается 1 балл."
   ]
  },
  {
   "cell_type": "code",
   "execution_count": 9,
   "metadata": {},
   "outputs": [
    {
     "name": "stdout",
     "output_type": "stream",
     "text": [
      "1\n",
      "2\n",
      "3\n",
      "4\n",
      "5\n",
      "6\n",
      "7\n",
      "8\n",
      "9\n",
      "10\n",
      "{'1': '2', '3': '4', '5': '6', '7': '8', '9': '10'}\n"
     ]
    }
   ],
   "source": [
    "L = [input() for _ in range(10)]\n",
    "\n",
    "d = {}\n",
    "for i in range(len(L) // 2):\n",
    "    d[L[2*i]] = L[2*i+1]\n",
    "    \n",
    "print(d)"
   ]
  },
  {
   "cell_type": "code",
   "execution_count": 13,
   "metadata": {},
   "outputs": [
    {
     "name": "stdout",
     "output_type": "stream",
     "text": [
      "1\n",
      "2\n",
      "3\n",
      "4\n",
      "5\n",
      "6\n",
      "7\n",
      "8\n",
      "9\n",
      "10\n",
      "{'1': '2', '2': '3', '3': '4', '4': '5', '5': '6', '6': '7', '7': '8', '8': '9', '9': '10', '10': '11'}\n"
     ]
    }
   ],
   "source": [
    "L = [input() for _ in range(10)]\n",
    "d = {el : str(int(el)+1) for el in L}\n",
    "print(d)"
   ]
  },
  {
   "cell_type": "markdown",
   "metadata": {},
   "source": [
    "### Задача 3. Множественное присваивание\n",
    "\n",
    "Замените код в теле функции одним множественным присваиванием. **Запрещается менять инструкцию return.**"
   ]
  },
  {
   "cell_type": "code",
   "execution_count": 12,
   "metadata": {},
   "outputs": [
    {
     "name": "stdout",
     "output_type": "stream",
     "text": [
      "(1, 2, 3)\n"
     ]
    }
   ],
   "source": [
    "def f(a, b, c):\n",
    "    a = a + b\n",
    "    b = a - b\n",
    "    a = a - b\n",
    "    c = a + c\n",
    "    a = c - a\n",
    "    c = c - a\n",
    "    return a, b, c\n",
    "print(f(2, 3, 1))"
   ]
  },
  {
   "cell_type": "code",
   "execution_count": 14,
   "metadata": {},
   "outputs": [
    {
     "name": "stdout",
     "output_type": "stream",
     "text": [
      "(2, 3, 1)\n"
     ]
    }
   ],
   "source": [
    "def f(a, b, c):\n",
    "    a, b, c= b, c, a    \n",
    "    return a, b, c\n",
    "print(f(1,2,3))"
   ]
  },
  {
   "cell_type": "markdown",
   "metadata": {},
   "source": [
    "# Задача 4. Перестановка\n",
    "\n",
    "Переставьте соседние элементы списка. На вход подается список целых чисел в виде строки, в которой между числами стоят пробелы.\n",
    "\n",
    "| <font size=3>Входные данные</font> | <font size=3>Выходные данные</font>    |\n",
    "| :--- | :--- |\n",
    "| <font size=3>1 2 3 4 5</font> | <font size=3>2 1 4 3 5</font> |\n",
    "\n",
    "### Критерии\n",
    "| <font size=3>баллы</font> | <font size=3>критерий</font> |\n",
    "| :---: | :---: |\n",
    "| <font size=3>0</font> | <font size=3>решение содержит ошибку</font> |\n",
    "| <font size=3>1</font> | <font size=3>решение верно, но не соответствует требованиям к решению, оцениваемому в 2 балла</font> |\n",
    "| <font size=3>2</font> | <font size=3>решение верно и в нем используется множественное присваивание</font> |"
   ]
  },
  {
   "cell_type": "code",
   "execution_count": 2,
   "metadata": {},
   "outputs": [
    {
     "name": "stdout",
     "output_type": "stream",
     "text": [
      "1 2 3 4 5\n",
      "2 1 4 3 5\n"
     ]
    }
   ],
   "source": [
    "s=input()\n",
    "l=s.split()\n",
    "s1=''\n",
    "for i in range(len(l) // 2):\n",
    "    l[2*i], l[2*i+1] = l[2*i+1], l[2*i]\n",
    "s1=' '.join(l)\n",
    "print(s1)"
   ]
  },
  {
   "cell_type": "markdown",
   "metadata": {},
   "source": [
    "# Задача 5. Из симметричной троичной системы счисления в десятичную\n",
    "\n",
    "Перевидите число из [симметричной троичной](https://ru.wikipedia.org/wiki/%D0%A2%D1%80%D0%BE%D0%B8%D1%87%D0%BD%D0%B0%D1%8F_%D1%81%D0%B8%D1%81%D1%82%D0%B5%D0%BC%D0%B0_%D1%81%D1%87%D0%B8%D1%81%D0%BB%D0%B5%D0%BD%D0%B8%D1%8F#%D0%A1%D0%B8%D0%BC%D0%BC%D0%B5%D1%82%D1%80%D0%B8%D1%87%D0%BD%D0%B0%D1%8F_%D1%82%D1%80%D0%BE%D0%B8%D1%87%D0%BD%D0%B0%D1%8F_%D1%81%D0%B8%D1%81%D1%82%D0%B5%D0%BC%D0%B0_%D1%81%D1%87%D0%B8%D1%81%D0%BB%D0%B5%D0%BD%D0%B8%D1%8F) системы счисления в десятичную. В качестве цифр предлагается использовать:\n",
    "\n",
    "1. `-` - как -1\n",
    "\n",
    "2. `0` - как 0\n",
    "\n",
    "3. `+` - как +1\n",
    "\n",
    "| <font size=3>входные данные</font> | <font size=3>выходные данные</font> |\n",
    "| :---: | :---: |\n",
    "| <font size=3>+++</font> | <font size=3>13</font> |\n",
    "| <font size=3>-++</font> | <font size=3>-5</font> |\n",
    "| <font size=3>+0</font> | <font size=3>3</font> |\n",
    "| <font size=3>--</font> | <font size=3>-4</font> |\n",
    "| <font size=3>+00++0</font> | <font size=3>255</font> |\n",
    "\n",
    "### Критерии\n",
    "\n",
    "| <font size=3>баллы</font> | <font size=3>критерий</font> |\n",
    "| :---: | :---: |\n",
    "| <font size=3>0</font> | <font size=3>решение содержит ошибку</font> |\n",
    "| <font size=3>4</font> | <font size=3>решение верно</font> |"
   ]
  },
  {
   "cell_type": "code",
   "execution_count": null,
   "metadata": {},
   "outputs": [],
   "source": []
  },
  {
   "cell_type": "code",
   "execution_count": 7,
   "metadata": {},
   "outputs": [
    {
     "name": "stdout",
     "output_type": "stream",
     "text": [
      "+00++0\n",
      "255\n"
     ]
    }
   ],
   "source": [
    "s=input()\n",
    "n=0\n",
    "for idx, c in enumerate(s[::-1]):\n",
    "    if c=='+':\n",
    "        n=n+3**idx\n",
    "    elif c=='-':\n",
    "        n=n-3**idx\n",
    "print(n)"
   ]
  },
  {
   "cell_type": "code",
   "execution_count": null,
   "metadata": {},
   "outputs": [],
   "source": []
  }
 ],
 "metadata": {
  "kernelspec": {
   "display_name": "Python 3",
   "language": "python",
   "name": "python3"
  },
  "language_info": {
   "codemirror_mode": {
    "name": "ipython",
    "version": 3
   },
   "file_extension": ".py",
   "mimetype": "text/x-python",
   "name": "python",
   "nbconvert_exporter": "python",
   "pygments_lexer": "ipython3",
   "version": "3.6.6"
  }
 },
 "nbformat": 4,
 "nbformat_minor": 2
}
