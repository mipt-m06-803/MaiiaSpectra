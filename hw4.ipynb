{
 "cells": [
  {
   "cell_type": "markdown",
   "metadata": {},
   "source": [
    "### Упражнение 1. Простые упражнения на списки\n",
    "\n",
    "Каждая из задач должна быть решена в одну строку. Список чисел `list_` уже введён.\n",
    "\n",
    "Используйте метод [`list.index`](https://docs.python.org/3/library/stdtypes.html#common-sequence-operations) и срезы ([lab2](https://github.com/mipt-cs/python-biocad/blob/master/lab2.ipynb), [питонтьютор](http://pythontutor.ru/lessons/lists/)) и встроенную функцию [`max`](https://docs.python.org/3/library/functions.html#max).\n",
    "\n",
    "1. Найдите наибольший элемент в списке. Выведите значение элемента и его индекс.\n",
    "\n",
    "| <font size=3>входные данные</font> | <font size=3>выходные данные</font> |\n",
    "| :---: | :---: |\n",
    "| <font size=3>1 2 3 2 1</font> | <font size=3>3 2</font> |\n",
    "\n",
    "2. Выведите список в обратном порядке.\n",
    "\n",
    "| <font size=3>входные данные</font> | <font size=3>выходные данные</font> |\n",
    "| :---: | :---: |\n",
    "| <font size=3>1 2 3 4 5</font> | <font size=3>5 4 3 2 1</font> |"
   ]
  },
  {
   "cell_type": "code",
   "execution_count": 5,
   "metadata": {
    "scrolled": true
   },
   "outputs": [
    {
     "name": "stdout",
     "output_type": "stream",
     "text": [
      "1 2 3 2 1\n",
      "3 2\n"
     ]
    }
   ],
   "source": [
    "l=input().split()\n",
    "print(max(l), l.index(max(l)))"
   ]
  },
  {
   "cell_type": "code",
   "execution_count": 9,
   "metadata": {},
   "outputs": [
    {
     "name": "stdout",
     "output_type": "stream",
     "text": [
      "1 2 3 4 5\n",
      "['5', '4', '3', '2', '1']\n"
     ]
    }
   ],
   "source": [
    "l=input().split()\n",
    "l.reverse()\n",
    "print(l)"
   ]
  },
  {
   "cell_type": "markdown",
   "metadata": {},
   "source": [
    "### Упражнение 2. Простые упражнения на генераторы списков\n",
    "\n",
    "Про генераторы списков здесь: [lab2](https://github.com/mipt-cs/python-biocad/blob/master/lab2.ipynb), [питонтьютор](http://pythontutor.ru/lessons/lists/).\n",
    "\n",
    "Задачи должны решаться в одну строчку.\n",
    "\n",
    "1. Выведите элементы списка с четными индексами\n",
    "\n",
    "| <font size=3>входные данные</font> | <font size=3>выходные данные</font> |\n",
    "| :---: | :---: |\n",
    "| <font size=3>2 4 6 8 10</font> | <font size=3>2 6 10</font> |\n",
    "\n",
    "2. Создайте список из первых 20 чисел, кратных 3.\n",
    "\n",
    "3. Создайте список всех делителей натурального числа `N`."
   ]
  },
  {
   "cell_type": "code",
   "execution_count": 10,
   "metadata": {},
   "outputs": [
    {
     "name": "stdout",
     "output_type": "stream",
     "text": [
      "2 4 6 8 10\n",
      "['2', '6', '10']\n"
     ]
    }
   ],
   "source": [
    "l=input().split()\n",
    "print(l[::2])"
   ]
  },
  {
   "cell_type": "code",
   "execution_count": 11,
   "metadata": {},
   "outputs": [
    {
     "name": "stdout",
     "output_type": "stream",
     "text": [
      "[0, 3, 6, 9, 12, 15, 18, 21, 24, 27, 30, 33, 36, 39, 42, 45, 48, 51, 54, 57]\n"
     ]
    }
   ],
   "source": [
    "l=[3*i for i in range(20)]\n",
    "print(l)"
   ]
  },
  {
   "cell_type": "code",
   "execution_count": 14,
   "metadata": {},
   "outputs": [
    {
     "name": "stdout",
     "output_type": "stream",
     "text": [
      "21\n",
      "[21, 7, 3, 1]\n"
     ]
    }
   ],
   "source": [
    "n=int(input())\n",
    "i=n\n",
    "l=[]\n",
    "while i!=0:\n",
    "    if n%i==0:\n",
    "        l.append(i)\n",
    "    i=i-1\n",
    "print(l)"
   ]
  },
  {
   "cell_type": "markdown",
   "metadata": {},
   "source": [
    "### Упражнение 3. Генераторы списков и словарей\n",
    "\n",
    "Ниже приведен код, в котором создается словарь, ключами которого, являются целые числа, а значениями квадраты этих чисел. Перепишите код так, чтобы для преобразования входной строки в список целых чисел использовался генератор списков, а для создания словаря - генератор словарей (см. [lab2](https://github.com/mipt-cs/python-biocad/blob/master/lab2.ipynb)).\n",
    "\n",
    " На вход программе подается строка из целых чисел, разделенных пробелами."
   ]
  },
  {
   "cell_type": "code",
   "execution_count": 15,
   "metadata": {},
   "outputs": [
    {
     "name": "stdout",
     "output_type": "stream",
     "text": [
      "1 2 3 4 5\n",
      "{1: 1, 2: 4, 3: 9, 4: 16, 5: 25}\n"
     ]
    }
   ],
   "source": [
    "l = []\n",
    "for num in input().split():\n",
    "    l.append(int(num))\n",
    "squares = {}\n",
    "for num in l:\n",
    "    squares[num] = num**2\n",
    "print(squares)"
   ]
  },
  {
   "cell_type": "code",
   "execution_count": 24,
   "metadata": {},
   "outputs": [
    {
     "name": "stdout",
     "output_type": "stream",
     "text": [
      "1 2 3 4 5\n",
      "{'1': 1, '2': 4, '3': 9, '4': 16, '5': 25}\n"
     ]
    }
   ],
   "source": [
    "l = input().split()\n",
    "d = {i: int(i)**2 for i in l}\n",
    "print(d)"
   ]
  },
  {
   "cell_type": "code",
   "execution_count": null,
   "metadata": {},
   "outputs": [],
   "source": []
  },
  {
   "cell_type": "markdown",
   "metadata": {},
   "source": [
    "### Упражнение 4. Множественное присваивание.\n",
    "\n",
    "Ниже приведена функция для вычисления n-го числа Фибоначчи. Модифицируйте ее так, чтобы в теле цикла было только одно выражение. Используйте множественное присваивание для `prev` и `next_`."
   ]
  },
  {
   "cell_type": "code",
   "execution_count": 1,
   "metadata": {},
   "outputs": [
    {
     "name": "stdout",
     "output_type": "stream",
     "text": [
      "1\n",
      "1\n",
      "1\n",
      "2\n",
      "3\n",
      "5\n",
      "8\n",
      "13\n",
      "21\n",
      "34\n",
      "55\n",
      "89\n",
      "144\n",
      "233\n",
      "377\n",
      "610\n",
      "987\n",
      "1597\n",
      "2584\n",
      "4181\n"
     ]
    }
   ],
   "source": [
    "def fib(n):\n",
    "    prev = 1\n",
    "    next_ = 1\n",
    "    for _ in range(n - 2):\n",
    "        tmp = prev + next_\n",
    "        prev = next_\n",
    "        next_ = tmp\n",
    "    return next_\n",
    "\n",
    "for i in range(20):\n",
    "    print(fib(i))"
   ]
  },
  {
   "cell_type": "code",
   "execution_count": 9,
   "metadata": {},
   "outputs": [
    {
     "name": "stdout",
     "output_type": "stream",
     "text": [
      "1\n",
      "1\n",
      "2\n",
      "3\n",
      "5\n",
      "8\n",
      "13\n",
      "21\n",
      "34\n"
     ]
    }
   ],
   "source": [
    "def fib(n):\n",
    "    prev = 1\n",
    "    next_ = 1\n",
    "    for _ in range(n - 2):\n",
    "        prev, next_ =  next_, prev + next_\n",
    "    return next_\n",
    "\n",
    "for i in range(1,10):\n",
    "    print(fib(i))"
   ]
  },
  {
   "cell_type": "markdown",
   "metadata": {},
   "source": [
    "### Упражнение 5. Уникальные элементы в списке\n",
    "\n",
    "Выведите элементы, которые встречаются в списке только один раз. Элементы нужно выводить в том порядке, в котором они встречаются в списке. Список `list_` уже введен. Задача решается в одну строчку с использованием генератора списка и метода [`list.count`](https://docs.python.org/3/tutorial/datastructures.html#more-on-lists)."
   ]
  },
  {
   "cell_type": "code",
   "execution_count": 10,
   "metadata": {},
   "outputs": [
    {
     "name": "stdout",
     "output_type": "stream",
     "text": [
      "1 2 3 4 5 2 3 4\n",
      "1\n",
      "5\n"
     ]
    }
   ],
   "source": [
    "list_ = [int(elem) for elem in input().split()]\n",
    "for el in list_:\n",
    "    if list_.count(el)==1:\n",
    "        print(el)"
   ]
  },
  {
   "cell_type": "code",
   "execution_count": 23,
   "metadata": {},
   "outputs": [
    {
     "name": "stdout",
     "output_type": "stream",
     "text": [
      "1 2 3 3 2 4\n"
     ]
    },
    {
     "ename": "NameError",
     "evalue": "name 'elem' is not defined",
     "output_type": "error",
     "traceback": [
      "\u001b[1;31m---------------------------------------------------------------------------\u001b[0m",
      "\u001b[1;31mNameError\u001b[0m                                 Traceback (most recent call last)",
      "\u001b[1;32m<ipython-input-23-9de6e1bcfb9c>\u001b[0m in \u001b[0;36m<module>\u001b[1;34m\u001b[0m\n\u001b[0;32m      1\u001b[0m \u001b[0mlist_\u001b[0m \u001b[1;33m=\u001b[0m \u001b[1;33m[\u001b[0m\u001b[0mint\u001b[0m\u001b[1;33m(\u001b[0m\u001b[0melem\u001b[0m\u001b[1;33m)\u001b[0m \u001b[1;32mfor\u001b[0m \u001b[0melem\u001b[0m \u001b[1;32min\u001b[0m \u001b[0minput\u001b[0m\u001b[1;33m(\u001b[0m\u001b[1;33m)\u001b[0m\u001b[1;33m.\u001b[0m\u001b[0msplit\u001b[0m\u001b[1;33m(\u001b[0m\u001b[1;33m)\u001b[0m\u001b[1;33m]\u001b[0m\u001b[1;33m\u001b[0m\u001b[0m\n\u001b[1;32m----> 2\u001b[1;33m \u001b[0ml2\u001b[0m\u001b[1;33m=\u001b[0m\u001b[1;33m[\u001b[0m\u001b[0melem\u001b[0m \u001b[1;32min\u001b[0m \u001b[0mlist_\u001b[0m\u001b[1;33m.\u001b[0m\u001b[0mcount\u001b[0m\u001b[1;33m(\u001b[0m\u001b[0melem\u001b[0m\u001b[1;33m)\u001b[0m\u001b[1;33m==\u001b[0m\u001b[1;36m1\u001b[0m \u001b[1;33m]\u001b[0m\u001b[1;33m\u001b[0m\u001b[0m\n\u001b[0m\u001b[0;32m      3\u001b[0m \u001b[0mprint\u001b[0m\u001b[1;33m(\u001b[0m\u001b[0ml2\u001b[0m\u001b[1;33m)\u001b[0m\u001b[1;33m\u001b[0m\u001b[0m\n",
      "\u001b[1;31mNameError\u001b[0m: name 'elem' is not defined"
     ]
    }
   ],
   "source": [
    "list_ = [int(elem) for elem in input().split()]\n",
    "l2=[elem in list_.count(elem)==1 ]\n",
    "print(l2)"
   ]
  },
  {
   "cell_type": "markdown",
   "metadata": {},
   "source": [
    "### Упражнение 6. Изменение подсписка\n",
    "На вход программе подаются 2 списка целых чисел `L1` и `L2`. Замените все подсписки `L1`, равные список `L2`, на  записанный в обратном порядке `L2`. Если 2 подсписка из `L1`, равные `L2` пересекаются, заменить следует тот подсписок, находящийся ближе к началу `L1`.\n",
    "\n",
    "\n",
    "Решите задачу двумя способами:\n",
    "  \n",
    "  - с помощью сравнения `L2` со срезами `L1` и изменения списка срезом (см. [lab2](https://github.com/mipt-cs/python-biocad/blob/master/lab2.ipynb), [хабр](https://habr.com/post/319200/#2)),\n",
    "\n",
    "  - преобразованием списков `L1` и `L2` в строки `S1` и `S2` с последующей заменой подстрок строки `S1`, равных `S2`, с помощью метода [`str.replace`](https://docs.python.org/3/library/stdtypes.html#str.replace).\n",
    "  \n",
    "| <font size=3>входные данные</font> | <font size=3>выходные данные</font> |\n",
    "| :---: | :---: |\n",
    "| <font size=3>1 2 3 4 5 6<br>2 3 4</font> | <font size=3>1 4 3 2 5 6</font> |\n",
    "| <font size=3>0 1 2 1 2 1 2 0 0 0<br>1 2 1 2</font> | <font size=3>0 2 1 2 1 1 2 0 0 0</font> |\n",
    "| <font size=3>0 1 2 1 2 2 0 0 0<br>1 2 1 2</font> | <font size=3>0 2 1 2 1 2 0 0 0</font> |\n",
    "| <font size=3>0 1 2 0 1 2 0 1 2 0<br>1 2</font> | <font size=3>0 2 1 0 2 1 0 2 1 0</font> |\n",
    "| <font size=3>0 10 11 12 0 0<br>10 11</font> | <font size=3>0 11 10 12 0 0</font> |"
   ]
  },
  {
   "cell_type": "code",
   "execution_count": null,
   "metadata": {
    "collapsed": true
   },
   "outputs": [],
   "source": [
    "L1 = [int(elem) for elem in input().split()]\n",
    "L2 = [int(elem) for elem in input().split()]\n"
   ]
  },
  {
   "cell_type": "code",
   "execution_count": 25,
   "metadata": {},
   "outputs": [
    {
     "name": "stdout",
     "output_type": "stream",
     "text": [
      "1 2 3 4 5 6\n",
      "2 3 4\n",
      "123456\n",
      "432\n"
     ]
    }
   ],
   "source": [
    "L1 = [int(elem) for elem in input().split()]\n",
    "L2 = [int(elem) for elem in input().split()]\n",
    "s1=''\n",
    "s2=''\n",
    "for i in L1:\n",
    "    s1=s1+str(i)\n",
    "for i in L2:\n",
    "    s2=s2+str(i)\n",
    "if s2 in s1:\n",
    "    s1.replace(s2, s2[::-1])\n",
    "print(s1)\n",
    "print(s2[::-1])"
   ]
  },
  {
   "cell_type": "markdown",
   "metadata": {},
   "source": [
    "### Упражнение 7. Подсчет слов в тексте\n",
    "\n",
    "1. Напишите программу, вычисляющую, сколько раз каждое слово встречается в поданной на вход строке. Результаты подсчета поместите в словарь.\n",
    "\n",
    "2. Распечатайте словарь в порядке убывания встречаемости слов. В каждой строке сначала печатается номер места по встречаемости, которое заняло слово, а затем через пробел сколько раз оно встретилось и само слово. Используйте функцию [`sorted()`](https://docs.python.org/3/library/functions.html#sorted) ([lab2](https://github.com/mipt-cs/python-biocad/blob/master/lab2.ipynb)) и [`enumerate()`](https://docs.python.org/3/library/functions.html#enumerate) ([lab4](https://github.com/mipt-cs/python-biocad/blob/master/lab4.ipynb)).\n",
    "\n",
    "Гарантируется, что входная строка состоит только из букв и пробелов. Перед сортировкой строку следует перевести в нижний регистр с помощью метода [`str.lower`](https://docs.python.org/3/library/stdtypes.html#str.lower).\n",
    "\n",
    "В клетке снизу приведен пример длинной строки для тестирования программы. (Символ `\\` в конце строчки кода используется, чтобы продолжить выражение на следующей строчке.)\n",
    "\n",
    "| <font size=3>входные данные</font> | <font size=3>выходные данные</font> |\n",
    "| :---: | :-------- |\n",
    "| <font size=3>b a a b c a</font> | <font size=3>1 3 a<br>2 2 b<br>3 1 c</font> |\n",
    "| <font size=3>Напишите программу вычисляющую сколько раз каждое слово встречается в поданной на вход тексте строке Результаты подсчета поместите в словарь а затем распечатайте словарь в порядке убывания встречаемости слов В каждой строке сначала печатается номер места по встречаемости которое заняло слово а затем через пробел то сколько раз оно встретилось и само слово  Гарантируется что во входном тексте не будет символов кроме букв и пробелов Перед сортировкой весь текст следует перевести в нижний регистр с помощью метода strlower</font> | <font size=3>1 5 в<br>2 3 слово<br>3 2 а<br>4 2 словарь<br>5 2 и<br>6 2 раз<br>7 2 тексте<br>8 2 строке<br>9 2 сколько<br>10 2 затем<br>11 2 встречаемости<br>12 1 то<br>13 1 вход<br>14 1 кроме<br>15 1 с<br>16 1 букв<br>17 1 перед<br>18 1 весь<br>19 1 сначала<br>20 1 пробелов<br>21 1 не<br>22 1 символов<br>23 1 входном<br>24 1 каждой<br>25 1 сортировкой<br>26 1 порядке<br>27 1 результаты<br>28 1 печатается<br>29 1 перевести<br>30 1 заняло<br>31 1 по<br>32 1 метода<br>33 1 которое<br>34 1 встречается<br>35 1 следует<br>36 1 программу<br>37 1 текст<br>38 1 оно<br>39 1 будет<br>40 1 распечатайте<br>41 1 через<br>42 1 вычисляющую<br>43 1 каждое<br>44 1 на<br>45 1 подсчета<br>46 1 нижний<br>47 1 помощью<br>48 1 пробел<br>49 1 во<br>50 1 регистр<br>51 1 встретилось<br>52 1 поместите<br>53 1 strlower<br>54 1 места<br>55 1 напишите<br>56 1 слов<br>57 1 убывания<br>58 1 поданной<br>59 1 что<br>60 1 само<br>61 1 номер<br>62 1 гарантируется</font> |"
   ]
  },
  {
   "cell_type": "code",
   "execution_count": null,
   "metadata": {
    "collapsed": true
   },
   "outputs": [],
   "source": [
    "text = \"Напишите программу вычисляющую сколько раз каждое слово \\\n",
    "встречается в поданной на вход тексте строке Результаты подсчета \\\n",
    "поместите в словарь а затем распечатайте словарь в порядке убывания \\\n",
    "встречаемости слов В каждой строке сначала печатается номер места \\\n",
    "по встречаемости которое заняло слово а затем через пробел то \\\n",
    "сколько раз оно встретилось и само слово  Гарантируется что во \\\n",
    "входном тексте не будет символов кроме букв и пробелов Перед \\\n",
    "сортировкой весь текст следует перевести в нижний регистр с помощью метода strlower\""
   ]
  },
  {
   "cell_type": "markdown",
   "metadata": {},
   "source": [
    "### Упражнение 8. `xor` для словарей\n",
    "\n",
    "1. Напишите программу, заполняющую 2 словаря `D1` и `D2`, в которых ключами и значениями являются строки. При заполнении словаря на вход программе подаются строки, состоящие из двух слов. Первое слово в такой строке является ключом, а второе - значением. Заполнение словаря продолжается до тех пор, пока не введена строка `\"STOP\"`.\n",
    "\n",
    "2. Далее из элементов `D1` и `D2` составляется третий словарь, причем в нем не должно быть общих ключей `D1` и `D2`. Распечатайте полученный словарь.\n",
    "\n",
    "| <font size=3>входные данные</font> | <font size=3>выходные данные</font> |\n",
    "| :---: | :---: |\n",
    "| <font size=3>a 1<br>b 2<br>STOP<br>b 2<br>c 3<br>STOP</font> | <font size=3>{'a': '1', 'c': '3'}</font> |\n",
    "| <font size=3>a 1<br>b 2<br>STOP<br>b 3<br>c 3<br>STOP</font> | <font size=3>{'a': '1', 'c': '3'}</font> |\n",
    "| <font size=3>a 1<br>b 2<br>STOP<br>c 3<br>d 3<br>STOP</font> | <font size=3>{'a': '1', 'b': '2' 'c': '3', 'd': '3'}</font> |"
   ]
  },
  {
   "cell_type": "markdown",
   "metadata": {},
   "source": [
    "### Упражнение 9. Перевод из десятичной системы счисления в произвольную позиционную\n",
    "\n",
    "1. Напишите программу, переводящую число из десятичной системы счисления в [позиционную систему счисления](https://ru.wikipedia.org/wiki/%D0%9F%D0%BE%D0%B7%D0%B8%D1%86%D0%B8%D0%BE%D0%BD%D0%BD%D0%B0%D1%8F_%D1%81%D0%B8%D1%81%D1%82%D0%B5%D0%BC%D0%B0_%D1%81%D1%87%D0%B8%D1%81%D0%BB%D0%B5%D0%BD%D0%B8%D1%8F) с произвольным основанием от 2 до 36.\n",
    "\n",
    "2. Для хранения [цифр](https://ru.wikipedia.org/wiki/%D0%A6%D0%B8%D1%84%D1%80%D1%8B) используйте список. Автоматизируйте его создание с помощью генераторов списков (см. [lab2](https://github.com/mipt-cs/python-biocad/blob/master/lab2.ipynb) и [питонтьютор](http://pythontutor.ru/lessons/lists/)) и встроенных функций [`chr()`](https://docs.python.org/3/library/functions.html#chr) и [`ord()`](https://docs.python.org/3/library/functions.html#ord) (см. также [lab2](https://github.com/mipt-cs/python-biocad/blob/master/lab2.ipynb)). Символы цифр от 0 до 9 и буквы английского алфавита расположены подряд в таблице unicode (пример внизу).\n",
    "\n",
    "3. Оформите перевод из одной системы счисления в другую в виде функции.\n",
    "\n",
    "4. Создайте словарь, в котором ключами будут цифры от `0` до `Z`, а значениями - соответствующие им числа в десятичной системе счисления. Используйте генераторы словарей.\n",
    "\n",
    "На вход программе подается целое число и основание новой системы счисления.\n",
    "\n",
    "| <font size=3>входные данные</font> | <font size=3>выходные данные</font> |\n",
    "| :---: | :---: |\n",
    "| <font size=3>5 2</font> | <font size=3>101</font> |\n",
    "| <font size=3>-5 2</font> | <font size=3>-101</font> |\n",
    "| <font size=3>5 3</font> | <font size=3>12</font> |\n",
    "| <font size=3>20 16</font> | <font size=3>14</font> |\n",
    "| <font size=3>255 16</font> | <font size=3>FF</font> |\n",
    "| <font size=3>200 20</font> | <font size=3>A0</font> |"
   ]
  },
  {
   "cell_type": "code",
   "execution_count": null,
   "metadata": {},
   "outputs": [],
   "source": []
  },
  {
   "cell_type": "code",
   "execution_count": 14,
   "metadata": {},
   "outputs": [
    {
     "name": "stdout",
     "output_type": "stream",
     "text": [
      "48 49 50 51 52 53 54 55 56 57\n",
      "65 66 67 68 69 70 71 72 73 74 75 76 77 78 79 80 81 82 83 84 85 86 87 88 89 90\n"
     ]
    }
   ],
   "source": [
    "digits = '0123456789'\n",
    "uppercase = 'ABCDEFGHIJKLMNOPQRSTUVWXYZ'\n",
    "print(' '.join([str(ord(digit)) for digit in list(digits)]))\n",
    "print(' '.join([str(ord(char)) for char in list(uppercase)]))"
   ]
  }
 ],
 "metadata": {
  "kernelspec": {
   "display_name": "Python 3",
   "language": "python",
   "name": "python3"
  },
  "language_info": {
   "codemirror_mode": {
    "name": "ipython",
    "version": 3
   },
   "file_extension": ".py",
   "mimetype": "text/x-python",
   "name": "python",
   "nbconvert_exporter": "python",
   "pygments_lexer": "ipython3",
   "version": "3.6.6"
  }
 },
 "nbformat": 4,
 "nbformat_minor": 2
}
